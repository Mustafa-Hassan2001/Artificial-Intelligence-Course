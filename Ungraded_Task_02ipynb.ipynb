{
  "nbformat": 4,
  "nbformat_minor": 0,
  "metadata": {
    "colab": {
      "provenance": []
    },
    "kernelspec": {
      "name": "python3",
      "display_name": "Python 3"
    },
    "language_info": {
      "name": "python"
    }
  },
  "cells": [
    {
      "cell_type": "markdown",
      "source": [
        "**Question no 01**\n",
        "\n",
        "You are given a numpy array of integers. Write a Python function called find_primes that takes this array as input and returns another numpy array containing only the prime numbers from the original array"
      ],
      "metadata": {
        "id": "jT26FhyLhOf5"
      }
    },
    {
      "cell_type": "code",
      "execution_count": 3,
      "metadata": {
        "id": "6_aECvUZhH7O",
        "outputId": "1eb03c5f-f702-40fd-929a-615211666444",
        "colab": {
          "base_uri": "https://localhost:8080/"
        }
      },
      "outputs": [
        {
          "output_type": "stream",
          "name": "stdout",
          "text": [
            "[[2 7 2 4 8 6 4 8]]\n",
            "[2 7 2]\n"
          ]
        }
      ],
      "source": [
        "import numpy as np\n",
        "\n",
        "def is_prime(num):\n",
        "    if num < 2:\n",
        "        return False\n",
        "    for i in range(2, int(num**0.5) + 1):\n",
        "        if num % i == 0:\n",
        "            return False\n",
        "    return True\n",
        "\n",
        "def find_primes(arr):\n",
        "    prime = []\n",
        "    for num in arr.flat:\n",
        "        if is_prime(num):\n",
        "            prime.append(num)\n",
        "    return np.array(prime)\n",
        "\n",
        "org_array = np.random.randint(1,10, (1, 8))\n",
        "prime_array = find_primes(org_array)\n",
        "\n",
        "print(org_array)\n",
        "print(prime_array)\n"
      ]
    },
    {
      "cell_type": "markdown",
      "source": [
        "**Question no 02**\n",
        "\n",
        "Create a random array using randint of array size 3X4. Now using seed you need to create the same array again.\n",
        "\n",
        "Using concept of Matrix Addition, Add both the Arrays."
      ],
      "metadata": {
        "id": "uDj3d33dhWlC"
      }
    },
    {
      "cell_type": "code",
      "source": [
        "#Solution\n",
        "np.random.seed(15)\n",
        "x = np.random.randint(1, 10, (3, 4))\n",
        "print(x)\n",
        "\n",
        "np.random.seed(15)\n",
        "y = np.random.randint(0, 10, size=(3, 4))\n",
        "print(y)\n",
        "\n",
        "Addition = x + y\n",
        "print(\"\\n Matrix Addition: \\n\", Addition)\n"
      ],
      "metadata": {
        "id": "3PVOuLtsiANY",
        "outputId": "4bb6e738-b908-4383-c86a-f7772e804384",
        "colab": {
          "base_uri": "https://localhost:8080/"
        }
      },
      "execution_count": 7,
      "outputs": [
        {
          "output_type": "stream",
          "name": "stdout",
          "text": [
            "[[9 6 6 8]\n",
            " [1 8 6 7]\n",
            " [2 8 1 5]]\n",
            "[[8 5 5 7]\n",
            " [0 7 5 6]\n",
            " [1 7 0 4]]\n",
            "\n",
            " Matrix Addition: \n",
            " [[17 11 11 15]\n",
            " [ 1 15 11 13]\n",
            " [ 3 15  1  9]]\n"
          ]
        }
      ]
    },
    {
      "cell_type": "markdown",
      "source": [
        "**Question no 03**\n",
        "\n",
        "Suppose you are rolling a dice, you need to roll the dice.\n",
        "\n",
        "In calculateSum() method you need to calculate the sum of result each time the dice rolled, if result is greater than 25. Print \"I Won\".\n",
        "\n",
        "Note: Use random function for rolling the dice."
      ],
      "metadata": {
        "id": "VAUJKj_IiCdx"
      }
    },
    {
      "cell_type": "code",
      "source": [
        "def calculateSum():\n",
        "    sum = 0\n",
        "    list1 = []\n",
        "    for i in range(1, 7):\n",
        "        x = np.random.randint(1,7)\n",
        "        list1.append(x)\n",
        "    for i in list1:\n",
        "            sum = sum + i\n",
        "\n",
        "    print(list1)\n",
        "    print(sum)\n",
        "    if sum>25:\n",
        "        print(\"I Won\")\n",
        "\n",
        "calculateSum()"
      ],
      "metadata": {
        "id": "5ktmDofMiBhn",
        "outputId": "0807f4bf-736a-4496-8670-5fb1c0ad449d",
        "colab": {
          "base_uri": "https://localhost:8080/"
        }
      },
      "execution_count": 8,
      "outputs": [
        {
          "output_type": "stream",
          "name": "stdout",
          "text": [
            "[2, 6, 4, 5, 6, 5]\n",
            "28\n",
            "I Won\n"
          ]
        }
      ]
    },
    {
      "cell_type": "code",
      "source": [],
      "metadata": {
        "id": "agpQgqGkMtzx"
      },
      "execution_count": null,
      "outputs": []
    }
  ]
}