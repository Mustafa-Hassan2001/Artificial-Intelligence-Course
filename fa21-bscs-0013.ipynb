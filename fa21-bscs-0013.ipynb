{
  "nbformat": 4,
  "nbformat_minor": 0,
  "metadata": {
    "colab": {
      "provenance": []
    },
    "kernelspec": {
      "name": "python3",
      "display_name": "Python 3"
    },
    "language_info": {
      "name": "python"
    }
  },
  "cells": [
    {
      "cell_type": "markdown",
      "source": [
        "Read the file \"Scroe.csv\".\n",
        "\n",
        "Fill the Null or NA values with average of respective student.\n"
      ],
      "metadata": {
        "id": "FfLylTFjphKH"
      }
    },
    {
      "cell_type": "code",
      "source": [
        "import pandas as pd\n",
        "import numpy as np\n",
        "\n",
        "df = pd.read_csv('Score.csv')\n",
        "\n",
        "\n",
        "for index, row in df.iterrows():\n",
        "    mean_score = row[3:].replace(0, np.nan).mean()\n",
        "    df.iloc[index, 3:] = row[3:].replace(0, np.nan).fillna(mean_score)"
      ],
      "metadata": {
        "id": "qJrANXFxsJLV"
      },
      "execution_count": 30,
      "outputs": []
    },
    {
      "cell_type": "markdown",
      "source": [
        "Calculate Avgerage of Each student and store in the column named as \"Avg\""
      ],
      "metadata": {
        "id": "WT6tPlyBp7CV"
      }
    },
    {
      "cell_type": "code",
      "source": [
        "df['Avg'] = df.iloc[:, 3:].mean(axis=1)"
      ],
      "metadata": {
        "id": "UzJpCBagsJhM"
      },
      "execution_count": 31,
      "outputs": []
    },
    {
      "cell_type": "markdown",
      "source": [
        "On the basis of Average, calculate the progress of student.\n",
        "\n",
        "\n",
        "\n",
        "```\n",
        "if average > 5 then set progress to Good,\n",
        "else if average == 5 then progress is average\n",
        "else set progress to below average.\n",
        "```\n",
        "\n"
      ],
      "metadata": {
        "id": "SR1rwRzzqAxW"
      }
    },
    {
      "cell_type": "code",
      "source": [
        "def assign_progress(avg):\n",
        "    if avg > 5:\n",
        "        return 'Good'\n",
        "    elif avg == 5:\n",
        "        return 'Average'\n",
        "    else:\n",
        "        return 'Below Average'\n",
        "\n",
        "df['Progress'] = df['Avg'].apply(assign_progress)"
      ],
      "metadata": {
        "id": "d_m141QCsKGU"
      },
      "execution_count": 32,
      "outputs": []
    },
    {
      "cell_type": "markdown",
      "source": [
        "Transform Categorical values into Numerical values."
      ],
      "metadata": {
        "id": "zuRNNXQPp5wV"
      }
    },
    {
      "cell_type": "code",
      "source": [
        "df['Progress'] = df['Progress'].map({'Good': 2, 'Average': 1, 'Below Average': 0})\n",
        "df = pd.get_dummies(df, columns=['Subject', 'Section'], drop_first=True)\n",
        "\n",
        "print(df.head())"
      ],
      "metadata": {
        "id": "KPT9XWgOsKoU",
        "outputId": "c84cf9e9-b892-4bdf-b548-549b88bf8ae3",
        "colab": {
          "base_uri": "https://localhost:8080/"
        }
      },
      "execution_count": 33,
      "outputs": [
        {
          "output_type": "stream",
          "name": "stdout",
          "text": [
            "   S.No   L01   L02   L03   L04    L05   L06       Avg  Progress  \\\n",
            "0     1   6.0   6.0  10.0   5.0  10.00  6.50  7.250000         2   \n",
            "1     2  10.0  10.0  10.0   9.0  10.00  7.00  9.333333         2   \n",
            "2     3   7.0   7.0  10.0   9.0  10.00  8.60  8.600000         2   \n",
            "3     4   9.0   7.0  10.0   7.0  10.00  6.00  8.166667         2   \n",
            "4     5   3.0  10.0  10.0  10.0   8.25  8.25  8.250000         2   \n",
            "\n",
            "   Subject_Introduction to Computing Lab  Subject_Object Oriented Programming  \\\n",
            "0                                   True                                False   \n",
            "1                                   True                                False   \n",
            "2                                   True                                False   \n",
            "3                                   True                                False   \n",
            "4                                   True                                False   \n",
            "\n",
            "   Section_AM  Section_BM  Section_CM  Section_DM  Section_EM  \n",
            "0       False       False       False        True       False  \n",
            "1       False       False       False        True       False  \n",
            "2       False       False       False        True       False  \n",
            "3       False       False       False        True       False  \n",
            "4       False       False       False        True       False  \n"
          ]
        }
      ]
    },
    {
      "cell_type": "markdown",
      "source": [
        "Set the s to all the columns except s.no and progress.\n",
        "\n",
        "Set the label variable to progress.\n",
        "\n",
        "Split the dataset into test and train.\n",
        "  1. 1st time train set is set to 70 and test 30\n",
        "  2. For second time split into 0.20\n",
        "  3. For third time split into 1:3\n"
      ],
      "metadata": {
        "id": "gBwb4HqFqWu2"
      }
    },
    {
      "cell_type": "code",
      "source": [
        "from sklearn.model_selection import train_test_split\n",
        "\n",
        "# Feature set and labels\n",
        "X = df.drop(['S.No', 'Progress'], axis=1)\n",
        "y = df['Progress']\n",
        "\n",
        "# Split the data into training and testing sets\n",
        "splits = [\n",
        "    train_test_split(X, y, test_size=0.30, random_state=42),\n",
        "    train_test_split(X, y, test_size=0.20, random_state=42),\n",
        "    train_test_split(X, y, test_size=0.25, random_state=42)  # 1:3 ratio, i.e., 25% test size\n",
        "]\n"
      ],
      "metadata": {
        "id": "aD3DwTwVsLRc"
      },
      "execution_count": 34,
      "outputs": []
    },
    {
      "cell_type": "markdown",
      "source": [
        "Apply all the Machine algorithm we had covered in our course to predict the progress of student.\n"
      ],
      "metadata": {
        "id": "W3y9LG3krLnU"
      }
    },
    {
      "cell_type": "code",
      "source": [
        "from sklearn.linear_model import LogisticRegression\n",
        "from sklearn.metrics import accuracy_score, classification_report\n",
        "import matplotlib.pyplot as plt\n",
        "\n",
        "results = []\n",
        "\n",
        "for i, (X_train, X_test, y_train, y_test) in enumerate(splits):\n",
        "    model = LogisticRegression(max_iter=200)\n",
        "    model.fit(X_train, y_train)\n",
        "    y_pred = model.predict(X_test)\n",
        "\n",
        "    accuracy = accuracy_score(y_test, y_pred)\n",
        "    report = classification_report(y_test, y_pred, output_dict=True)\n",
        "\n",
        "    results.append((accuracy, report))\n",
        "    print(f\"Logistic Regression - Split {i+1} - Accuracy: {accuracy}\")\n",
        "    print(pd.DataFrame(report).transpose())\n",
        "\n",
        "accuracies = [result[0] for result in results]\n",
        "\n",
        "plt.figure(figsize=(10, 6))\n",
        "plt.plot([1, 2, 3], accuracies, marker='o', linestyle='-', color='b')\n",
        "plt.title('Logistic Regression Accuracy on Different Splits')\n",
        "plt.xlabel('Split Number')\n",
        "plt.ylabel('Accuracy')\n",
        "plt.xticks([1, 2, 3])\n",
        "plt.ylim(0, 1)\n",
        "plt.grid(True)\n",
        "plt.show()\n"
      ],
      "metadata": {
        "id": "PRfk3XfJsME-",
        "outputId": "061848fa-977b-4bcf-9023-e865403b618a",
        "colab": {
          "base_uri": "https://localhost:8080/",
          "height": 1000
        }
      },
      "execution_count": 35,
      "outputs": [
        {
          "output_type": "stream",
          "name": "stderr",
          "text": [
            "/usr/local/lib/python3.10/dist-packages/sklearn/metrics/_classification.py:1344: UndefinedMetricWarning: Precision and F-score are ill-defined and being set to 0.0 in labels with no predicted samples. Use `zero_division` parameter to control this behavior.\n",
            "  _warn_prf(average, modifier, msg_start, len(result))\n",
            "/usr/local/lib/python3.10/dist-packages/sklearn/metrics/_classification.py:1344: UndefinedMetricWarning: Precision and F-score are ill-defined and being set to 0.0 in labels with no predicted samples. Use `zero_division` parameter to control this behavior.\n",
            "  _warn_prf(average, modifier, msg_start, len(result))\n",
            "/usr/local/lib/python3.10/dist-packages/sklearn/metrics/_classification.py:1344: UndefinedMetricWarning: Precision and F-score are ill-defined and being set to 0.0 in labels with no predicted samples. Use `zero_division` parameter to control this behavior.\n",
            "  _warn_prf(average, modifier, msg_start, len(result))\n"
          ]
        },
        {
          "output_type": "stream",
          "name": "stdout",
          "text": [
            "Logistic Regression - Split 1 - Accuracy: 0.9607843137254902\n",
            "              precision    recall  f1-score    support\n",
            "0              1.000000  1.000000  1.000000   1.000000\n",
            "1              0.000000  0.000000  0.000000   2.000000\n",
            "2              0.960000  1.000000  0.979592  48.000000\n",
            "accuracy       0.960784  0.960784  0.960784   0.960784\n",
            "macro avg      0.653333  0.666667  0.659864  51.000000\n",
            "weighted avg   0.923137  0.960784  0.941577  51.000000\n",
            "Logistic Regression - Split 2 - Accuracy: 1.0\n",
            "              precision  recall  f1-score  support\n",
            "0                   1.0     1.0       1.0      1.0\n",
            "1                   1.0     1.0       1.0      1.0\n",
            "2                   1.0     1.0       1.0     32.0\n",
            "accuracy            1.0     1.0       1.0      1.0\n",
            "macro avg           1.0     1.0       1.0     34.0\n",
            "weighted avg        1.0     1.0       1.0     34.0\n"
          ]
        },
        {
          "output_type": "stream",
          "name": "stderr",
          "text": [
            "/usr/local/lib/python3.10/dist-packages/sklearn/metrics/_classification.py:1344: UndefinedMetricWarning: Precision and F-score are ill-defined and being set to 0.0 in labels with no predicted samples. Use `zero_division` parameter to control this behavior.\n",
            "  _warn_prf(average, modifier, msg_start, len(result))\n",
            "/usr/local/lib/python3.10/dist-packages/sklearn/metrics/_classification.py:1344: UndefinedMetricWarning: Precision and F-score are ill-defined and being set to 0.0 in labels with no predicted samples. Use `zero_division` parameter to control this behavior.\n",
            "  _warn_prf(average, modifier, msg_start, len(result))\n",
            "/usr/local/lib/python3.10/dist-packages/sklearn/metrics/_classification.py:1344: UndefinedMetricWarning: Precision and F-score are ill-defined and being set to 0.0 in labels with no predicted samples. Use `zero_division` parameter to control this behavior.\n",
            "  _warn_prf(average, modifier, msg_start, len(result))\n"
          ]
        },
        {
          "output_type": "stream",
          "name": "stdout",
          "text": [
            "Logistic Regression - Split 3 - Accuracy: 0.9534883720930233\n",
            "              precision    recall  f1-score    support\n",
            "0              1.000000  1.000000  1.000000   1.000000\n",
            "1              0.000000  0.000000  0.000000   2.000000\n",
            "2              0.952381  1.000000  0.975610  40.000000\n",
            "accuracy       0.953488  0.953488  0.953488   0.953488\n",
            "macro avg      0.650794  0.666667  0.658537  43.000000\n",
            "weighted avg   0.909192  0.953488  0.930800  43.000000\n"
          ]
        },
        {
          "output_type": "display_data",
          "data": {
            "text/plain": [
              "<Figure size 1000x600 with 1 Axes>"
            ],
            "image/png": "[encoded data removed]"
          },
          "metadata": {}
        }
      ]
    },
    {
      "cell_type": "markdown",
      "source": [
        "Self Learn:\n",
        "\n",
        "Learn a new Machine Learning Algorithm Which is not covered in our course and implement it on our score dataset for the prediction of Progress of student."
      ],
      "metadata": {
        "id": "N5oATq64rYEc"
      }
    },
    {
      "cell_type": "code",
      "source": [
        "from sklearn.ensemble import GradientBoostingClassifier\n",
        "\n",
        "# Applying Gradient Boosting\n",
        "gb_results = []\n",
        "\n",
        "for i, (X_train, X_test, y_train, y_test) in enumerate(splits):\n",
        "    model = GradientBoostingClassifier()\n",
        "    model.fit(X_train, y_train)\n",
        "    y_pred = model.predict(X_test)\n",
        "\n",
        "    accuracy = accuracy_score(y_test, y_pred)\n",
        "    report = classification_report(y_test, y_pred, output_dict=True)\n",
        "\n",
        "    gb_results.append((accuracy, report))\n",
        "    print(f\"Gradient Boosting - Split {i+1} - Accuracy: {accuracy}\")\n",
        "    print(pd.DataFrame(report).transpose())\n"
      ],
      "metadata": {
        "id": "Upi2065dsMZU",
        "outputId": "b6cfdafe-bc81-42d0-bf19-21f8441c2949",
        "colab": {
          "base_uri": "https://localhost:8080/"
        }
      },
      "execution_count": 39,
      "outputs": [
        {
          "output_type": "stream",
          "name": "stdout",
          "text": [
            "Gradient Boosting - Split 1 - Accuracy: 1.0\n",
            "              precision  recall  f1-score  support\n",
            "0                   1.0     1.0       1.0      1.0\n",
            "1                   1.0     1.0       1.0      2.0\n",
            "2                   1.0     1.0       1.0     48.0\n",
            "accuracy            1.0     1.0       1.0      1.0\n",
            "macro avg           1.0     1.0       1.0     51.0\n",
            "weighted avg        1.0     1.0       1.0     51.0\n",
            "Gradient Boosting - Split 2 - Accuracy: 1.0\n",
            "              precision  recall  f1-score  support\n",
            "0                   1.0     1.0       1.0      1.0\n",
            "1                   1.0     1.0       1.0      1.0\n",
            "2                   1.0     1.0       1.0     32.0\n",
            "accuracy            1.0     1.0       1.0      1.0\n",
            "macro avg           1.0     1.0       1.0     34.0\n",
            "weighted avg        1.0     1.0       1.0     34.0\n",
            "Gradient Boosting - Split 3 - Accuracy: 1.0\n",
            "              precision  recall  f1-score  support\n",
            "0                   1.0     1.0       1.0      1.0\n",
            "1                   1.0     1.0       1.0      2.0\n",
            "2                   1.0     1.0       1.0     40.0\n",
            "accuracy            1.0     1.0       1.0      1.0\n",
            "macro avg           1.0     1.0       1.0     43.0\n",
            "weighted avg        1.0     1.0       1.0     43.0\n"
          ]
        }
      ]
    },
    {
      "cell_type": "markdown",
      "source": [
        "#Do's\n",
        "\n",
        "For each model , use each spliting and get three different results.\n",
        "\n",
        "Compare the all the model on each spliting.\n",
        "\n",
        "Result : generate result on the basis of our your thinking.\n",
        "\n",
        "Visualize your dataset on the each model using matplotlib."
      ],
      "metadata": {
        "id": "VL1lzF0Xrph1"
      }
    },
    {
      "cell_type": "code",
      "source": [
        "# Visualization of accuracies for Gradient Boosting\n",
        "gb_accuracies = [result[0] for result in gb_results]\n",
        "\n",
        "plt.figure(figsize=(10, 6))\n",
        "plt.plot([1, 2, 3], gb_accuracies, marker='o', linestyle='-', color='g')\n",
        "plt.title('Gradient Boosting Accuracy on Different Splits')\n",
        "plt.xlabel('Split Number')\n",
        "plt.ylabel('Accuracy')\n",
        "plt.xticks([1, 2, 3])\n",
        "plt.ylim(0, 1)\n",
        "plt.grid(True)\n",
        "plt.show()"
      ],
      "metadata": {
        "id": "PbSHof2x7q8m",
        "outputId": "a3e91661-c733-4d95-e822-c811eaabfcc8",
        "colab": {
          "base_uri": "https://localhost:8080/",
          "height": 564
        }
      },
      "execution_count": 40,
      "outputs": [
        {
          "output_type": "display_data",
          "data": {
            "text/plain": [
              "<Figure size 1000x600 with 1 Axes>"
            ],
            "image/png": "[encoded data removed]"
          },
          "metadata": {}
        }
      ]
    },
    {
      "cell_type": "code",
      "source": [],
      "metadata": {
        "id": "lLRb6Rjx8exQ"
      },
      "execution_count": null,
      "outputs": []
    }
  ]
}