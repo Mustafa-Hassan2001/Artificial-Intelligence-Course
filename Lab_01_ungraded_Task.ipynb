{
  "nbformat": 4,
  "nbformat_minor": 0,
  "metadata": {
    "colab": {
      "provenance": []
    },
    "kernelspec": {
      "name": "python3",
      "display_name": "Python 3"
    },
    "language_info": {
      "name": "python"
    }
  },
  "cells": [
    {
      "cell_type": "markdown",
      "source": [
        "# LIST\n",
        "\n",
        "\n",
        "create a list [1, 2, 3, 4, 5] named as my_list.\n",
        "\n",
        "Add an element \"6\" to the end of the list.\n",
        "\n",
        "Insert an element \"7\" at a specific index \"2\" (index, value).\n",
        "\n",
        "Remove the first occurrence of a value \"3\".\n",
        "\n",
        "Remove and return the last element.\n",
        "\n",
        "Extract elements from index 1 to 3 (inclusive)."
      ],
      "metadata": {
        "id": "-WXgKzWA1d35"
      }
    },
    {
      "cell_type": "code",
      "execution_count": null,
      "metadata": {
        "id": "izUBMbWt1UOU"
      },
      "outputs": [],
      "source": [
        "List1 = [1, 2, 3, 4, 5]\n",
        "List1.append(6)\n"
      ]
    },
    {
      "cell_type": "code",
      "source": [
        "List1.insert(2,7)\n",
        "List1"
      ],
      "metadata": {
        "id": "2XPhI02m14XJ"
      },
      "execution_count": null,
      "outputs": []
    },
    {
      "cell_type": "code",
      "source": [
        "List1.remove(3)"
      ],
      "metadata": {
        "id": "QRFX-ZC_19tW"
      },
      "execution_count": 12,
      "outputs": []
    },
    {
      "cell_type": "code",
      "source": [
        "List1.pop()"
      ],
      "metadata": {
        "id": "v8HYeXeU1_NW"
      },
      "execution_count": null,
      "outputs": []
    },
    {
      "cell_type": "code",
      "source": [
        "List1[1:4]"
      ],
      "metadata": {
        "id": "j4eC5EoK22W0"
      },
      "execution_count": null,
      "outputs": []
    },
    {
      "cell_type": "markdown",
      "source": [
        "# SET\n",
        "create two sets set1 with values {1, 2, 3, 6, 7} and set2 with values {3, 4, 5, 6}.\n",
        "\n",
        "Also find (((set1 difference set2) union set2) Intersection set1) and store result in set3"
      ],
      "metadata": {
        "id": "WYWLTYhS3Jhl"
      }
    },
    {
      "cell_type": "code",
      "source": [
        "set1 = {1, 2, 3, 6, 7}\n",
        "set2 = {3, 4, 5, 6}"
      ],
      "metadata": {
        "id": "jwr5JkG729m9"
      },
      "execution_count": 17,
      "outputs": []
    },
    {
      "cell_type": "code",
      "source": [
        "diffset = set1.difference(set2)"
      ],
      "metadata": {
        "id": "K6oDuxyd3OFv"
      },
      "execution_count": 20,
      "outputs": []
    },
    {
      "cell_type": "code",
      "source": [
        "uniset = diffset.union(set2)"
      ],
      "metadata": {
        "id": "sdeyKI-53uJK"
      },
      "execution_count": 21,
      "outputs": []
    },
    {
      "cell_type": "code",
      "source": [
        "set3 = uniset.intersection(set1)"
      ],
      "metadata": {
        "id": "8_z5Zute4JN1"
      },
      "execution_count": 22,
      "outputs": []
    },
    {
      "cell_type": "markdown",
      "source": [
        "# **FUNCTIONS**\n",
        "\n",
        "Find the maximum length word in a list of words using the max function and a lambda key function."
      ],
      "metadata": {
        "id": "ECt02UR77xcc"
      }
    },
    {
      "cell_type": "code",
      "source": [
        "namelist = [\"Mustafa\", \"Zayan\", \"Huzaifa\", \"Raza\"]\n",
        "maxlenword = max(namelist, key=lambda word: len(word))\n",
        "print(\"The longest word is:\", maxlenword)"
      ],
      "metadata": {
        "colab": {
          "base_uri": "https://localhost:8080/"
        },
        "id": "JrrMLRB_7xLm",
        "outputId": "4f9590a2-6009-4c8c-99b3-ce60b9642c4f"
      },
      "execution_count": 24,
      "outputs": [
        {
          "output_type": "stream",
          "name": "stdout",
          "text": [
            "The longest word is: Mustafa\n"
          ]
        }
      ]
    },
    {
      "cell_type": "markdown",
      "source": [
        "# **LIST COMPREHENSION**\n",
        "\n",
        "Using List Comprehension concept calculate the length of each word in a list of words.\n",
        "\n",
        "words = [\"apple\", \"banana\", \"cherry\"]\n",
        "\n",
        "output_list = [5, 6, 6]"
      ],
      "metadata": {
        "id": "HMTenIUbB8RQ"
      }
    },
    {
      "cell_type": "code",
      "source": [
        "words = [\"apple\", \"banana\", \"cherry\"]\n",
        "output_list = [len(word) for word in words]\n",
        "print(output_list)"
      ],
      "metadata": {
        "colab": {
          "base_uri": "https://localhost:8080/"
        },
        "id": "9acfudwW4hsC",
        "outputId": "d3cd116c-109f-422a-c6f1-dc115c2be770"
      },
      "execution_count": 7,
      "outputs": [
        {
          "output_type": "stream",
          "name": "stdout",
          "text": [
            "[5, 6, 6]\n"
          ]
        }
      ]
    },
    {
      "cell_type": "markdown",
      "source": [
        "# FILING\n",
        "Resolve the error using try, catch Block\n",
        "\n",
        "```\n",
        "with open(\"myfile.txt\") as f:\n",
        "    for line in f:\n",
        "        print(line)\n",
        "```\n",
        "\n",
        "create a file myfile.txt and dumps set3 and final list in myfile.txt using json library"
      ],
      "metadata": {
        "id": "v5JavkMFY_6Z"
      }
    },
    {
      "cell_type": "code",
      "source": [
        "import json\n",
        "\n",
        "try:\n",
        "    with open(\"myfile.txt\") as f:\n",
        "        for line in f:\n",
        "            print(line)\n",
        "except FileNotFoundError:\n",
        "    print(\"File not found\")\n",
        "\n",
        "set3 = {\"apple\", \"banana\", \"cherry\"}\n",
        "final_list = [5, 6, 6]\n",
        "\n",
        "with open(\"myfile.txt\", \"w\") as f:\n",
        "    json.dump({\"set3\": list(set3), \"final_list\": final_list}, f)\n",
        "\n",
        "print(\"Data dumped into myfile.txt successfully.\")\n"
      ],
      "metadata": {
        "colab": {
          "base_uri": "https://localhost:8080/"
        },
        "id": "9vqWsQOwY0Z6",
        "outputId": "34e76efa-a2a1-4da5-f5c1-5bf4c0f3109d"
      },
      "execution_count": 8,
      "outputs": [
        {
          "output_type": "stream",
          "name": "stdout",
          "text": [
            "{\"set3\": [\"banana\", \"apple\", \"cherry\"], \"final_list\": [5, 6, 6]}\n",
            "Data dumped into myfile.txt successfully.\n"
          ]
        }
      ]
    }
  ]
}