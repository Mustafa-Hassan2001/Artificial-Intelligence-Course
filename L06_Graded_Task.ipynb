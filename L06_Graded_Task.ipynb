{
  "nbformat": 4,
  "nbformat_minor": 0,
  "metadata": {
    "colab": {
      "provenance": []
    },
    "kernelspec": {
      "name": "python3",
      "display_name": "Python 3"
    },
    "language_info": {
      "name": "python"
    }
  },
  "cells": [
    {
      "cell_type": "markdown",
      "source": [
        "Read Data from excercise.csv"
      ],
      "metadata": {
        "id": "tRMOyBGteM17"
      }
    },
    {
      "cell_type": "code",
      "execution_count": 3,
      "metadata": {
        "id": "kY3tAKVheEkh"
      },
      "outputs": [],
      "source": [
        "import pandas as pd\n",
        "\n",
        "df = pd.read_csv('exercise1.csv')"
      ]
    },
    {
      "cell_type": "code",
      "source": [
        "print(df)"
      ],
      "metadata": {
        "id": "K-HycsyqeUzH",
        "outputId": "52687d09-4523-4aae-fb1e-95714f1d16cd",
        "colab": {
          "base_uri": "https://localhost:8080/"
        }
      },
      "execution_count": 4,
      "outputs": [
        {
          "output_type": "stream",
          "name": "stdout",
          "text": [
            "    Visitors  ParkingTkts  AvgTemp\n",
            "0       15.8            8       35\n",
            "1       12.3            6       38\n",
            "2       19.5            9       32\n",
            "3        8.9            4       26\n",
            "4       11.4            6       31\n",
            "5       17.6            9       36\n",
            "6       16.5           10       38\n",
            "7       14.7            3       30\n",
            "8        3.9            1       21\n",
            "9       14.6            9       34\n",
            "10      10.0            7       36\n",
            "11      10.3            6       32\n",
            "12       7.4            2       25\n",
            "13      13.4            6       37\n",
            "14      11.5            7       34\n"
          ]
        }
      ]
    },
    {
      "cell_type": "markdown",
      "source": [
        "Choose Dependent and Independent Variables"
      ],
      "metadata": {
        "id": "-LHgMktpeRZW"
      }
    },
    {
      "cell_type": "code",
      "source": [
        "y = df['Visitors']   #dependent var\n",
        "\n",
        "X = df[['ParkingTkts', 'AvgTemp']]  #independent var"
      ],
      "metadata": {
        "id": "DLOoMI6ieZny"
      },
      "execution_count": 5,
      "outputs": []
    },
    {
      "cell_type": "markdown",
      "source": [
        "Split Your datatset into 1:2 partition"
      ],
      "metadata": {
        "id": "I7Mz1VnBeZ22"
      }
    },
    {
      "cell_type": "code",
      "source": [
        "from sklearn.model_selection import train_test_split\n",
        "\n",
        "X_train, X_test, y_train, y_test = train_test_split(X, y, test_size=0.67, random_state=42)\n",
        "\n",
        "print(X_train.shape[0])\n",
        "print(X_test.shape[0])"
      ],
      "metadata": {
        "id": "PaeZGFt8eh9A",
        "outputId": "e996d3c3-7c9c-4a40-b151-f860eaec739a",
        "colab": {
          "base_uri": "https://localhost:8080/"
        }
      },
      "execution_count": 6,
      "outputs": [
        {
          "output_type": "stream",
          "name": "stdout",
          "text": [
            "4\n",
            "11\n"
          ]
        }
      ]
    },
    {
      "cell_type": "markdown",
      "source": [
        "Train your Regression Model on Training Dataset"
      ],
      "metadata": {
        "id": "yGEeZeADeiWS"
      }
    },
    {
      "cell_type": "code",
      "source": [
        "from sklearn.linear_model import LinearRegression\n",
        "\n",
        "model = LinearRegression()\n",
        "\n",
        "# Train the model on the training dataset\n",
        "model.fit(X_train, y_train)\n",
        "\n",
        "# Print the coefficients\n",
        "print(\"Intercept:\", model.intercept_)\n",
        "print(\"Coefficients:\", model.coef_)"
      ],
      "metadata": {
        "id": "U6SEypWzenZE",
        "outputId": "e080f222-e6c0-4e4e-8e58-375af558dfa3",
        "colab": {
          "base_uri": "https://localhost:8080/"
        }
      },
      "execution_count": 7,
      "outputs": [
        {
          "output_type": "stream",
          "name": "stdout",
          "text": [
            "Intercept: 15.221420256111763\n",
            "Coefficients: [ 2.01140861 -0.51478463]\n"
          ]
        }
      ]
    },
    {
      "cell_type": "markdown",
      "source": [
        "Test your Model using Testing Data Set"
      ],
      "metadata": {
        "id": "3xI7GdpRemMw"
      }
    },
    {
      "cell_type": "code",
      "source": [
        "y_pred = model.predict(X_test)\n",
        "\n",
        "# Display the predicted values\n",
        "print(\"Predicted values:\", y_pred)"
      ],
      "metadata": {
        "id": "72oHJ1lyerkn",
        "outputId": "27b0ef29-d060-434d-81ab-699f21a17a5c",
        "colab": {
          "base_uri": "https://localhost:8080/"
        }
      },
      "execution_count": 8,
      "outputs": [
        {
          "output_type": "stream",
          "name": "stdout",
          "text": [
            "Predicted values: [15.82142026 10.81676368 13.29522701  8.24284051 14.79185099  6.42235157\n",
            " 16.85098952  7.72805588 11.79860303 11.33154831  5.8121071 ]\n"
          ]
        }
      ]
    },
    {
      "cell_type": "markdown",
      "source": [
        "Implement Evaluation Metrices"
      ],
      "metadata": {
        "id": "NbziF6ptemiG"
      }
    },
    {
      "cell_type": "code",
      "source": [
        "from sklearn.metrics import mean_absolute_error, mean_squared_error, r2_score\n",
        "import pandas as pd\n",
        "from sklearn.linear_model import LinearRegression\n",
        "from sklearn.model_selection import train_test_split\n",
        "\n",
        "\n",
        "# Calculate evaluation metrics\n",
        "mae = mean_absolute_error(y_test, y_pred)\n",
        "mse = mean_squared_error(y_test, y_pred)\n",
        "r2 = r2_score(y_test, y_pred)\n",
        "\n",
        "# Display the evaluation metrics\n",
        "print(\"Mean Absolute Error (MAE):\", mae)\n",
        "print(\"Mean Squared Error (MSE):\", mse)\n",
        "print(\"R-squared (R2) Score:\", r2)"
      ],
      "metadata": {
        "id": "PYAtqX0weu3o",
        "outputId": "288c3eec-d11b-42a9-8b86-689a1df7067b",
        "colab": {
          "base_uri": "https://localhost:8080/"
        }
      },
      "execution_count": 9,
      "outputs": [
        {
          "output_type": "stream",
          "name": "stdout",
          "text": [
            "Mean Absolute Error (MAE): 2.836956291671077\n",
            "Mean Squared Error (MSE): 14.171406483257778\n",
            "R-squared (R2) Score: 0.09314270518484113\n"
          ]
        }
      ]
    },
    {
      "cell_type": "markdown",
      "source": [
        "Draw Graph of Predicted and Actual Dependent Values  vs Independent Values"
      ],
      "metadata": {
        "id": "Qs-OIGbIevQ6"
      }
    },
    {
      "cell_type": "code",
      "source": [
        "import matplotlib.pyplot as plt\n",
        "\n",
        "# Plotting actual vs predicted values for the number of visitors\n",
        "plt.figure(figsize=(10, 6))\n",
        "\n",
        "# Plotting actual values\n",
        "plt.scatter(X_test['ParkingTkts'], y_test, color='blue', label='Actual')\n",
        "\n",
        "# Plotting predicted values\n",
        "plt.scatter(X_test['ParkingTkts'], y_pred, color='red', label='Predicted')\n",
        "\n",
        "# Adding labels and title\n",
        "plt.xlabel('Number of Parking Tickets')\n",
        "plt.ylabel('Number of Visitors')\n",
        "plt.title('Actual vs Predicted Number of Visitors (Parking Tickets)')\n",
        "plt.legend()\n",
        "\n",
        "# Show plot\n",
        "plt.show()"
      ],
      "metadata": {
        "id": "O4969NaQ3nan",
        "outputId": "40b0e538-a63d-412d-c4a5-958473902e4a",
        "colab": {
          "base_uri": "https://localhost:8080/",
          "height": 564
        }
      },
      "execution_count": 11,
      "outputs": [
        {
          "output_type": "display_data",
          "data": {
            "text/plain": [
              "<Figure size 1000x600 with 1 Axes>"
            ],
            "image/png": "[encoded data removed]"
          },
          "metadata": {}
        }
      ]
    },
    {
      "cell_type": "code",
      "source": [],
      "metadata": {
        "id": "WoGIEfaZ3n3f"
      },
      "execution_count": null,
      "outputs": []
    }
  ]
}