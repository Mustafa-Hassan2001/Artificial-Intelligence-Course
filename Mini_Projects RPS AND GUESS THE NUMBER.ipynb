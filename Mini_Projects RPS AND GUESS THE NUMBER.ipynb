{
  "nbformat": 4,
  "nbformat_minor": 0,
  "metadata": {
    "colab": {
      "provenance": []
    },
    "kernelspec": {
      "name": "python3",
      "display_name": "Python 3"
    },
    "language_info": {
      "name": "python"
    }
  },
  "cells": [
    {
      "cell_type": "markdown",
      "source": [
        "# **TOPIC-1: List**"
      ],
      "metadata": {
        "id": "P4NyVuTSwKUU"
      }
    },
    {
      "cell_type": "code",
      "execution_count": null,
      "metadata": {
        "colab": {
          "base_uri": "https://localhost:8080/"
        },
        "id": "XXJx9vIWrWuo",
        "outputId": "175ba883-ae44-407a-859f-4d6e6bc2e651"
      },
      "outputs": [
        {
          "output_type": "stream",
          "name": "stdout",
          "text": [
            "['Banana', 'Apple', 'Mango']\n"
          ]
        }
      ],
      "source": [
        "mylist = [\"Banana\", \"Apple\", \"Mango\"]\n",
        "print(mylist)"
      ]
    },
    {
      "cell_type": "code",
      "source": [
        "mylist.append(\"Charry\")"
      ],
      "metadata": {
        "id": "N2MRn_iarlFS"
      },
      "execution_count": null,
      "outputs": []
    },
    {
      "cell_type": "code",
      "source": [
        "print(mylist)"
      ],
      "metadata": {
        "colab": {
          "base_uri": "https://localhost:8080/"
        },
        "id": "BMEiqpmUrq6_",
        "outputId": "616907aa-7449-4f3c-cf11-02c560921a80"
      },
      "execution_count": null,
      "outputs": [
        {
          "output_type": "stream",
          "name": "stdout",
          "text": [
            "['Banana', 'Apple', 'Mango', 'Charry']\n"
          ]
        }
      ]
    },
    {
      "cell_type": "code",
      "source": [
        "mylist.insert(1, \"Buebarry\")\n",
        "print(mylist)"
      ],
      "metadata": {
        "colab": {
          "base_uri": "https://localhost:8080/"
        },
        "id": "LqndOqYZruIH",
        "outputId": "31dc11dc-dee9-4495-efc3-03a5d82c3b85"
      },
      "execution_count": null,
      "outputs": [
        {
          "output_type": "stream",
          "name": "stdout",
          "text": [
            "['Banana', 'Buebarry', 'Apple', 'Mango', 'Charry']\n"
          ]
        }
      ]
    },
    {
      "cell_type": "code",
      "source": [
        "mylist.pop()  #remove last element"
      ],
      "metadata": {
        "colab": {
          "base_uri": "https://localhost:8080/",
          "height": 35
        },
        "id": "N2DlJY_qsSss",
        "outputId": "a800948a-23da-4fd3-e31e-c9ab7fd1e4c1"
      },
      "execution_count": null,
      "outputs": [
        {
          "output_type": "execute_result",
          "data": {
            "text/plain": [
              "'Charry'"
            ],
            "application/vnd.google.colaboratory.intrinsic+json": {
              "type": "string"
            }
          },
          "metadata": {},
          "execution_count": 5
        }
      ]
    },
    {
      "cell_type": "code",
      "source": [
        "print(mylist)"
      ],
      "metadata": {
        "colab": {
          "base_uri": "https://localhost:8080/"
        },
        "id": "ZjdlBkFMsWoz",
        "outputId": "c1af14ae-65b7-40f9-f8de-0ea7b57b6af7"
      },
      "execution_count": null,
      "outputs": [
        {
          "output_type": "stream",
          "name": "stdout",
          "text": [
            "['Banana', 'Buebarry', 'Apple', 'Mango']\n"
          ]
        }
      ]
    },
    {
      "cell_type": "code",
      "source": [
        "mylist.remove(\"Apple\") #remove any spec. ele"
      ],
      "metadata": {
        "id": "N_j4VYZWsbqz"
      },
      "execution_count": null,
      "outputs": []
    },
    {
      "cell_type": "code",
      "source": [
        "print(mylist)\n"
      ],
      "metadata": {
        "colab": {
          "base_uri": "https://localhost:8080/"
        },
        "id": "N9EEwTnpsmNp",
        "outputId": "be4ac3d2-157b-42e4-ee09-3bc0aec03f00"
      },
      "execution_count": null,
      "outputs": [
        {
          "output_type": "stream",
          "name": "stdout",
          "text": [
            "['Banana', 'Buebarry', 'Mango']\n"
          ]
        }
      ]
    },
    {
      "cell_type": "code",
      "source": [
        "mylist.clear() #remove all ele\n",
        "print(mylist)"
      ],
      "metadata": {
        "colab": {
          "base_uri": "https://localhost:8080/"
        },
        "id": "FYfblbFOsnee",
        "outputId": "e14bcf75-5522-48bc-e807-76defb32cdbc"
      },
      "execution_count": null,
      "outputs": [
        {
          "output_type": "stream",
          "name": "stdout",
          "text": [
            "[]\n"
          ]
        }
      ]
    },
    {
      "cell_type": "code",
      "source": [
        "mylist = [4,5,67,23,4,]\n",
        "mylist.sort()\n",
        "print(mylist)"
      ],
      "metadata": {
        "colab": {
          "base_uri": "https://localhost:8080/"
        },
        "id": "2o04XsDLszYz",
        "outputId": "0bce2e4b-aaed-4f98-f3b6-e2ba915fbcc6"
      },
      "execution_count": null,
      "outputs": [
        {
          "output_type": "stream",
          "name": "stdout",
          "text": [
            "[4, 4, 5, 23, 67]\n"
          ]
        }
      ]
    },
    {
      "cell_type": "code",
      "source": [
        "mylist1 = [4,5,67,23,4]\n",
        "mylist2 = sorted(mylist1)\n",
        "print(mylist2)"
      ],
      "metadata": {
        "colab": {
          "base_uri": "https://localhost:8080/"
        },
        "id": "54ggHbqhtEFT",
        "outputId": "0cccb5a2-1a07-489f-bf5a-6643aabcae4e"
      },
      "execution_count": null,
      "outputs": [
        {
          "output_type": "stream",
          "name": "stdout",
          "text": [
            "[4, 4, 5, 23, 67]\n"
          ]
        }
      ]
    },
    {
      "cell_type": "code",
      "source": [
        "mylist = [0] * 5\n",
        "print(mylist)"
      ],
      "metadata": {
        "colab": {
          "base_uri": "https://localhost:8080/"
        },
        "id": "smXHMDigtQHd",
        "outputId": "dcd5388b-30e6-47bd-a272-13d53bc2a657"
      },
      "execution_count": null,
      "outputs": [
        {
          "output_type": "stream",
          "name": "stdout",
          "text": [
            "[0, 0, 0, 0, 0]\n"
          ]
        }
      ]
    },
    {
      "cell_type": "code",
      "source": [
        "new_list = mylist1 + mylist2\n",
        "print(new_list)"
      ],
      "metadata": {
        "colab": {
          "base_uri": "https://localhost:8080/"
        },
        "id": "3TXVsu4kta7z",
        "outputId": "63edab24-7ba3-4fc7-8d56-d964faa6c2ea"
      },
      "execution_count": null,
      "outputs": [
        {
          "output_type": "stream",
          "name": "stdout",
          "text": [
            "[4, 5, 67, 23, 4, 4, 4, 5, 23, 67]\n"
          ]
        }
      ]
    },
    {
      "cell_type": "code",
      "source": [
        "mylisst = [2,3,4,5,67,1,3,7]\n",
        "a = mylisst[1:5]\n",
        "print(a)"
      ],
      "metadata": {
        "colab": {
          "base_uri": "https://localhost:8080/"
        },
        "id": "Y87D8ZyitnES",
        "outputId": "628f77c0-8b89-473b-8fb4-9040be556d3f"
      },
      "execution_count": null,
      "outputs": [
        {
          "output_type": "stream",
          "name": "stdout",
          "text": [
            "[3, 4, 5, 67]\n"
          ]
        }
      ]
    },
    {
      "cell_type": "code",
      "source": [
        "print(mylisst[:5]) #till 4\n",
        "print(mylisst[1:]) #skip 1 and print all\n",
        "print(mylisst[::5]) # start from 1 skip 4\n",
        "print(mylisst[1::]) # skip 1\n",
        "print(mylisst[2::]) # skip till 2\n",
        "print(mylisst[::4]) # start form 1 index skip 3\n",
        "print(mylisst[::-1]) # reverse the list"
      ],
      "metadata": {
        "colab": {
          "base_uri": "https://localhost:8080/"
        },
        "id": "3EzkXAnTt0MQ",
        "outputId": "66192a5a-5b53-43e3-fbe0-f30e7306e7c1"
      },
      "execution_count": null,
      "outputs": [
        {
          "output_type": "stream",
          "name": "stdout",
          "text": [
            "[2, 3, 4, 5, 67]\n",
            "[3, 4, 5, 67, 1, 3, 7]\n",
            "[2, 1]\n",
            "[3, 4, 5, 67, 1, 3, 7]\n",
            "[4, 5, 67, 1, 3, 7]\n",
            "[2, 67]\n",
            "[7, 3, 1, 67, 5, 4, 3, 2]\n"
          ]
        }
      ]
    },
    {
      "cell_type": "code",
      "source": [
        "list_org = [\"abanaa\", \"Apple\", \"orange\"]\n",
        "list1 = list_org  #if use don't copy the changes not effect on org\n",
        "print(list1)\n",
        "list1.append(\"Charry\")\n",
        "print(list1)\n",
        "print(list_org)"
      ],
      "metadata": {
        "colab": {
          "base_uri": "https://localhost:8080/"
        },
        "id": "f-FYWnZiuerB",
        "outputId": "bd4eee0b-9f30-403a-8544-7f1538e2f7e8"
      },
      "execution_count": null,
      "outputs": [
        {
          "output_type": "stream",
          "name": "stdout",
          "text": [
            "['abanaa', 'Apple', 'orange']\n",
            "['abanaa', 'Apple', 'orange', 'Charry']\n",
            "['abanaa', 'Apple', 'orange', 'Charry']\n"
          ]
        }
      ]
    },
    {
      "cell_type": "code",
      "source": [
        "list_org = [\"abanaa\", \"Apple\", \"orange\"]\n",
        "list1 = list_org.copy() #if use copy the changes not effect on org\n",
        "print(list1)\n",
        "list1.append(\"Charry\")\n",
        "print(list1)\n",
        "print(list_org)"
      ],
      "metadata": {
        "colab": {
          "base_uri": "https://localhost:8080/"
        },
        "id": "EK80c_3_vc7v",
        "outputId": "4f77b2f3-4467-4362-a792-7878a67f10b2"
      },
      "execution_count": null,
      "outputs": [
        {
          "output_type": "stream",
          "name": "stdout",
          "text": [
            "['abanaa', 'Apple', 'orange']\n",
            "['abanaa', 'Apple', 'orange', 'Charry']\n",
            "['abanaa', 'Apple', 'orange']\n"
          ]
        }
      ]
    },
    {
      "cell_type": "code",
      "source": [
        "mylist = [1, 2, 3, 4, 5, 6]\n",
        "b = [i*i for i in mylist]  #fastet way to copy one list in another\n",
        "print(mylist)\n",
        "print(b)"
      ],
      "metadata": {
        "colab": {
          "base_uri": "https://localhost:8080/"
        },
        "id": "X8Ti0LV6vyNq",
        "outputId": "b6c54857-f3c0-4a43-d17f-4c5d792d89f1"
      },
      "execution_count": null,
      "outputs": [
        {
          "output_type": "stream",
          "name": "stdout",
          "text": [
            "[1, 2, 3, 4, 5, 6]\n",
            "[1, 2, 3, 4, 5, 6]\n"
          ]
        }
      ]
    },
    {
      "cell_type": "markdown",
      "source": [
        "# **Topic-2: Tuples**"
      ],
      "metadata": {
        "id": "WXib4Kjcw_fu"
      }
    },
    {
      "cell_type": "code",
      "source": [
        "mytup = \"Max\", 40, \"Bosten\"\n",
        "print(mytup)"
      ],
      "metadata": {
        "colab": {
          "base_uri": "https://localhost:8080/"
        },
        "id": "8keXAcWqxFMQ",
        "outputId": "3407c806-79bf-4846-8844-dd66ccf1a3b5"
      },
      "execution_count": null,
      "outputs": [
        {
          "output_type": "stream",
          "name": "stdout",
          "text": [
            "('Max', 40, 'Bosten')\n"
          ]
        }
      ]
    },
    {
      "cell_type": "code",
      "source": [
        "item = mytup[0]\n",
        "item1 = mytup[2]\n",
        "item2 = mytup[-2]\n",
        "item3 = mytup[-1]\n",
        "print(item)\n",
        "print(item1)\n",
        "print(item2)\n",
        "print(item3)\n"
      ],
      "metadata": {
        "colab": {
          "base_uri": "https://localhost:8080/"
        },
        "id": "oeSgyhAExZXF",
        "outputId": "bfcace46-a7cb-43cf-ba37-1f9b60687bb1"
      },
      "execution_count": null,
      "outputs": [
        {
          "output_type": "stream",
          "name": "stdout",
          "text": [
            "Max\n",
            "Bosten\n",
            "40\n",
            "Bosten\n"
          ]
        }
      ]
    },
    {
      "cell_type": "code",
      "source": [
        "mytup[0] = \"Alex\" # error tuple can't be change"
      ],
      "metadata": {
        "id": "9OSScxPxxdmH"
      },
      "execution_count": null,
      "outputs": []
    },
    {
      "cell_type": "code",
      "source": [
        "for i in mytup:\n",
        "  print(i)"
      ],
      "metadata": {
        "colab": {
          "base_uri": "https://localhost:8080/"
        },
        "id": "s0aQoG8bx3Cw",
        "outputId": "ceb63131-3794-4578-ef11-53ad0b0a9734"
      },
      "execution_count": null,
      "outputs": [
        {
          "output_type": "stream",
          "name": "stdout",
          "text": [
            "Max\n",
            "40\n",
            "Bosten\n"
          ]
        }
      ]
    },
    {
      "cell_type": "code",
      "source": [
        "if \"Max\" in mytup:\n",
        "  print(\"yes\")\n",
        "else:\n",
        "  print(No)"
      ],
      "metadata": {
        "colab": {
          "base_uri": "https://localhost:8080/"
        },
        "id": "bsx2zffGx909",
        "outputId": "55930707-e4f3-40f7-d274-f822f08e120e"
      },
      "execution_count": null,
      "outputs": [
        {
          "output_type": "stream",
          "name": "stdout",
          "text": [
            "yes\n"
          ]
        }
      ]
    },
    {
      "cell_type": "code",
      "source": [
        "print(len(mytup))"
      ],
      "metadata": {
        "colab": {
          "base_uri": "https://localhost:8080/"
        },
        "id": "gEqzfFkryI1x",
        "outputId": "f80663f2-4bc6-4eb3-ea1b-c62c6ca4e0a1"
      },
      "execution_count": null,
      "outputs": [
        {
          "output_type": "stream",
          "name": "stdout",
          "text": [
            "3\n"
          ]
        }
      ]
    },
    {
      "cell_type": "code",
      "source": [
        "mytup2 = ['z','a','e', 'a', 'b']\n",
        "print(mytup2.count('a'))"
      ],
      "metadata": {
        "colab": {
          "base_uri": "https://localhost:8080/"
        },
        "id": "rSohhdGXyUCz",
        "outputId": "80e7b6fa-1da6-47f7-e294-0c6e8ddca2c8"
      },
      "execution_count": null,
      "outputs": [
        {
          "output_type": "stream",
          "name": "stdout",
          "text": [
            "2\n"
          ]
        }
      ]
    },
    {
      "cell_type": "code",
      "source": [
        "mytup2 = ['z','a','e', 'a', 'b']\n",
        "mylist = list(mytup)\n",
        "\n",
        "print(mylist)\n",
        "\n",
        "mytup3 = tuple(mylist)\n",
        "print(mytup3)"
      ],
      "metadata": {
        "colab": {
          "base_uri": "https://localhost:8080/"
        },
        "id": "5ru8YBprykN6",
        "outputId": "752a11bc-961e-4994-b244-9d08cc66f24e"
      },
      "execution_count": null,
      "outputs": [
        {
          "output_type": "stream",
          "name": "stdout",
          "text": [
            "['Max', 40, 'Bosten']\n",
            "('Max', 40, 'Bosten')\n"
          ]
        }
      ]
    },
    {
      "cell_type": "code",
      "source": [
        "  mytup4 = \"Max\", 40, \"Bosten\"\n",
        "  name, age, city = mytup4\n",
        "  print(name)\n",
        "  print(age)\n",
        "  print(city)"
      ],
      "metadata": {
        "colab": {
          "base_uri": "https://localhost:8080/"
        },
        "id": "r3YzlyvEzAD_",
        "outputId": "b9b40c51-11f1-4aeb-802e-eca1da9bfe63"
      },
      "execution_count": null,
      "outputs": [
        {
          "output_type": "stream",
          "name": "stdout",
          "text": [
            "Max\n",
            "40\n",
            "Bosten\n"
          ]
        }
      ]
    },
    {
      "cell_type": "code",
      "source": [
        "mytup5 = \"Max\", 40, \"Bosten\", 4, 5, 6, 3, \"My\"\n",
        "print(mytup5[::2])\n",
        "print(mytup5[::1])\n",
        "print(mytup5[:2])\n",
        "\n"
      ],
      "metadata": {
        "colab": {
          "base_uri": "https://localhost:8080/"
        },
        "id": "sfBKvt0azquc",
        "outputId": "1f56b7c1-4d7a-4361-f016-fd0f063da362"
      },
      "execution_count": null,
      "outputs": [
        {
          "output_type": "stream",
          "name": "stdout",
          "text": [
            "('Max', 'Bosten', 5, 3)\n",
            "('Max', 40, 'Bosten', 4, 5, 6, 3, 'My')\n",
            "('Max', 40)\n"
          ]
        }
      ]
    },
    {
      "cell_type": "code",
      "source": [
        "mytuple = (1, 2, 3, 4, 5, 7,5)\n",
        "i1, *i2, i3 = mytuple\n",
        "print(i1)\n",
        "print(i2)\n",
        "print(i3)"
      ],
      "metadata": {
        "id": "Bon0Y18izwBl"
      },
      "execution_count": null,
      "outputs": []
    },
    {
      "cell_type": "markdown",
      "source": [
        "# **Topic-3: Dictionaries**"
      ],
      "metadata": {
        "id": "hSiR8c3X1VN_"
      }
    },
    {
      "cell_type": "code",
      "source": [
        "mydict = {\n",
        "    \"name\" : \"Mustafa\",\n",
        "    \"Class\" : \"12\",\n",
        "    \"Age\" : 3,\n",
        "    \"Gemder\" : \"M\"\n",
        "}\n",
        "print(mydict)\n",
        "\n",
        "mydict[\"Email\"] = \"FA21\"\n",
        "print(mydict)"
      ],
      "metadata": {
        "colab": {
          "base_uri": "https://localhost:8080/"
        },
        "id": "u4sXmVZK1ddM",
        "outputId": "0fbf1f6e-71c9-462d-9e68-602d13c44b28"
      },
      "execution_count": null,
      "outputs": [
        {
          "output_type": "stream",
          "name": "stdout",
          "text": [
            "{'name': 'Mustafa', 'Class': '12', 'Age': 3, 'Gemder': 'M'}\n",
            "{'name': 'Mustafa', 'Class': '12', 'Age': 3, 'Gemder': 'M', 'Email': 'FA21'}\n"
          ]
        }
      ]
    },
    {
      "cell_type": "code",
      "source": [
        "del mydict[\"Class\"]"
      ],
      "metadata": {
        "id": "TgetsKwv1ysd"
      },
      "execution_count": null,
      "outputs": []
    },
    {
      "cell_type": "code",
      "source": [
        "print(mydict)"
      ],
      "metadata": {
        "colab": {
          "base_uri": "https://localhost:8080/"
        },
        "id": "JNRYaKkE2D45",
        "outputId": "01d95e4d-db8e-4a80-fb1c-740de0e6ca8d"
      },
      "execution_count": null,
      "outputs": [
        {
          "output_type": "stream",
          "name": "stdout",
          "text": [
            "{'name': 'Mustafa', 'Age': 3, 'Gemder': 'M', 'Email': 'FA21'}\n"
          ]
        }
      ]
    },
    {
      "cell_type": "code",
      "source": [
        "mydict.pop(\"Age\")\n",
        "print(mydict)\n"
      ],
      "metadata": {
        "id": "i7WnAEJO2GqD"
      },
      "execution_count": null,
      "outputs": []
    },
    {
      "cell_type": "code",
      "source": [
        "mydict.popitem()\n",
        "print(mydict)"
      ],
      "metadata": {
        "colab": {
          "base_uri": "https://localhost:8080/"
        },
        "id": "bIWWQOXe2Oi9",
        "outputId": "f91e97f8-54bf-427c-ee1d-19a265b349a5"
      },
      "execution_count": null,
      "outputs": [
        {
          "output_type": "stream",
          "name": "stdout",
          "text": [
            "{'name': 'Mustafa', 'Gemder': 'M'}\n"
          ]
        }
      ]
    },
    {
      "cell_type": "code",
      "source": [
        "if \"name\" in mydict:\n",
        "  print(mydict[\"name\"])"
      ],
      "metadata": {
        "colab": {
          "base_uri": "https://localhost:8080/"
        },
        "id": "v8sJ9M6h2ZSY",
        "outputId": "aad35029-83da-4077-cdcc-9408e209e458"
      },
      "execution_count": null,
      "outputs": [
        {
          "output_type": "stream",
          "name": "stdout",
          "text": [
            "Mustafa\n"
          ]
        }
      ]
    },
    {
      "cell_type": "code",
      "source": [
        "try:\n",
        "  print(mydict[\"name\"])\n",
        "except:\n",
        "  print(\"Error\")"
      ],
      "metadata": {
        "colab": {
          "base_uri": "https://localhost:8080/"
        },
        "id": "s0jrrVP32z4F",
        "outputId": "35314771-d16c-4bb2-df7d-2c76cdb21f44"
      },
      "execution_count": null,
      "outputs": [
        {
          "output_type": "stream",
          "name": "stdout",
          "text": [
            "Mustafa\n"
          ]
        }
      ]
    },
    {
      "cell_type": "code",
      "source": [
        "for key in mydict:\n",
        "  print(key)"
      ],
      "metadata": {
        "colab": {
          "base_uri": "https://localhost:8080/"
        },
        "id": "xyNMwHdY3GaY",
        "outputId": "84e82900-5570-4700-8a5d-fa811f12fb02"
      },
      "execution_count": null,
      "outputs": [
        {
          "output_type": "stream",
          "name": "stdout",
          "text": [
            "name\n",
            "Gemder\n"
          ]
        }
      ]
    },
    {
      "cell_type": "code",
      "source": [
        "print(mydict.keys())\n",
        "print(mydict.values())"
      ],
      "metadata": {
        "colab": {
          "base_uri": "https://localhost:8080/"
        },
        "id": "e4BY4jlg3UDN",
        "outputId": "fe22b9c1-e787-4b7e-ad96-10e20796650e"
      },
      "execution_count": null,
      "outputs": [
        {
          "output_type": "stream",
          "name": "stdout",
          "text": [
            "dict_keys(['name', 'Gemder'])\n",
            "dict_values(['Mustafa', 'M'])\n"
          ]
        }
      ]
    },
    {
      "cell_type": "code",
      "source": [
        "mydicst = {0: 3, 5: 4, 6: 3, 9:1}\n",
        "print(mydicst[0])"
      ],
      "metadata": {
        "colab": {
          "base_uri": "https://localhost:8080/"
        },
        "id": "sWXr0Neb3csM",
        "outputId": "af726a2f-4604-40be-8042-24e09d054ce0"
      },
      "execution_count": null,
      "outputs": [
        {
          "output_type": "stream",
          "name": "stdout",
          "text": [
            "3\n"
          ]
        }
      ]
    },
    {
      "cell_type": "markdown",
      "source": [
        "# **Topic-3:  Set**"
      ],
      "metadata": {
        "id": "Qqu1Y6MI6X8e"
      }
    },
    {
      "cell_type": "code",
      "source": [
        "myset = set()\n",
        "myset.add(3)\n",
        "myset.add(6)\n",
        "myset.add(2)\n",
        "myset.add(4)\n",
        "myset.add(33)\n",
        "\n",
        "print(myset)\n",
        "myset.remove(33)\n",
        "print(myset)\n",
        "myset.discard(6)\n",
        "print(myset)\n",
        "myset.pop()\n",
        "print(myset)\n",
        "\n",
        "if 4 in myset:\n",
        "  print(\"yes\")"
      ],
      "metadata": {
        "colab": {
          "base_uri": "https://localhost:8080/"
        },
        "id": "_ferNuud4INh",
        "outputId": "2aa6a056-0239-4e03-dd41-f4f3508f4b9f"
      },
      "execution_count": null,
      "outputs": [
        {
          "output_type": "stream",
          "name": "stdout",
          "text": [
            "{33, 2, 3, 4, 6}\n",
            "{2, 3, 4, 6}\n",
            "{2, 3, 4}\n",
            "{3, 4}\n",
            "yes\n"
          ]
        }
      ]
    },
    {
      "cell_type": "code",
      "source": [
        "odd = {1, 3, 5, 7, 9}\n",
        "evens = {2, 4, 6, 8, 10}\n",
        "prime = {2, 3, 4, 5, 7}\n",
        "\n",
        "u = odd.union(evens)\n",
        "print(u)"
      ],
      "metadata": {
        "colab": {
          "base_uri": "https://localhost:8080/"
        },
        "id": "h3TcRdw053MU",
        "outputId": "b2ece2a4-4fec-4fa4-96e3-5d336b343c3c"
      },
      "execution_count": null,
      "outputs": [
        {
          "output_type": "stream",
          "name": "stdout",
          "text": [
            "{1, 2, 3, 4, 5, 6, 7, 8, 9, 10}\n"
          ]
        }
      ]
    },
    {
      "cell_type": "code",
      "source": [
        "u = odd.intersection(prime)\n",
        "print(u)"
      ],
      "metadata": {
        "colab": {
          "base_uri": "https://localhost:8080/"
        },
        "id": "Bn_IC4ji6zoy",
        "outputId": "419b35bc-4955-4767-f8c3-ee64de7c2061"
      },
      "execution_count": null,
      "outputs": [
        {
          "output_type": "stream",
          "name": "stdout",
          "text": [
            "{3, 5, 7}\n"
          ]
        }
      ]
    },
    {
      "cell_type": "code",
      "source": [
        "A = {1, 2, 3, 4, 5, 6, 7, 8, 9}\n",
        "B = {1, 2, 3, 10, 11, 12}\n",
        "\n",
        "print(A.difference(B))\n",
        "print(A.symmetric_difference(B))"
      ],
      "metadata": {
        "colab": {
          "base_uri": "https://localhost:8080/"
        },
        "id": "kN-_3qTz7Bon",
        "outputId": "d373e924-2bd2-43d6-ef96-ca223aa5c99f"
      },
      "execution_count": null,
      "outputs": [
        {
          "output_type": "stream",
          "name": "stdout",
          "text": [
            "{4, 5, 6, 7, 8, 9}\n",
            "{4, 5, 6, 7, 8, 9, 10, 11, 12}\n",
            "None\n"
          ]
        }
      ]
    },
    {
      "cell_type": "code",
      "source": [
        "print(A.intersection_update(B))"
      ],
      "metadata": {
        "colab": {
          "base_uri": "https://localhost:8080/"
        },
        "id": "04jrJlvX7kl4",
        "outputId": "09c1542b-0710-48b1-ab92-32ed816475e6"
      },
      "execution_count": null,
      "outputs": [
        {
          "output_type": "stream",
          "name": "stdout",
          "text": [
            "None\n"
          ]
        }
      ]
    },
    {
      "cell_type": "markdown",
      "source": [
        "# **Topic-3: Strings**"
      ],
      "metadata": {
        "id": "8JXtYCLD8qae"
      }
    },
    {
      "cell_type": "code",
      "source": [
        "mystr = \"   Hello   \"\n",
        "myst = mystr.strip()\n",
        "print(myst)\n",
        "print(mystr)\n"
      ],
      "metadata": {
        "colab": {
          "base_uri": "https://localhost:8080/"
        },
        "id": "14vPghN38qEw",
        "outputId": "0374c09b-7552-4e7d-fe4f-7d3cac7aa53f"
      },
      "execution_count": null,
      "outputs": [
        {
          "output_type": "stream",
          "name": "stdout",
          "text": [
            "Hello\n",
            "   Hello   \n"
          ]
        }
      ]
    },
    {
      "cell_type": "code",
      "source": [
        "my_list = ['a'] * 6\n",
        "my_str = ''\n",
        "for i in my_list:\n",
        "  my_str += i\n",
        "print(my_str)\n",
        "\n",
        "mystr = ''.join(my_list)\n",
        "print(mystr)"
      ],
      "metadata": {
        "colab": {
          "base_uri": "https://localhost:8080/"
        },
        "id": "gIjvCJ1A8KtV",
        "outputId": "8b4d12ce-95ab-4779-eb85-23c1230367ca"
      },
      "execution_count": null,
      "outputs": [
        {
          "output_type": "stream",
          "name": "stdout",
          "text": [
            "aaaaaa\n",
            "aaaaaa\n"
          ]
        }
      ]
    },
    {
      "cell_type": "markdown",
      "source": [
        "# **Topic-4: Collections**\n",
        "\n",
        "Collections : Counter, namedtuple, OrderedDict, defaultdict, deque\n"
      ],
      "metadata": {
        "id": "FaIIJson-_os"
      }
    },
    {
      "cell_type": "code",
      "source": [
        "from collections import Counter\n",
        "a = \"aaaabbc\"\n",
        "my_co = Counter(a)\n",
        "print(my_co)\n",
        "print(my_co.most_common(1))\n",
        "print(my_co.most_common(2))\n",
        "print(list(my_co.elements()))\n",
        "\n"
      ],
      "metadata": {
        "colab": {
          "base_uri": "https://localhost:8080/"
        },
        "id": "gHFwBMRp-d3S",
        "outputId": "2ef9ae4e-5c65-40bc-897c-480887abca2e"
      },
      "execution_count": null,
      "outputs": [
        {
          "output_type": "stream",
          "name": "stdout",
          "text": [
            "Counter({'a': 4, 'b': 2, 'c': 1})\n",
            "[('a', 4)]\n",
            "[('a', 4), ('b', 2)]\n",
            "['a', 'a', 'a', 'a', 'b', 'b', 'c']\n"
          ]
        }
      ]
    },
    {
      "cell_type": "code",
      "source": [
        "  from collections import namedtuple\n",
        "  Point = namedtuple('Point', 'x,y')\n",
        "  pt = Point(1, -4)\n",
        "  print(pt)\n",
        "  print(pt.x, pt.y)"
      ],
      "metadata": {
        "colab": {
          "base_uri": "https://localhost:8080/"
        },
        "id": "r2RQHKpv_UMF",
        "outputId": "b1aec804-8d3e-4c5f-c23c-ef4529c34a8a"
      },
      "execution_count": null,
      "outputs": [
        {
          "output_type": "stream",
          "name": "stdout",
          "text": [
            "Point(x=1, y=-4)\n",
            "1 -4\n"
          ]
        }
      ]
    },
    {
      "cell_type": "code",
      "source": [
        "  from collections import OrderedDict\n",
        "  orderedDict = OrderedDict()\n",
        "  orderedDict['a'] =1\n",
        "  orderedDict['b'] =2\n",
        "  orderedDict['c'] =3\n",
        "  orderedDict['d'] =4\n",
        "  print(orderedDict)\n",
        "\n",
        "  orderedDict = {}\n",
        "  orderedDict['a'] =1\n",
        "  orderedDict['b'] =2\n",
        "  orderedDict['c'] =3\n",
        "  orderedDict['d'] =4\n",
        "  print(orderedDict)"
      ],
      "metadata": {
        "colab": {
          "base_uri": "https://localhost:8080/"
        },
        "id": "qqWspzEpBK81",
        "outputId": "1b410332-447b-417f-9837-97098ca22c27"
      },
      "execution_count": null,
      "outputs": [
        {
          "output_type": "stream",
          "name": "stdout",
          "text": [
            "OrderedDict([('a', 1), ('b', 2), ('c', 3), ('d', 4)])\n",
            "{'a': 1, 'b': 2, 'c': 3, 'd': 4}\n"
          ]
        }
      ]
    },
    {
      "cell_type": "code",
      "source": [
        "  from collections import defaultdict\n",
        "  d = defaultdict(int)\n",
        "  d['a'] = 1\n",
        "  d['b'] = 2\n",
        "  print(d['a'])\n",
        "  print(d['c']) #default int value\n",
        "\n",
        "  d = defaultdict(float)\n",
        "  d['a'] = 1\n",
        "  d['b'] = 2\n",
        "  print(d['a'])\n",
        "  print(d['c']) #default float value"
      ],
      "metadata": {
        "colab": {
          "base_uri": "https://localhost:8080/"
        },
        "id": "7RbnwfgyBwBS",
        "outputId": "502fa21a-91b3-49f6-a49d-4542002b2080"
      },
      "execution_count": null,
      "outputs": [
        {
          "output_type": "stream",
          "name": "stdout",
          "text": [
            "1\n",
            "0\n",
            "1\n",
            "0.0\n"
          ]
        }
      ]
    },
    {
      "cell_type": "markdown",
      "source": [
        "# **Topic-4: IterTools**\n",
        "\n",
        "Itertools: product, perumations, combinations, accumulate, groupby and interfinite iterators"
      ],
      "metadata": {
        "id": "xjrXBIqMXPwR"
      }
    },
    {
      "cell_type": "code",
      "source": [
        "from itertools import product\n",
        "a = [1,2]\n",
        "b = [3,4]\n",
        "prod = product(a,b)\n",
        "print(list(prod))\n",
        "\n",
        "prod = product(a,b, repeat=2)\n",
        "print(list(prod))\n"
      ],
      "metadata": {
        "id": "FF9l2LJOCb7V"
      },
      "execution_count": null,
      "outputs": []
    },
    {
      "cell_type": "code",
      "source": [
        "from itertools import permutations\n",
        "a = [1, 2, 3]\n",
        "per = permutations(a)\n",
        "print(list(per))"
      ],
      "metadata": {
        "colab": {
          "base_uri": "https://localhost:8080/"
        },
        "id": "7gU376r6YIip",
        "outputId": "f0639d6c-dda2-4331-ed8d-1e68b0f7a758"
      },
      "execution_count": null,
      "outputs": [
        {
          "output_type": "stream",
          "name": "stdout",
          "text": [
            "[(1, 2, 3), (1, 3, 2), (2, 1, 3), (2, 3, 1), (3, 1, 2), (3, 2, 1)]\n"
          ]
        }
      ]
    },
    {
      "cell_type": "code",
      "source": [
        "per = permutations(a, 2)\n",
        "print(list(per))"
      ],
      "metadata": {
        "colab": {
          "base_uri": "https://localhost:8080/"
        },
        "id": "s5jnY8cbYkjF",
        "outputId": "9a826777-cc3b-4387-d658-f7156569fd7f"
      },
      "execution_count": null,
      "outputs": [
        {
          "output_type": "stream",
          "name": "stdout",
          "text": [
            "[(1, 2), (1, 3), (2, 1), (2, 3), (3, 1), (3, 2)]\n"
          ]
        }
      ]
    },
    {
      "cell_type": "code",
      "source": [
        "from itertools import combinations\n",
        "a = [1, 2, 3, 4]\n",
        "comb = combinations(a,2)\n",
        "print(list(comb))"
      ],
      "metadata": {
        "colab": {
          "base_uri": "https://localhost:8080/"
        },
        "id": "eh_8YZ0ZY2wr",
        "outputId": "6931f040-24a5-4e9c-eeeb-337b1b5afabe"
      },
      "execution_count": null,
      "outputs": [
        {
          "output_type": "stream",
          "name": "stdout",
          "text": [
            "[(1, 2), (1, 3), (1, 4), (2, 3), (2, 4), (3, 4)]\n"
          ]
        }
      ]
    },
    {
      "cell_type": "code",
      "source": [
        "from itertools import combinations_with_replace\n",
        "a = [1, 2, 3, 4]\n",
        "comb_wr = combinations_with_replacement(a,2)\n",
        "print(list(comb_wr))"
      ],
      "metadata": {
        "id": "y_RehjaVZONB"
      },
      "execution_count": null,
      "outputs": []
    },
    {
      "cell_type": "code",
      "source": [
        "from itertools import accumulate\n",
        "a = [1, 3, 4, 4]\n",
        "acc = accumulate(a)\n",
        "print(a)\n",
        "print(list(acc))"
      ],
      "metadata": {
        "colab": {
          "base_uri": "https://localhost:8080/"
        },
        "id": "qrRr7QRxaBas",
        "outputId": "4ecbb12e-7711-4fd2-fef7-5679fb28e15a"
      },
      "execution_count": null,
      "outputs": [
        {
          "output_type": "stream",
          "name": "stdout",
          "text": [
            "[1, 3, 4, 4]\n",
            "[1, 4, 8, 12]\n"
          ]
        }
      ]
    },
    {
      "cell_type": "code",
      "source": [
        "from itertools import accumulate\n",
        "import operator\n",
        "a = [1, 3, 4, 4]\n",
        "acc = accumulate(a, func = operator.mul)\n",
        "print(a)\n",
        "print(list(acc))"
      ],
      "metadata": {
        "colab": {
          "base_uri": "https://localhost:8080/"
        },
        "id": "MtF8icb9aqXh",
        "outputId": "cb5f74a2-d629-4e02-dcb8-f22ee8b830ac"
      },
      "execution_count": null,
      "outputs": [
        {
          "output_type": "stream",
          "name": "stdout",
          "text": [
            "[1, 3, 4, 4]\n",
            "[1, 3, 12, 48]\n"
          ]
        }
      ]
    },
    {
      "cell_type": "code",
      "source": [
        "from itertools import accumulate\n",
        "import operator\n",
        "a = [1, 3, 4, 4]\n",
        "acc = accumulate(a, func = max)\n",
        "print(a)\n",
        "print(list(acc))"
      ],
      "metadata": {
        "colab": {
          "base_uri": "https://localhost:8080/"
        },
        "id": "yyxNP6K0bPEp",
        "outputId": "1dd24437-09a7-4d40-dcb8-64bbf2e8b7af"
      },
      "execution_count": null,
      "outputs": [
        {
          "output_type": "stream",
          "name": "stdout",
          "text": [
            "[1, 3, 4, 4]\n",
            "[1, 3, 4, 4]\n"
          ]
        }
      ]
    },
    {
      "cell_type": "code",
      "source": [
        "from itertools import groupby\n",
        "def smaller_than_3(x):\n",
        "  return x<3\n",
        "a = [1, 2, 3, 4, 5]\n",
        "group_obj = groupby(a, key=smaller_than_3)\n",
        "for key, value in group_obj:\n",
        "  print(key, list(value))"
      ],
      "metadata": {
        "colab": {
          "base_uri": "https://localhost:8080/"
        },
        "id": "P1FXUsPSbW_s",
        "outputId": "d2e612ca-da9e-4caf-88b6-79dc6e03e8fe"
      },
      "execution_count": null,
      "outputs": [
        {
          "output_type": "stream",
          "name": "stdout",
          "text": [
            "True [1, 2]\n",
            "False [3, 4, 5]\n"
          ]
        }
      ]
    },
    {
      "cell_type": "code",
      "source": [
        "from itertools import groupby\n",
        "\n",
        "person = [{'name':'Mustafa', 'age':25}, {'name':'Raza', 'age':29},\n",
        " {'name': 'Iqbal', 'age': 54}, {'name': 'Faheem','age': 21}]\n",
        "\n",
        "group_obj = groupby(person, key=lambda x: x['age'])\n",
        "for key, value in group_obj:\n",
        "  print(key, list(value))"
      ],
      "metadata": {
        "colab": {
          "base_uri": "https://localhost:8080/"
        },
        "id": "ySlqWIr4cWJS",
        "outputId": "0f192b7f-0b6a-40a4-bab0-ecd6dbed956d"
      },
      "execution_count": null,
      "outputs": [
        {
          "output_type": "stream",
          "name": "stdout",
          "text": [
            "25 [{'name': 'Mustafa', 'age': 25}]\n",
            "29 [{'name': 'Raza', 'age': 29}]\n",
            "54 [{'name': 'Iqbal', 'age': 54}]\n",
            "21 [{'name': 'Faheem', 'age': 21}]\n"
          ]
        }
      ]
    },
    {
      "cell_type": "markdown",
      "source": [
        "# **Topic-6: Lambda**\n",
        "\n",
        "Lambda arguments: expression\n",
        "\n",
        "\n"
      ],
      "metadata": {
        "id": "a5ykZcajeDlR"
      }
    },
    {
      "cell_type": "code",
      "source": [
        "add10 = lambda x: x +10\n",
        "print(add10(5))"
      ],
      "metadata": {
        "colab": {
          "base_uri": "https://localhost:8080/"
        },
        "id": "gvizvHytde4w",
        "outputId": "b4aa021c-2219-4f15-ca2f-78302758fc85"
      },
      "execution_count": null,
      "outputs": [
        {
          "output_type": "stream",
          "name": "stdout",
          "text": [
            "15\n"
          ]
        }
      ]
    },
    {
      "cell_type": "code",
      "source": [
        "def add10_func(x):\n",
        "  return x + 10\n",
        "\n",
        "mult = lambda x,y: x*y\n",
        "print(mult(2,7))"
      ],
      "metadata": {
        "colab": {
          "base_uri": "https://localhost:8080/"
        },
        "id": "UJJYiwg-e35C",
        "outputId": "54dbb670-b8dc-4151-98e4-903a8f80fcb5"
      },
      "execution_count": null,
      "outputs": [
        {
          "output_type": "stream",
          "name": "stdout",
          "text": [
            "14\n"
          ]
        }
      ]
    },
    {
      "cell_type": "code",
      "source": [
        "a = [1, 2, 3, 4, 5]\n",
        "b = map(lambda x: x*2, a)\n",
        "print(list(b))"
      ],
      "metadata": {
        "id": "pao9Naf4fE-Y",
        "colab": {
          "base_uri": "https://localhost:8080/"
        },
        "outputId": "b04a4355-7934-4787-e076-ba98a292173f"
      },
      "execution_count": null,
      "outputs": [
        {
          "output_type": "stream",
          "name": "stdout",
          "text": [
            "[2, 4, 6, 8, 10]\n"
          ]
        }
      ]
    },
    {
      "cell_type": "code",
      "source": [
        "c = [x*2 for x in a]  #same work in less line\n",
        "c = [x*3 for x in a]\n",
        "print(c)"
      ],
      "metadata": {
        "colab": {
          "base_uri": "https://localhost:8080/"
        },
        "id": "JR7VH0eeMQFT",
        "outputId": "262bc5d8-cdda-4c9d-be5b-29791d743e71"
      },
      "execution_count": null,
      "outputs": [
        {
          "output_type": "stream",
          "name": "stdout",
          "text": [
            "[3, 6, 9, 12, 15]\n"
          ]
        }
      ]
    },
    {
      "cell_type": "code",
      "source": [
        "a = [1, 2, 3, 4, 5, 6]\n",
        "b = filter(lambda x: x%2==0, a)  # filter(func, seq)\n",
        "print(list(b))"
      ],
      "metadata": {
        "colab": {
          "base_uri": "https://localhost:8080/"
        },
        "id": "a93ZhLJpWgHw",
        "outputId": "8d8f5e17-6749-4136-d9f6-f44182641405"
      },
      "execution_count": null,
      "outputs": [
        {
          "output_type": "stream",
          "name": "stdout",
          "text": [
            "[2, 4, 6]\n"
          ]
        }
      ]
    },
    {
      "cell_type": "code",
      "source": [
        "c = [x for x in a if x%2==0]\n",
        "print(c)"
      ],
      "metadata": {
        "colab": {
          "base_uri": "https://localhost:8080/"
        },
        "id": "6D9EikjSXLDL",
        "outputId": "5d852124-4b85-4f88-f381-d2d0aacae004"
      },
      "execution_count": null,
      "outputs": [
        {
          "output_type": "stream",
          "name": "stdout",
          "text": [
            "[2, 4, 6]\n"
          ]
        }
      ]
    },
    {
      "cell_type": "code",
      "source": [
        "c = [x*2 for x in a if x%2==0]\n",
        "print(c)"
      ],
      "metadata": {
        "colab": {
          "base_uri": "https://localhost:8080/"
        },
        "id": "4ymFdw80XYIA",
        "outputId": "fc8a4430-5558-4f9e-c5da-1f7f2ebb1e2d"
      },
      "execution_count": null,
      "outputs": [
        {
          "output_type": "stream",
          "name": "stdout",
          "text": [
            "[4, 8, 12]\n"
          ]
        }
      ]
    },
    {
      "cell_type": "code",
      "source": [
        "a = [1,2,3,4,5,6]\n",
        "product"
      ],
      "metadata": {
        "id": "r-FRNJolXgQK"
      },
      "execution_count": null,
      "outputs": []
    },
    {
      "cell_type": "code",
      "source": [
        "#reduce(func, seq)\n",
        "from functools import reduce\n",
        "a = [1,2,3,4]\n",
        "product_A = reduce(lambda x,y: x*y,a)\n",
        "print(product_A)"
      ],
      "metadata": {
        "colab": {
          "base_uri": "https://localhost:8080/"
        },
        "id": "FT03-ZhTX78K",
        "outputId": "fa8882a4-7897-4ba4-a6b1-399d9222e89a"
      },
      "execution_count": null,
      "outputs": [
        {
          "output_type": "stream",
          "name": "stdout",
          "text": [
            "24\n"
          ]
        }
      ]
    },
    {
      "cell_type": "code",
      "source": [
        "Name = input('Enter your name: ')\n",
        "print(\"Hello \" + Name)"
      ],
      "metadata": {
        "id": "IN5b-o3JZATG",
        "colab": {
          "base_uri": "https://localhost:8080/"
        },
        "outputId": "323e7bd3-2468-4a1f-962f-9f6015f76c9a"
      },
      "execution_count": null,
      "outputs": [
        {
          "output_type": "stream",
          "name": "stdout",
          "text": [
            "Enter your name: Mustafa\n",
            "Hello Mustafa\n"
          ]
        }
      ]
    },
    {
      "cell_type": "code",
      "source": [
        "hours = input('Enter the hours')\n",
        "pay = input('Enter the pay')\n",
        "total = int(hours) * int(pay)\n",
        "print(\"Pay = \", total)"
      ],
      "metadata": {
        "id": "1brkk5jOA7oW",
        "colab": {
          "base_uri": "https://localhost:8080/"
        },
        "outputId": "49e8e9d0-fb75-4d0d-9420-d8d019f98da0"
      },
      "execution_count": null,
      "outputs": [
        {
          "output_type": "stream",
          "name": "stdout",
          "text": [
            "Enter the hours44\n",
            "Enter the pay33\n",
            "Pay =  1452\n"
          ]
        }
      ]
    },
    {
      "cell_type": "code",
      "source": [
        "hours = input(\"Enter the hours: \")\n",
        "rate = input(\"Enter the rate: \")\n",
        "if type(rate) == str:\n",
        "  print(\"Error\")\n",
        "else:\n",
        "  tot = hours*rate\n",
        "  print(\"Total = \", tot)"
      ],
      "metadata": {
        "colab": {
          "base_uri": "https://localhost:8080/"
        },
        "id": "qHXmyLu1BIb8",
        "outputId": "27602170-88a4-489c-cce9-54ae6ec92382"
      },
      "execution_count": null,
      "outputs": [
        {
          "output_type": "stream",
          "name": "stdout",
          "text": [
            "Enter the hours: 4\n",
            "Enter the rate: nine\n",
            "Error\n"
          ]
        }
      ]
    },
    {
      "cell_type": "code",
      "source": [
        "temp = \"5 degree\"\n",
        "\n",
        "cel = 0\n",
        "fahr = float(len(temp))\n",
        "cel = (fahr - 32.0) * 5.0 / 9.0\n",
        "print(cel)"
      ],
      "metadata": {
        "colab": {
          "base_uri": "https://localhost:8080/"
        },
        "id": "CbhE3X5BCF6_",
        "outputId": "f9a518a4-9ce7-4fcc-a820-40e49da4f7e7"
      },
      "execution_count": null,
      "outputs": [
        {
          "output_type": "stream",
          "name": "stdout",
          "text": [
            "-13.333333333333334\n"
          ]
        }
      ]
    },
    {
      "cell_type": "code",
      "source": [
        "for i in [2,1,5]:\n",
        "    print(i)"
      ],
      "metadata": {
        "id": "OZ6BUPi7DwTj",
        "colab": {
          "base_uri": "https://localhost:8080/"
        },
        "outputId": "289d0a4d-764c-4e6a-bd85-53c8897e3687"
      },
      "execution_count": null,
      "outputs": [
        {
          "output_type": "stream",
          "name": "stdout",
          "text": [
            "2\n",
            "1\n",
            "5\n"
          ]
        }
      ]
    },
    {
      "cell_type": "code",
      "source": [
        "# Below is code to find the smallest value from a list of values.\n",
        "# One line has an error that will cause the code to not work as expected. Which line is it?:\n",
        "\n",
        "smallest = None\n",
        "print(\"Before:\", smallest)\n",
        "for itervar in [3, 41, 12, 9, 74, 15]:\n",
        "    if smallest is None or itervar < smallest:\n",
        "        smallest = itervar\n",
        "        break\n",
        "    print(\"Loop:\", itervar, smallest)\n",
        "print(\"Smallest:\", smallest)"
      ],
      "metadata": {
        "colab": {
          "base_uri": "https://localhost:8080/"
        },
        "id": "jNQHcK6LLN0h",
        "outputId": "0c933c1b-74ca-4122-96d0-0f652b368a79"
      },
      "execution_count": null,
      "outputs": [
        {
          "output_type": "stream",
          "name": "stdout",
          "text": [
            "Before: None\n",
            "Smallest: 3\n"
          ]
        }
      ]
    },
    {
      "cell_type": "code",
      "source": [
        "for n in \"banana\":\n",
        "    print(n)"
      ],
      "metadata": {
        "colab": {
          "base_uri": "https://localhost:8080/"
        },
        "id": "V84bKSPlLx3_",
        "outputId": "a988e619-0c71-4e67-a8fe-d1ba0a4ebde8"
      },
      "execution_count": null,
      "outputs": [
        {
          "output_type": "stream",
          "name": "stdout",
          "text": [
            "b\n",
            "a\n",
            "n\n",
            "a\n",
            "n\n",
            "a\n"
          ]
        }
      ]
    },
    {
      "cell_type": "code",
      "source": [
        "fruit = \"banana\"\n",
        "x = fruit[1]\n",
        "print(x)"
      ],
      "metadata": {
        "colab": {
          "base_uri": "https://localhost:8080/"
        },
        "id": "NCVnX2D7MHou",
        "outputId": "581bd32e-9ff4-4cf7-b212-48c6bd7e07da"
      },
      "execution_count": null,
      "outputs": [
        {
          "output_type": "stream",
          "name": "stdout",
          "text": [
            "a\n"
          ]
        }
      ]
    },
    {
      "cell_type": "code",
      "source": [
        "words = 'His e-mail is q-lar@freecodecamp.org'\n",
        "pieces = words.split()\n",
        "parts = pieces[3].split('-')\n",
        "n = parts[1]\n",
        "print(pieces)\n",
        "print(parts)"
      ],
      "metadata": {
        "colab": {
          "base_uri": "https://localhost:8080/"
        },
        "id": "ufqXKPNxMtqK",
        "outputId": "0322e732-c711-43f2-94bf-499df63df8d0"
      },
      "execution_count": null,
      "outputs": [
        {
          "output_type": "stream",
          "name": "stdout",
          "text": [
            "['His', 'e-mail', 'is', 'q-lar@freecodecamp.org']\n",
            "['q', 'lar@freecodecamp.org']\n"
          ]
        }
      ]
    },
    {
      "cell_type": "code",
      "source": [
        "# What will the following code print?\n",
        "\n",
        "counts = { 'quincy' : 1 , 'mrugesh' : 42, 'beau': 100, '0': 10}\n",
        "print(counts.get('kris', 0))"
      ],
      "metadata": {
        "colab": {
          "base_uri": "https://localhost:8080/"
        },
        "id": "pEKvOlkXM7rK",
        "outputId": "2354f2b9-6b68-4055-b5f9-4d0065a91bdb"
      },
      "execution_count": null,
      "outputs": [
        {
          "output_type": "stream",
          "name": "stdout",
          "text": [
            "0\n"
          ]
        }
      ]
    },
    {
      "cell_type": "code",
      "source": [
        "# What will the following code print?:\n",
        "\n",
        "d = dict()\n",
        "d['quincy'] = 1\n",
        "d['beau'] = 5\n",
        "d['kris'] = 9\n",
        "for (k,i) in d.items():\n",
        "    print(k, i)"
      ],
      "metadata": {
        "colab": {
          "base_uri": "https://localhost:8080/"
        },
        "id": "oqE0A-BkOGI8",
        "outputId": "e09c6b0d-a48c-4f60-fd80-15eeebb27ef1"
      },
      "execution_count": null,
      "outputs": [
        {
          "output_type": "stream",
          "name": "stdout",
          "text": [
            "quincy 1\n",
            "beau 5\n",
            "kris 9\n"
          ]
        }
      ]
    },
    {
      "cell_type": "code",
      "source": [
        "import re\n",
        "x = \"My 2 favoriate numbers are 19 and 42\"\n",
        "y = re.findall('[0-9]+', x)\n",
        "print(y)"
      ],
      "metadata": {
        "id": "l2oJsCpKOlQF",
        "colab": {
          "base_uri": "https://localhost:8080/"
        },
        "outputId": "53d326c8-6ef4-4259-dfc4-ef37f9a6f3f9"
      },
      "execution_count": null,
      "outputs": [
        {
          "output_type": "stream",
          "name": "stdout",
          "text": [
            "['2', '19', '42']\n"
          ]
        }
      ]
    },
    {
      "cell_type": "code",
      "source": [
        "y = re.findall('[AEIOU]+',x)\n",
        "print(y)"
      ],
      "metadata": {
        "colab": {
          "base_uri": "https://localhost:8080/"
        },
        "id": "k9wOVjVyhvvw",
        "outputId": "6908b53c-c595-43c9-c93b-4897df61bd62"
      },
      "execution_count": null,
      "outputs": [
        {
          "output_type": "stream",
          "name": "stdout",
          "text": [
            "[]\n"
          ]
        }
      ]
    },
    {
      "cell_type": "code",
      "source": [
        "user = [\"Mustafa\", \"Raza\", \"Sara\"]\n",
        "print(\"Raza\" in user)\n",
        "print(user[2])\n",
        "print(user[-1])\n",
        "\n",
        "print(user.index(\"Raza\"))\n",
        "\n",
        "print(user[0:2])\n",
        "print(user[1:])\n",
        "print(user[:-2])\n",
        "print(len(user))\n",
        "user.append(\"Aqsa\")\n",
        "print(user)"
      ],
      "metadata": {
        "id": "N_NWHRtrh8Lc",
        "colab": {
          "base_uri": "https://localhost:8080/"
        },
        "outputId": "26ebecb8-9834-4b32-a557-33f6f85fd645"
      },
      "execution_count": null,
      "outputs": [
        {
          "output_type": "stream",
          "name": "stdout",
          "text": [
            "True\n",
            "Sara\n",
            "Sara\n",
            "1\n",
            "['Mustafa', 'Raza']\n",
            "['Raza', 'Sara']\n",
            "['Mustafa']\n",
            "3\n",
            "['Mustafa', 'Raza', 'Sara', 'Aqsa']\n"
          ]
        }
      ]
    },
    {
      "cell_type": "code",
      "source": [
        "user += [\"Nimra\"]  #Add two list\n",
        "user += ['Moiz']  #Add two list\n",
        "user.extend([\"Iqbal\", \"Tasleem\", \"Fatima\", \"Zehra\"])"
      ],
      "metadata": {
        "id": "6UOHKNYJEyY2"
      },
      "execution_count": null,
      "outputs": []
    },
    {
      "cell_type": "code",
      "source": [
        "print(user)"
      ],
      "metadata": {
        "colab": {
          "base_uri": "https://localhost:8080/"
        },
        "id": "bR6deCejFq0U",
        "outputId": "06c1a6c8-c589-4fd4-dcdf-255136b80bee"
      },
      "execution_count": null,
      "outputs": [
        {
          "output_type": "stream",
          "name": "stdout",
          "text": [
            "['Mustafa', 'Raza', 'Sara', 'Aqsa', 'Nimra', 'Nimra', 'Nimra', 'Iqbal', 'Tasleem', 'Nimra', 'Iqbal', 'Tasleem', 'Fatima', 'Zehra', 'Nimra', 'Iqbal', 'Tasleem', 'Fatima', 'Zehra', 'Nimra', 'Moiz', 'Iqbal', 'Tasleem', 'Fatima', 'Zehra']\n"
          ]
        }
      ]
    },
    {
      "cell_type": "code",
      "source": [
        "user.insert(0, \"Iqbal Hassan\")"
      ],
      "metadata": {
        "id": "YzDu5_xcFsIx"
      },
      "execution_count": null,
      "outputs": []
    },
    {
      "cell_type": "code",
      "source": [
        "Mylist = [\"Mustafa\", 4, \"Raza\", 3.99, \"Sarah\", \"Aqsa\"]\n",
        "res = []\n",
        "for i in Mylist:\n",
        "  if type(i) == str:\n",
        "    res.append(len(i))\n",
        "\n",
        "print(res)"
      ],
      "metadata": {
        "colab": {
          "base_uri": "https://localhost:8080/"
        },
        "id": "lewoWirWGNkW",
        "outputId": "1b6214bb-0ef8-4c6c-e26a-cc3884a977af"
      },
      "execution_count": null,
      "outputs": [
        {
          "output_type": "stream",
          "name": "stdout",
          "text": [
            "[7, 4, 5, 4]\n"
          ]
        }
      ]
    },
    {
      "cell_type": "code",
      "source": [
        "user.remove(\"Mustafa\")\n",
        "print(user)"
      ],
      "metadata": {
        "colab": {
          "base_uri": "https://localhost:8080/"
        },
        "id": "Xbm0Uo4QGrgw",
        "outputId": "ebf30530-9680-4336-a781-b9156487a50e"
      },
      "execution_count": null,
      "outputs": [
        {
          "output_type": "stream",
          "name": "stdout",
          "text": [
            "['Iqbal Hassan', 'Raza', 'Sara', 'Aqsa', 'Nimra', 'Nimra', 'Nimra', 'Iqbal', 'Tasleem', 'Nimra', 'Iqbal', 'Tasleem', 'Fatima', 'Zehra', 'Nimra', 'Iqbal', 'Tasleem', 'Fatima', 'Zehra', 'Nimra', 'Moiz', 'Iqbal', 'Tasleem', 'Fatima', 'Zehra']\n"
          ]
        }
      ]
    },
    {
      "cell_type": "code",
      "source": [
        "user.pop()"
      ],
      "metadata": {
        "colab": {
          "base_uri": "https://localhost:8080/",
          "height": 35
        },
        "id": "SWdGovyLHHW-",
        "outputId": "f341cced-1a23-467c-a164-4279cf93d12d"
      },
      "execution_count": null,
      "outputs": [
        {
          "output_type": "execute_result",
          "data": {
            "text/plain": [
              "'Zehra'"
            ],
            "application/vnd.google.colaboratory.intrinsic+json": {
              "type": "string"
            }
          },
          "metadata": {},
          "execution_count": 33
        }
      ]
    },
    {
      "cell_type": "code",
      "source": [
        "del user"
      ],
      "metadata": {
        "id": "v-iXBX1WHN6l"
      },
      "execution_count": null,
      "outputs": []
    },
    {
      "cell_type": "code",
      "source": [
        "value = 0\n",
        "while value <= 10:\n",
        "  print(value)\n",
        "  if value == 5:\n",
        "    break\n",
        "  value+=1"
      ],
      "metadata": {
        "colab": {
          "base_uri": "https://localhost:8080/"
        },
        "id": "Zo8maqzlHXgj",
        "outputId": "111f6d5a-9905-4802-876c-6ad2066e6e6c"
      },
      "execution_count": null,
      "outputs": [
        {
          "output_type": "stream",
          "name": "stdout",
          "text": [
            "0\n",
            "1\n",
            "2\n",
            "3\n",
            "4\n",
            "5\n"
          ]
        }
      ]
    },
    {
      "cell_type": "code",
      "source": [
        "for x in range(5, 101, 5):\n",
        "  print(x)"
      ],
      "metadata": {
        "colab": {
          "base_uri": "https://localhost:8080/"
        },
        "id": "CvEebJdUIUgm",
        "outputId": "c9b39e20-893e-4355-cf01-a0d918b52f60"
      },
      "execution_count": null,
      "outputs": [
        {
          "output_type": "stream",
          "name": "stdout",
          "text": [
            "5\n",
            "10\n",
            "15\n",
            "20\n",
            "25\n",
            "30\n",
            "35\n",
            "40\n",
            "45\n",
            "50\n",
            "55\n",
            "60\n",
            "65\n",
            "70\n",
            "75\n",
            "80\n",
            "85\n",
            "90\n",
            "95\n",
            "100\n"
          ]
        }
      ]
    },
    {
      "cell_type": "code",
      "source": [
        "for i in range(40, 0, -4):\n",
        "  print(i)"
      ],
      "metadata": {
        "colab": {
          "base_uri": "https://localhost:8080/"
        },
        "id": "u_uGwleQIyvt",
        "outputId": "03d4a108-d77e-46e9-c0d3-82a304e3b78d"
      },
      "execution_count": null,
      "outputs": [
        {
          "output_type": "stream",
          "name": "stdout",
          "text": [
            "40\n",
            "36\n",
            "32\n",
            "28\n",
            "24\n",
            "20\n",
            "16\n",
            "12\n",
            "8\n",
            "4\n"
          ]
        }
      ]
    },
    {
      "cell_type": "code",
      "source": [
        "def hello():\n",
        "  print(\"Hello World!\")\n",
        "\n",
        "hello()"
      ],
      "metadata": {
        "colab": {
          "base_uri": "https://localhost:8080/"
        },
        "id": "o9rIktkAJCNG",
        "outputId": "081703f9-0715-4011-d566-19d0fbe6f801"
      },
      "execution_count": null,
      "outputs": [
        {
          "output_type": "stream",
          "name": "stdout",
          "text": [
            "Hello World!\n"
          ]
        }
      ]
    },
    {
      "cell_type": "code",
      "source": [
        "def sum(num1=0, num2=0):\n",
        "  if(type(num1) is not int or type(num2) is not int):\n",
        "    return\n",
        "  return num1+num2\n",
        "\n",
        "sum(\"A\",2)\n",
        "sum()"
      ],
      "metadata": {
        "colab": {
          "base_uri": "https://localhost:8080/"
        },
        "id": "l7jsqMwfJjp7",
        "outputId": "21489a78-18e3-4d63-8634-9e8a49d8849c"
      },
      "execution_count": null,
      "outputs": [
        {
          "output_type": "execute_result",
          "data": {
            "text/plain": [
              "0"
            ]
          },
          "metadata": {},
          "execution_count": 66
        }
      ]
    },
    {
      "cell_type": "code",
      "source": [
        "def mul(*args):  #form multiple arguments we use *args and its type is tuple\n",
        "  print(args)\n",
        "  print(type(args))\n",
        "\n",
        "mul(\"Def\", \"Jon\", \"Sara\")"
      ],
      "metadata": {
        "colab": {
          "base_uri": "https://localhost:8080/"
        },
        "id": "n33Ea5RsOcVz",
        "outputId": "6f83f7b7-f871-4571-817e-8ccad7dc98ee"
      },
      "execution_count": null,
      "outputs": [
        {
          "output_type": "stream",
          "name": "stdout",
          "text": [
            "('Def', 'Jon', 'Sara')\n",
            "<class 'tuple'>\n"
          ]
        }
      ]
    },
    {
      "cell_type": "code",
      "source": [
        "def mul_items_named(**kwargs):\n",
        "  print(kwargs)\n",
        "  print(type(kwargs))\n",
        "\n",
        "mul_items_named(First=\"Mustafa\", last=\"'Hassan\")"
      ],
      "metadata": {
        "colab": {
          "base_uri": "https://localhost:8080/"
        },
        "id": "i3GfoXIaPiLz",
        "outputId": "15c37eab-4825-4dbe-87a8-5edc57885d72"
      },
      "execution_count": null,
      "outputs": [
        {
          "output_type": "stream",
          "name": "stdout",
          "text": [
            "{'First': 'Mustafa', 'last': \"'Hassan\"}\n",
            "<class 'dict'>\n"
          ]
        }
      ]
    },
    {
      "cell_type": "code",
      "source": [
        "def add_one(num):\n",
        "  if(num >= 9):\n",
        "    return num+1\n",
        "\n",
        "  total = num+1\n",
        "  print(total)\n",
        "  return add_one(total)\n",
        "\n",
        "add_one(0)"
      ],
      "metadata": {
        "colab": {
          "base_uri": "https://localhost:8080/"
        },
        "id": "dVrtVCTNQKWJ",
        "outputId": "c4036bce-ffb6-4e63-b6fa-939780602963"
      },
      "execution_count": null,
      "outputs": [
        {
          "output_type": "stream",
          "name": "stdout",
          "text": [
            "1\n",
            "2\n",
            "3\n",
            "4\n",
            "5\n",
            "6\n",
            "7\n",
            "8\n",
            "9\n"
          ]
        },
        {
          "output_type": "execute_result",
          "data": {
            "text/plain": [
              "10"
            ]
          },
          "metadata": {},
          "execution_count": 74
        }
      ]
    },
    {
      "cell_type": "code",
      "source": [
        "value = \"Y\"\n",
        "count = 0\n",
        "\n",
        "while value:\n",
        "  count += 1\n",
        "  print(count)\n",
        "  if(count == 5):\n",
        "    break\n",
        "  else:\n",
        "    value = 0\n",
        "    continue"
      ],
      "metadata": {
        "colab": {
          "base_uri": "https://localhost:8080/"
        },
        "id": "JSE3gjY7Q74G",
        "outputId": "ccfa4c2f-b664-4b74-891c-6d03d49e445e"
      },
      "execution_count": null,
      "outputs": [
        {
          "output_type": "stream",
          "name": "stdout",
          "text": [
            "1\n"
          ]
        }
      ]
    },
    {
      "cell_type": "markdown",
      "source": [
        "# **Rock || Paper || Scissors**"
      ],
      "metadata": {
        "id": "JxoKiQtWTUyS"
      }
    },
    {
      "cell_type": "code",
      "source": [
        "import sys\n",
        "import random\n",
        "from enum import Enum\n",
        "\n",
        "class RPS(Enum):\n",
        "  ROCK = 1\n",
        "  PAPER = 2\n",
        "  SCISSOR = 3\n",
        "\n",
        "playagain = True\n",
        "\n",
        "while playagain:\n",
        "  playerchoice = input(\"Enter Choice \\n 1->ROCK \\n 2->PAPER \\n 3->SCISSOR\")\n",
        "\n",
        "  player = int(playerchoice)\n",
        "\n",
        "  if player<1 or player>3:\n",
        "    sys.exit(\"You must enter 1, 2, or 3.\")\n",
        "\n",
        "  computerchoice = random.choice(\"123\")\n",
        "  computer = int(computerchoice)\n",
        "\n",
        "  print(\"\\n You chose\" + str(RPS(player)).replace('RPS.', '').title()+\".\")\n",
        "  print(\"\\n Python chose\" + str(RPS(computer)).replace('RPS.', '').title()+\".\\n\")\n",
        "\n",
        "  if player == 1 and computer==3:\n",
        "        print(\" You Win !\")\n",
        "  elif player == 2 and computer==1:\n",
        "        print(\" You Win !\")\n",
        "  elif player == 3 and computer==2:\n",
        "        print(\" You Win !\")\n",
        "  elif player==computer:\n",
        "        print(\"Python won\")\n",
        "\n",
        "  palyagain =   input(\"\\n Play Again? \\n Y -> Yes \\n N -> NO \\n Q -> Quit\")\n",
        "\n",
        "  if playagain.lower() == \"y\":\n",
        "        continue\n",
        "  else:\n",
        "        print(\"Thank YOU\")\n",
        "        playagin = False\n",
        "\n",
        "sys.exit(\"Bye!\")"
      ],
      "metadata": {
        "colab": {
          "base_uri": "https://localhost:8080/",
          "height": 193
        },
        "id": "5SSNjGdHS18t",
        "outputId": "8347a3ae-7f35-4e2f-98e5-393a4dc9a5ca"
      },
      "execution_count": null,
      "outputs": [
        {
          "name": "stdout",
          "output_type": "stream",
          "text": [
            "Enter Choice \n",
            " 1->ROCK \n",
            " 2->PAPER \n",
            " 3->SCISSOR4\n"
          ]
        },
        {
          "output_type": "error",
          "ename": "SystemExit",
          "evalue": "You must enter 1, 2, or 3.",
          "traceback": [
            "An exception has occurred, use %tb to see the full traceback.\n",
            "\u001b[0;31mSystemExit\u001b[0m\u001b[0;31m:\u001b[0m You must enter 1, 2, or 3.\n"
          ]
        },
        {
          "output_type": "stream",
          "name": "stderr",
          "text": [
            "/usr/local/lib/python3.10/dist-packages/IPython/core/interactiveshell.py:3561: UserWarning: To exit: use 'exit', 'quit', or Ctrl-D.\n",
            "  warn(\"To exit: use 'exit', 'quit', or Ctrl-D.\", stacklevel=1)\n"
          ]
        }
      ]
    },
    {
      "cell_type": "markdown",
      "source": [
        "# **Clouser:** is a function having access to the scope of its parent function after the parent function returned."
      ],
      "metadata": {
        "id": "xjIHwz9Z-1X8"
      }
    },
    {
      "cell_type": "code",
      "source": [
        "def parent_function(person):\n",
        "  coins = 3\n",
        "\n",
        "  def play_game():\n",
        "    nonlocal conis\n",
        "    conis -= 1\n",
        "\n",
        "    if conis>1:\n",
        "      print(\"\\n \"+ person + \" has \" + str(conis) + \" conis left.\")\n",
        "    elif conius == 1:\n",
        "      print(\"\\n \"+ person + \" has \" + str(conis) + \" conis left.\")\n",
        "    else:\n",
        "      print(\"\\n \"+ person + \" is out of conis.\")\n",
        "\n",
        "  return play_game\n",
        "\n",
        "  mus = parent_function(\"Must\")\n",
        "  tafa = parent_function(\"afa\")\n",
        "\n",
        "  mus()\n",
        "  mus()\n",
        "\n",
        "  tafa()"
      ],
      "metadata": {
        "id": "3wNuSQKxVFhn",
        "colab": {
          "base_uri": "https://localhost:8080/",
          "height": 106
        },
        "outputId": "421a91e5-c159-468d-b225-68fc083d1455"
      },
      "execution_count": 1,
      "outputs": [
        {
          "output_type": "error",
          "ename": "SyntaxError",
          "evalue": "no binding for nonlocal 'conis' found (<ipython-input-1-ad680eab325f>, line 5)",
          "traceback": [
            "\u001b[0;36m  File \u001b[0;32m\"<ipython-input-1-ad680eab325f>\"\u001b[0;36m, line \u001b[0;32m5\u001b[0m\n\u001b[0;31m    nonlocal conis\u001b[0m\n\u001b[0m    ^\u001b[0m\n\u001b[0;31mSyntaxError\u001b[0m\u001b[0;31m:\u001b[0m no binding for nonlocal 'conis' found\n"
          ]
        }
      ]
    },
    {
      "cell_type": "code",
      "source": [
        "import math\n",
        "print(math.pi)"
      ],
      "metadata": {
        "colab": {
          "base_uri": "https://localhost:8080/"
        },
        "id": "82ww1GDRJoZn",
        "outputId": "627f2c3e-a96f-4c75-c153-25baa1dea654"
      },
      "execution_count": 2,
      "outputs": [
        {
          "output_type": "stream",
          "name": "stdout",
          "text": [
            "3.141592653589793\n"
          ]
        }
      ]
    },
    {
      "cell_type": "code",
      "source": [
        "import sys\n",
        "import random\n",
        "from enum import Enum\n",
        "\n",
        "random.choice()"
      ],
      "metadata": {
        "colab": {
          "base_uri": "https://localhost:8080/",
          "height": 176
        },
        "id": "EO5DTNFTLY5e",
        "outputId": "b31a35c7-5c3f-49b0-864e-66a40e935a11"
      },
      "execution_count": 4,
      "outputs": [
        {
          "output_type": "error",
          "ename": "TypeError",
          "evalue": "Random.choice() missing 1 required positional argument: 'seq'",
          "traceback": [
            "\u001b[0;31m---------------------------------------------------------------------------\u001b[0m",
            "\u001b[0;31mTypeError\u001b[0m                                 Traceback (most recent call last)",
            "\u001b[0;32m<ipython-input-4-0538da53203a>\u001b[0m in \u001b[0;36m<cell line: 5>\u001b[0;34m()\u001b[0m\n\u001b[1;32m      3\u001b[0m \u001b[0;32mfrom\u001b[0m \u001b[0menum\u001b[0m \u001b[0;32mimport\u001b[0m \u001b[0mEnum\u001b[0m\u001b[0;34m\u001b[0m\u001b[0;34m\u001b[0m\u001b[0m\n\u001b[1;32m      4\u001b[0m \u001b[0;34m\u001b[0m\u001b[0m\n\u001b[0;32m----> 5\u001b[0;31m \u001b[0mrandom\u001b[0m\u001b[0;34m.\u001b[0m\u001b[0mchoice\u001b[0m\u001b[0;34m(\u001b[0m\u001b[0;34m)\u001b[0m\u001b[0;34m\u001b[0m\u001b[0;34m\u001b[0m\u001b[0m\n\u001b[0m",
            "\u001b[0;31mTypeError\u001b[0m: Random.choice() missing 1 required positional argument: 'seq'"
          ]
        }
      ]
    },
    {
      "cell_type": "code",
      "source": [
        "from __future__ import print_function\n",
        "import sys\n",
        "import random\n",
        "\n",
        "def guess_number(name='PlayerOne'):\n",
        "  game_count = 0\n",
        "  player_wins = 0\n",
        "\n",
        "  def paly_guess_number():\n",
        "    nonlocal name\n",
        "    nonlocal player_wins\n",
        "\n",
        "    playerchoice = input(\"\\n\"+ name + \" guess which number I'm thining of...1 2 3\")\n",
        "\n",
        "    if playerchoice not in [\"1\", \"2\", \"3\"]:\n",
        "      print(\"Please enter 1, 2, or 3.\")\n",
        "      return paly_guess_number()\n",
        "\n",
        "    computerchoice = random.choice(\"123\")\n",
        "    print(name + \" you chose \"+ playerchoice)\n",
        "    print(\"I was thinking about the number \"+ computerchoice)\n",
        "\n",
        "    player = int(playerchoice)\n",
        "    computer = int(computerchoice)\n",
        "\n",
        "    def decide_winner(player, computer):\n",
        "      nonlocal name\n",
        "      nonlocal player_wins\n",
        "\n",
        "      if player == computer:\n",
        "        player_wins += 1\n",
        "        return f\"{name}, you win!\"\n",
        "      else:\n",
        "        return f\"Sorry {name}!\"\n",
        "    game_result  = decide_winner(player, computer)\n",
        "\n",
        "    print(game_result)\n",
        "\n",
        "    nonlocal game_count\n",
        "    game_count += 1\n",
        "\n",
        "    print(f\"\\n Game Count: {game_count}\")\n",
        "    print(f\"\\n {name}'s Win: {player_wins}\")\n",
        "    print(f\"\\n Your winning percentage: {player_wins/game_count:.2%}\")\n",
        "\n",
        "    print(f\"\\n Play again. {name}?\")\n",
        "\n",
        "    while True:\n",
        "      playagin = input(\"\\nY for Yes or \\nQ to qiut\\n\")\n",
        "      if playagin.lower() == \"Y\":\n",
        "        return paly_guess_number()\n",
        "      else:\n",
        "        print(\"\\n Thank for playing\")\n",
        "        if __name__ == \"__main__\":\n",
        "          sys.exit(f\"Bye {name}\")\n",
        "        else:\n",
        "          return\n",
        "  return paly_guess_number\n",
        "\n",
        "if __name__ == \"__main__\":\n",
        "  import argparse\n",
        "\n",
        "  parser = argparse.ArgumentParser(\n",
        "      description = \"Provide a personlazied game expericence.\"\n",
        "  )\n",
        "\n",
        "  parser.add_argument(\n",
        "      '-n', '-name', metavar = 'name', required = \"True\", help='The name of the person playing the game'\n",
        "   )\n",
        "\n",
        "  args = parser.parse_args()\n",
        "\n",
        "  print(f\"\\n {args.name}, welcome to the Arcade!\")\n",
        "\n",
        "  play_game(agrs.name)\n"
      ],
      "metadata": {
        "colab": {
          "base_uri": "https://localhost:8080/",
          "height": 124
        },
        "id": "aVODaGiaLztR",
        "outputId": "b9392189-6a2b-4716-abe9-4a3feb9e4b0e"
      },
      "execution_count": 10,
      "outputs": [
        {
          "output_type": "stream",
          "name": "stderr",
          "text": [
            "usage: colab_kernel_launcher.py [-h] -n name\n",
            "colab_kernel_launcher.py: error: the following arguments are required: -n/-name\n"
          ]
        },
        {
          "output_type": "error",
          "ename": "SystemExit",
          "evalue": "2",
          "traceback": [
            "An exception has occurred, use %tb to see the full traceback.\n",
            "\u001b[0;31mSystemExit\u001b[0m\u001b[0;31m:\u001b[0m 2\n"
          ]
        }
      ]
    },
    {
      "cell_type": "code",
      "source": [],
      "metadata": {
        "id": "xad6o1x8M-Y-"
      },
      "execution_count": 9,
      "outputs": []
    }
  ]
}