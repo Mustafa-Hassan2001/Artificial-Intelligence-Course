{
 "cells": [
  {
   "cell_type": "code",
   "execution_count": 1,
   "metadata": {},
   "outputs": [
    {
     "name": "stdout",
     "output_type": "stream",
     "text": [
      "Requirement already satisfied: numpy in c:\\programdata\\anaconda3\\lib\\site-packages (1.16.2)\n",
      "Note: you may need to restart the kernel to use updated packages.\n"
     ]
    }
   ],
   "source": [
    " pip install numpy"
   ]
  },
  {
   "cell_type": "code",
   "execution_count": 20,
   "metadata": {
    "scrolled": true
   },
   "outputs": [
    {
     "name": "stdout",
     "output_type": "stream",
     "text": [
      "[[8 3 1 9 3 2 2 2]]\n",
      "[3 3 2 2 2]\n"
     ]
    }
   ],
   "source": [
    "import numpy as np\n",
    "\n",
    "def is_prime(num):\n",
    "    if num < 2:\n",
    "        return False\n",
    "    for i in range(2, int(num**0.5) + 1):\n",
    "        if num % i == 0:\n",
    "            return False\n",
    "    return True\n",
    "\n",
    "def find_primes(arr):\n",
    "    prime = []\n",
    "    for num in arr.flat: \n",
    "        if is_prime(num):\n",
    "            prime.append(num)\n",
    "    return np.array(prime)\n",
    "\n",
    "org_array = np.random.randint(1,10, (1, 8))\n",
    "prime_array = find_primes(org_array)\n",
    "\n",
    "print(org_array)\n",
    "print(prime_array)"
   ]
  },
  {
   "cell_type": "code",
   "execution_count": 32,
   "metadata": {},
   "outputs": [
    {
     "name": "stdout",
     "output_type": "stream",
     "text": [
      "[[9 6 6 8]\n",
      " [1 8 6 7]\n",
      " [2 8 1 5]]\n",
      "[[8 5 5 7]\n",
      " [0 7 5 6]\n",
      " [1 7 0 4]]\n",
      "Matrix Addition: [[17 11 11 15]\n",
      " [ 1 15 11 13]\n",
      " [ 3 15  1  9]]\n"
     ]
    }
   ],
   "source": [
    "np.random.seed(15)  \n",
    "x = np.random.randint(1, 10, (3, 4))\n",
    "print(array1)\n",
    "\n",
    "np.random.seed(15)\n",
    "y = np.random.randint(0, 10, size=(3, 4))\n",
    "print(array2)\n",
    "\n",
    "Addition = x + y\n",
    "print(\"Matrix Addition:\", Addition)\n"
   ]
  },
  {
   "cell_type": "code",
   "execution_count": 37,
   "metadata": {},
   "outputs": [
    {
     "name": "stdout",
     "output_type": "stream",
     "text": [
      "[6, 3, 3, 4, 3, 2]\n",
      "21\n"
     ]
    }
   ],
   "source": [
    "def calculateSum():\n",
    "    sum = 0\n",
    "    list1 = []\n",
    "    for i in range(1, 7):\n",
    "        x = np.random.randint(1,7)\n",
    "        list1.append(x)\n",
    "    for i in list1:\n",
    "            sum = sum + i\n",
    "            \n",
    "    print(list1)\n",
    "    print(sum)\n",
    "    if sum>25:\n",
    "        print(\"I Won\")\n",
    "        \n",
    "calculateSum()"
   ]
  },
  {
   "cell_type": "code",
   "execution_count": null,
   "metadata": {},
   "outputs": [],
   "source": []
  }
 ],
 "metadata": {
  "kernelspec": {
   "display_name": "Python 3",
   "language": "python",
   "name": "python3"
  },
  "language_info": {
   "codemirror_mode": {
    "name": "ipython",
    "version": 3
   },
   "file_extension": ".py",
   "mimetype": "text/x-python",
   "name": "python",
   "nbconvert_exporter": "python",
   "pygments_lexer": "ipython3",
   "version": "3.7.3"
  }
 },
 "nbformat": 4,
 "nbformat_minor": 2
}
