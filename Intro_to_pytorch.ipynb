{
  "nbformat": 4,
  "nbformat_minor": 0,
  "metadata": {
    "colab": {
      "provenance": [],
      "gpuType": "T4"
    },
    "kernelspec": {
      "name": "python3",
      "display_name": "Python 3"
    },
    "language_info": {
      "name": "python"
    },
    "accelerator": "GPU",
    "widgets": {
      "application/vnd.jupyter.widget-state+json": {
        "be2efb030f174060894a2718eadbc4b8": {
          "model_module": "@jupyter-widgets/controls",
          "model_name": "HBoxModel",
          "model_module_version": "1.5.0",
          "state": {
            "_dom_classes": [],
            "_model_module": "@jupyter-widgets/controls",
            "_model_module_version": "1.5.0",
            "_model_name": "HBoxModel",
            "_view_count": null,
            "_view_module": "@jupyter-widgets/controls",
            "_view_module_version": "1.5.0",
            "_view_name": "HBoxView",
            "box_style": "",
            "children": [
              "IPY_MODEL_2c824341c3164979adc54736c99216e2",
              "IPY_MODEL_24ce3c8715a24050b4eab76772471968",
              "IPY_MODEL_e19a6760f85e4924946e1ba7d200c94e"
            ],
            "layout": "IPY_MODEL_673e3a376df44ebc91ec2dd708502ca8"
          }
        },
        "2c824341c3164979adc54736c99216e2": {
          "model_module": "@jupyter-widgets/controls",
          "model_name": "HTMLModel",
          "model_module_version": "1.5.0",
          "state": {
            "_dom_classes": [],
            "_model_module": "@jupyter-widgets/controls",
            "_model_module_version": "1.5.0",
            "_model_name": "HTMLModel",
            "_view_count": null,
            "_view_module": "@jupyter-widgets/controls",
            "_view_module_version": "1.5.0",
            "_view_name": "HTMLView",
            "description": "",
            "description_tooltip": null,
            "layout": "IPY_MODEL_5b340661145e4a8d872c20a9ac3ddf08",
            "placeholder": "​",
            "style": "IPY_MODEL_641c91a3dce344c5b8a89c28ec847d10",
            "value": "100%"
          }
        },
        "24ce3c8715a24050b4eab76772471968": {
          "model_module": "@jupyter-widgets/controls",
          "model_name": "FloatProgressModel",
          "model_module_version": "1.5.0",
          "state": {
            "_dom_classes": [],
            "_model_module": "@jupyter-widgets/controls",
            "_model_module_version": "1.5.0",
            "_model_name": "FloatProgressModel",
            "_view_count": null,
            "_view_module": "@jupyter-widgets/controls",
            "_view_module_version": "1.5.0",
            "_view_name": "ProgressView",
            "bar_style": "success",
            "description": "",
            "description_tooltip": null,
            "layout": "IPY_MODEL_314f0a59ed8c48659523c89123158553",
            "max": 100,
            "min": 0,
            "orientation": "horizontal",
            "style": "IPY_MODEL_9f05183fa2d9415c8296464f75432f7a",
            "value": 100
          }
        },
        "e19a6760f85e4924946e1ba7d200c94e": {
          "model_module": "@jupyter-widgets/controls",
          "model_name": "HTMLModel",
          "model_module_version": "1.5.0",
          "state": {
            "_dom_classes": [],
            "_model_module": "@jupyter-widgets/controls",
            "_model_module_version": "1.5.0",
            "_model_name": "HTMLModel",
            "_view_count": null,
            "_view_module": "@jupyter-widgets/controls",
            "_view_module_version": "1.5.0",
            "_view_name": "HTMLView",
            "description": "",
            "description_tooltip": null,
            "layout": "IPY_MODEL_6bad98185fdb4a6c8f7b3e06bce94f41",
            "placeholder": "​",
            "style": "IPY_MODEL_9b708b9357cb4f7bbdf5da9e08fd7e7a",
            "value": " 100/100 [00:04&lt;00:00, 24.64it/s]"
          }
        },
        "673e3a376df44ebc91ec2dd708502ca8": {
          "model_module": "@jupyter-widgets/base",
          "model_name": "LayoutModel",
          "model_module_version": "1.2.0",
          "state": {
            "_model_module": "@jupyter-widgets/base",
            "_model_module_version": "1.2.0",
            "_model_name": "LayoutModel",
            "_view_count": null,
            "_view_module": "@jupyter-widgets/base",
            "_view_module_version": "1.2.0",
            "_view_name": "LayoutView",
            "align_content": null,
            "align_items": null,
            "align_self": null,
            "border": null,
            "bottom": null,
            "display": null,
            "flex": null,
            "flex_flow": null,
            "grid_area": null,
            "grid_auto_columns": null,
            "grid_auto_flow": null,
            "grid_auto_rows": null,
            "grid_column": null,
            "grid_gap": null,
            "grid_row": null,
            "grid_template_areas": null,
            "grid_template_columns": null,
            "grid_template_rows": null,
            "height": null,
            "justify_content": null,
            "justify_items": null,
            "left": null,
            "margin": null,
            "max_height": null,
            "max_width": null,
            "min_height": null,
            "min_width": null,
            "object_fit": null,
            "object_position": null,
            "order": null,
            "overflow": null,
            "overflow_x": null,
            "overflow_y": null,
            "padding": null,
            "right": null,
            "top": null,
            "visibility": null,
            "width": null
          }
        },
        "5b340661145e4a8d872c20a9ac3ddf08": {
          "model_module": "@jupyter-widgets/base",
          "model_name": "LayoutModel",
          "model_module_version": "1.2.0",
          "state": {
            "_model_module": "@jupyter-widgets/base",
            "_model_module_version": "1.2.0",
            "_model_name": "LayoutModel",
            "_view_count": null,
            "_view_module": "@jupyter-widgets/base",
            "_view_module_version": "1.2.0",
            "_view_name": "LayoutView",
            "align_content": null,
            "align_items": null,
            "align_self": null,
            "border": null,
            "bottom": null,
            "display": null,
            "flex": null,
            "flex_flow": null,
            "grid_area": null,
            "grid_auto_columns": null,
            "grid_auto_flow": null,
            "grid_auto_rows": null,
            "grid_column": null,
            "grid_gap": null,
            "grid_row": null,
            "grid_template_areas": null,
            "grid_template_columns": null,
            "grid_template_rows": null,
            "height": null,
            "justify_content": null,
            "justify_items": null,
            "left": null,
            "margin": null,
            "max_height": null,
            "max_width": null,
            "min_height": null,
            "min_width": null,
            "object_fit": null,
            "object_position": null,
            "order": null,
            "overflow": null,
            "overflow_x": null,
            "overflow_y": null,
            "padding": null,
            "right": null,
            "top": null,
            "visibility": null,
            "width": null
          }
        },
        "641c91a3dce344c5b8a89c28ec847d10": {
          "model_module": "@jupyter-widgets/controls",
          "model_name": "DescriptionStyleModel",
          "model_module_version": "1.5.0",
          "state": {
            "_model_module": "@jupyter-widgets/controls",
            "_model_module_version": "1.5.0",
            "_model_name": "DescriptionStyleModel",
            "_view_count": null,
            "_view_module": "@jupyter-widgets/base",
            "_view_module_version": "1.2.0",
            "_view_name": "StyleView",
            "description_width": ""
          }
        },
        "314f0a59ed8c48659523c89123158553": {
          "model_module": "@jupyter-widgets/base",
          "model_name": "LayoutModel",
          "model_module_version": "1.2.0",
          "state": {
            "_model_module": "@jupyter-widgets/base",
            "_model_module_version": "1.2.0",
            "_model_name": "LayoutModel",
            "_view_count": null,
            "_view_module": "@jupyter-widgets/base",
            "_view_module_version": "1.2.0",
            "_view_name": "LayoutView",
            "align_content": null,
            "align_items": null,
            "align_self": null,
            "border": null,
            "bottom": null,
            "display": null,
            "flex": null,
            "flex_flow": null,
            "grid_area": null,
            "grid_auto_columns": null,
            "grid_auto_flow": null,
            "grid_auto_rows": null,
            "grid_column": null,
            "grid_gap": null,
            "grid_row": null,
            "grid_template_areas": null,
            "grid_template_columns": null,
            "grid_template_rows": null,
            "height": null,
            "justify_content": null,
            "justify_items": null,
            "left": null,
            "margin": null,
            "max_height": null,
            "max_width": null,
            "min_height": null,
            "min_width": null,
            "object_fit": null,
            "object_position": null,
            "order": null,
            "overflow": null,
            "overflow_x": null,
            "overflow_y": null,
            "padding": null,
            "right": null,
            "top": null,
            "visibility": null,
            "width": null
          }
        },
        "9f05183fa2d9415c8296464f75432f7a": {
          "model_module": "@jupyter-widgets/controls",
          "model_name": "ProgressStyleModel",
          "model_module_version": "1.5.0",
          "state": {
            "_model_module": "@jupyter-widgets/controls",
            "_model_module_version": "1.5.0",
            "_model_name": "ProgressStyleModel",
            "_view_count": null,
            "_view_module": "@jupyter-widgets/base",
            "_view_module_version": "1.2.0",
            "_view_name": "StyleView",
            "bar_color": null,
            "description_width": ""
          }
        },
        "6bad98185fdb4a6c8f7b3e06bce94f41": {
          "model_module": "@jupyter-widgets/base",
          "model_name": "LayoutModel",
          "model_module_version": "1.2.0",
          "state": {
            "_model_module": "@jupyter-widgets/base",
            "_model_module_version": "1.2.0",
            "_model_name": "LayoutModel",
            "_view_count": null,
            "_view_module": "@jupyter-widgets/base",
            "_view_module_version": "1.2.0",
            "_view_name": "LayoutView",
            "align_content": null,
            "align_items": null,
            "align_self": null,
            "border": null,
            "bottom": null,
            "display": null,
            "flex": null,
            "flex_flow": null,
            "grid_area": null,
            "grid_auto_columns": null,
            "grid_auto_flow": null,
            "grid_auto_rows": null,
            "grid_column": null,
            "grid_gap": null,
            "grid_row": null,
            "grid_template_areas": null,
            "grid_template_columns": null,
            "grid_template_rows": null,
            "height": null,
            "justify_content": null,
            "justify_items": null,
            "left": null,
            "margin": null,
            "max_height": null,
            "max_width": null,
            "min_height": null,
            "min_width": null,
            "object_fit": null,
            "object_position": null,
            "order": null,
            "overflow": null,
            "overflow_x": null,
            "overflow_y": null,
            "padding": null,
            "right": null,
            "top": null,
            "visibility": null,
            "width": null
          }
        },
        "9b708b9357cb4f7bbdf5da9e08fd7e7a": {
          "model_module": "@jupyter-widgets/controls",
          "model_name": "DescriptionStyleModel",
          "model_module_version": "1.5.0",
          "state": {
            "_model_module": "@jupyter-widgets/controls",
            "_model_module_version": "1.5.0",
            "_model_name": "DescriptionStyleModel",
            "_view_count": null,
            "_view_module": "@jupyter-widgets/base",
            "_view_module_version": "1.2.0",
            "_view_name": "StyleView",
            "description_width": ""
          }
        }
      }
    }
  },
  "cells": [
    {
      "cell_type": "code",
      "execution_count": 2,
      "metadata": {
        "colab": {
          "base_uri": "https://localhost:8080/"
        },
        "id": "B0mCZzmukEiC",
        "outputId": "6a53def5-eaf2-4519-e0f0-4342abbf0908"
      },
      "outputs": [
        {
          "output_type": "stream",
          "name": "stderr",
          "text": [
            "<ipython-input-2-dfcb9335bd52>:11: DeprecationWarning: `set_matplotlib_formats` is deprecated since IPython 7.23, directly use `matplotlib_inline.backend_inline.set_matplotlib_formats()`\n",
            "  set_matplotlib_formats('svg', 'pdf') # For export\n"
          ]
        }
      ],
      "source": [
        "## Standard libraries\n",
        "import os\n",
        "import math\n",
        "import numpy as np\n",
        "import time\n",
        "\n",
        "## Imports for plotting\n",
        "import matplotlib.pyplot as plt\n",
        "%matplotlib inline\n",
        "from IPython.display import set_matplotlib_formats\n",
        "set_matplotlib_formats('svg', 'pdf') # For export\n",
        "from matplotlib.colors import to_rgba\n",
        "import seaborn as sns\n",
        "sns.set()\n",
        "\n",
        "## Progress bar\n",
        "from tqdm.notebook import tqdm"
      ]
    },
    {
      "cell_type": "code",
      "source": [
        "import torch\n",
        "print(\"Using torch\", torch.__version__)"
      ],
      "metadata": {
        "colab": {
          "base_uri": "https://localhost:8080/"
        },
        "id": "TPL7felZmC1h",
        "outputId": "a259f4bf-fa2a-4ef7-a6fa-223b9ffb0b9b"
      },
      "execution_count": 3,
      "outputs": [
        {
          "output_type": "stream",
          "name": "stdout",
          "text": [
            "Using torch 2.2.1+cu121\n"
          ]
        }
      ]
    },
    {
      "cell_type": "code",
      "source": [
        "torch.manual_seed(42) # Setting the seed number genrator"
      ],
      "metadata": {
        "colab": {
          "base_uri": "https://localhost:8080/"
        },
        "id": "Ohljy7ojmOU_",
        "outputId": "9e34f5e2-22fe-4b1f-f4ad-219f958635a0"
      },
      "execution_count": 4,
      "outputs": [
        {
          "output_type": "execute_result",
          "data": {
            "text/plain": [
              "<torch._C.Generator at 0x7b0c0c862010>"
            ]
          },
          "metadata": {},
          "execution_count": 4
        }
      ]
    },
    {
      "cell_type": "code",
      "source": [
        "x = torch.Tensor(2, 3, 4)\n",
        "print(x)"
      ],
      "metadata": {
        "colab": {
          "base_uri": "https://localhost:8080/"
        },
        "id": "H6-pvu72mZjN",
        "outputId": "e60ebef3-3696-418d-871e-d33a02dbd46a"
      },
      "execution_count": 5,
      "outputs": [
        {
          "output_type": "stream",
          "name": "stdout",
          "text": [
            "tensor([[[3.2297e+17, 4.4141e-41, 3.2297e+17, 4.4141e-41],\n",
            "         [0.0000e+00, 0.0000e+00, 0.0000e+00, 0.0000e+00],\n",
            "         [1.0997e-32, 6.7305e+22, 1.7678e+31, 1.6458e+19]],\n",
            "\n",
            "        [[7.7155e+31, 1.6486e+22, 4.3066e+21, 7.1768e+22],\n",
            "         [1.4348e-19, 6.7211e+08, 8.7521e-04, 1.3563e-19],\n",
            "         [2.2016e-18, 7.2676e+31, 4.6114e+24, 7.1758e+22]]])\n"
          ]
        }
      ]
    },
    {
      "cell_type": "code",
      "source": [
        "# Create a tensor from a (nested) list\n",
        "x = torch.Tensor([[1, 2], [3, 4]])\n",
        "print(x)"
      ],
      "metadata": {
        "colab": {
          "base_uri": "https://localhost:8080/"
        },
        "id": "f8dFJB0DmerY",
        "outputId": "5d1c823c-6c4a-4902-ca3c-a8e2745e5b33"
      },
      "execution_count": 6,
      "outputs": [
        {
          "output_type": "stream",
          "name": "stdout",
          "text": [
            "tensor([[1., 2.],\n",
            "        [3., 4.]])\n"
          ]
        }
      ]
    },
    {
      "cell_type": "code",
      "source": [
        "x = torch.Tensor(2, 3, 4)\n",
        "print(x)"
      ],
      "metadata": {
        "colab": {
          "base_uri": "https://localhost:8080/"
        },
        "id": "l5YmSBPpmhV2",
        "outputId": "1f525ad8-7b52-4cb9-80a0-bcb63f56630f"
      },
      "execution_count": 7,
      "outputs": [
        {
          "output_type": "stream",
          "name": "stdout",
          "text": [
            "tensor([[[ 3.2297e+17,  4.4141e-41,  3.2297e+17,  4.4141e-41],\n",
            "         [ 4.4842e-44,  0.0000e+00,  1.5695e-43,  0.0000e+00],\n",
            "         [-3.7178e-25,  7.0065e-45,  0.0000e+00,  0.0000e+00]],\n",
            "\n",
            "        [[ 1.4013e-45,  0.0000e+00,  1.5544e+20,  3.2081e-41],\n",
            "         [ 1.2959e-31,  4.4141e-41,  1.5544e+20,  3.2081e-41],\n",
            "         [ 9.1477e-41,  0.0000e+00,  1.4013e-45,  0.0000e+00]]])\n"
          ]
        }
      ]
    },
    {
      "cell_type": "code",
      "source": [
        "shape = x.shape\n",
        "print(\"Shape:\", x.shape)\n",
        "\n",
        "size = x.size()\n",
        "print(\"Size:\", size)\n",
        "\n",
        "dim1, dim2, dim3 = x.size()\n",
        "print(\"Size:\", dim1, dim2, dim3)"
      ],
      "metadata": {
        "colab": {
          "base_uri": "https://localhost:8080/"
        },
        "id": "g2dbiHJMmynC",
        "outputId": "cc1491c8-ccfb-4651-864d-9f44a057b7fd"
      },
      "execution_count": 8,
      "outputs": [
        {
          "output_type": "stream",
          "name": "stdout",
          "text": [
            "Shape: torch.Size([2, 3, 4])\n",
            "Size: torch.Size([2, 3, 4])\n",
            "Size: 2 3 4\n"
          ]
        }
      ]
    },
    {
      "cell_type": "code",
      "source": [
        "np_arr = np.array([[1, 2], [3, 4]])\n",
        "tensor = torch.from_numpy(np_arr)\n",
        "\n",
        "print(\"Numpy array:\", np_arr)\n",
        "print(\"PyTorch tensor:\", tensor)"
      ],
      "metadata": {
        "colab": {
          "base_uri": "https://localhost:8080/"
        },
        "id": "zvwUl7llm2Es",
        "outputId": "0777b76e-3fd2-4148-e8f5-18f195c02fc0"
      },
      "execution_count": 9,
      "outputs": [
        {
          "output_type": "stream",
          "name": "stdout",
          "text": [
            "Numpy array: [[1 2]\n",
            " [3 4]]\n",
            "PyTorch tensor: tensor([[1, 2],\n",
            "        [3, 4]])\n"
          ]
        }
      ]
    },
    {
      "cell_type": "code",
      "source": [
        "tensor = torch.arange(4)\n",
        "np_arr = tensor.numpy()\n",
        "\n",
        "print(\"PyTorch tensor:\", tensor)\n",
        "print(\"Numpy array:\", np_arr)"
      ],
      "metadata": {
        "colab": {
          "base_uri": "https://localhost:8080/"
        },
        "id": "Bm2omiY-nnX-",
        "outputId": "89f4821d-e57d-4b12-8c9d-358a51fa427c"
      },
      "execution_count": 10,
      "outputs": [
        {
          "output_type": "stream",
          "name": "stdout",
          "text": [
            "PyTorch tensor: tensor([0, 1, 2, 3])\n",
            "Numpy array: [0 1 2 3]\n"
          ]
        }
      ]
    },
    {
      "cell_type": "code",
      "source": [
        "x1 = torch.rand(2, 3)\n",
        "x2 = torch.rand(2, 3)\n",
        "y = x1 + x2\n",
        "\n",
        "print(\"X1\", x1)\n",
        "print(\"X2\", x2)\n",
        "print(\"Y\", y)"
      ],
      "metadata": {
        "colab": {
          "base_uri": "https://localhost:8080/"
        },
        "id": "cmDL4UAtnpkf",
        "outputId": "0160ea8f-3469-4c70-b92d-c23e18bfe7ca"
      },
      "execution_count": 11,
      "outputs": [
        {
          "output_type": "stream",
          "name": "stdout",
          "text": [
            "X1 tensor([[0.8823, 0.9150, 0.3829],\n",
            "        [0.9593, 0.3904, 0.6009]])\n",
            "X2 tensor([[0.2566, 0.7936, 0.9408],\n",
            "        [0.1332, 0.9346, 0.5936]])\n",
            "Y tensor([[1.1388, 1.7086, 1.3236],\n",
            "        [1.0925, 1.3250, 1.1945]])\n"
          ]
        }
      ]
    },
    {
      "cell_type": "code",
      "source": [
        "x1 = torch.rand(2, 3)\n",
        "x2 = torch.rand(2, 3)\n",
        "print(\"X1 (before)\", x1)\n",
        "print(\"X2 (before)\", x2)\n",
        "\n",
        "x2.add_(x1)\n",
        "print(\"X1 (after)\", x1)\n",
        "print(\"X2 (after)\", x2)"
      ],
      "metadata": {
        "colab": {
          "base_uri": "https://localhost:8080/"
        },
        "id": "4tXdzgDonzXp",
        "outputId": "be04314a-dc7f-4d83-c423-c4ba296ab0e6"
      },
      "execution_count": 12,
      "outputs": [
        {
          "output_type": "stream",
          "name": "stdout",
          "text": [
            "X1 (before) tensor([[0.8694, 0.5677, 0.7411],\n",
            "        [0.4294, 0.8854, 0.5739]])\n",
            "X2 (before) tensor([[0.2666, 0.6274, 0.2696],\n",
            "        [0.4414, 0.2969, 0.8317]])\n",
            "X1 (after) tensor([[0.8694, 0.5677, 0.7411],\n",
            "        [0.4294, 0.8854, 0.5739]])\n",
            "X2 (after) tensor([[1.1360, 1.1952, 1.0107],\n",
            "        [0.8708, 1.1824, 1.4056]])\n"
          ]
        }
      ]
    },
    {
      "cell_type": "code",
      "source": [
        "x = torch.arange(6)\n",
        "print(\"X\", x)"
      ],
      "metadata": {
        "colab": {
          "base_uri": "https://localhost:8080/"
        },
        "id": "BDF5izBSn3Jp",
        "outputId": "a8a4a714-8f0b-4a09-96a7-6709d4d9a421"
      },
      "execution_count": 13,
      "outputs": [
        {
          "output_type": "stream",
          "name": "stdout",
          "text": [
            "X tensor([0, 1, 2, 3, 4, 5])\n"
          ]
        }
      ]
    },
    {
      "cell_type": "code",
      "source": [
        "x = x.view(2, 3)\n",
        "print(\"X\", x)"
      ],
      "metadata": {
        "colab": {
          "base_uri": "https://localhost:8080/"
        },
        "id": "xoMCK6n5n-um",
        "outputId": "99c7df92-b2bf-4c89-a885-6abb7b6df688"
      },
      "execution_count": 14,
      "outputs": [
        {
          "output_type": "stream",
          "name": "stdout",
          "text": [
            "X tensor([[0, 1, 2],\n",
            "        [3, 4, 5]])\n"
          ]
        }
      ]
    },
    {
      "cell_type": "code",
      "source": [
        "x = x.permute(1, 0) # Swapping dimension 0 and 1\n",
        "print(\"X\", x)"
      ],
      "metadata": {
        "colab": {
          "base_uri": "https://localhost:8080/"
        },
        "id": "PwYrzDzfoAKR",
        "outputId": "02abd911-c422-468e-d706-312f2f12d09c"
      },
      "execution_count": 15,
      "outputs": [
        {
          "output_type": "stream",
          "name": "stdout",
          "text": [
            "X tensor([[0, 3],\n",
            "        [1, 4],\n",
            "        [2, 5]])\n"
          ]
        }
      ]
    },
    {
      "cell_type": "code",
      "source": [
        "x = torch.arange(6)\n",
        "x = x.view(2, 3)\n",
        "print(\"X\", x)"
      ],
      "metadata": {
        "colab": {
          "base_uri": "https://localhost:8080/"
        },
        "id": "VKaTCVkwoCWw",
        "outputId": "7361cfcf-f001-491c-e244-a9489e015c70"
      },
      "execution_count": 16,
      "outputs": [
        {
          "output_type": "stream",
          "name": "stdout",
          "text": [
            "X tensor([[0, 1, 2],\n",
            "        [3, 4, 5]])\n"
          ]
        }
      ]
    },
    {
      "cell_type": "code",
      "source": [
        "W = torch.arange(9).view(3, 3) # We can also stack multiple operations in a single line\n",
        "print(\"W\", W)"
      ],
      "metadata": {
        "colab": {
          "base_uri": "https://localhost:8080/"
        },
        "id": "L_b7_FFGoVn5",
        "outputId": "164e6dd8-cdf4-4bc8-9b49-3a4febf3d09d"
      },
      "execution_count": 17,
      "outputs": [
        {
          "output_type": "stream",
          "name": "stdout",
          "text": [
            "W tensor([[0, 1, 2],\n",
            "        [3, 4, 5],\n",
            "        [6, 7, 8]])\n"
          ]
        }
      ]
    },
    {
      "cell_type": "code",
      "source": [
        "h = torch.matmul(x, W) # Verify the result by calculating it by hand too!\n",
        "print(\"h\", h)"
      ],
      "metadata": {
        "colab": {
          "base_uri": "https://localhost:8080/"
        },
        "id": "jf30nbrYoYMr",
        "outputId": "6ffc4460-1a0e-4a09-d44d-c436a5e5cf9f"
      },
      "execution_count": 18,
      "outputs": [
        {
          "output_type": "stream",
          "name": "stdout",
          "text": [
            "h tensor([[15, 18, 21],\n",
            "        [42, 54, 66]])\n"
          ]
        }
      ]
    },
    {
      "cell_type": "code",
      "source": [
        "x = torch.arange(12).view(3, 4)\n",
        "print(\"X\", x)"
      ],
      "metadata": {
        "colab": {
          "base_uri": "https://localhost:8080/"
        },
        "id": "0Bfz2nJpoaLp",
        "outputId": "de95083a-db0f-4640-96b5-c2a53d7f6d4d"
      },
      "execution_count": 19,
      "outputs": [
        {
          "output_type": "stream",
          "name": "stdout",
          "text": [
            "X tensor([[ 0,  1,  2,  3],\n",
            "        [ 4,  5,  6,  7],\n",
            "        [ 8,  9, 10, 11]])\n"
          ]
        }
      ]
    },
    {
      "cell_type": "code",
      "source": [
        "print(x[0])      # First row"
      ],
      "metadata": {
        "colab": {
          "base_uri": "https://localhost:8080/"
        },
        "id": "JKcFwrYAoeNz",
        "outputId": "03954bb4-6c09-46a0-d3e3-3a09ce768e85"
      },
      "execution_count": 20,
      "outputs": [
        {
          "output_type": "stream",
          "name": "stdout",
          "text": [
            "tensor([0, 1, 2, 3])\n"
          ]
        }
      ]
    },
    {
      "cell_type": "code",
      "source": [
        "print(x[:2, -1]) # First two rows, last column"
      ],
      "metadata": {
        "colab": {
          "base_uri": "https://localhost:8080/"
        },
        "id": "a4cbD5Lco56x",
        "outputId": "34abbd02-04f2-4bc6-c980-b870f9901dc0"
      },
      "execution_count": 21,
      "outputs": [
        {
          "output_type": "stream",
          "name": "stdout",
          "text": [
            "tensor([3, 7])\n"
          ]
        }
      ]
    },
    {
      "cell_type": "code",
      "source": [
        "print(x[1:3, :]) # Middle two rows"
      ],
      "metadata": {
        "colab": {
          "base_uri": "https://localhost:8080/"
        },
        "id": "w_pMxgM5o7OD",
        "outputId": "c43b77f9-3fbe-44f8-e2c9-5883943650d5"
      },
      "execution_count": 22,
      "outputs": [
        {
          "output_type": "stream",
          "name": "stdout",
          "text": [
            "tensor([[ 4,  5,  6,  7],\n",
            "        [ 8,  9, 10, 11]])\n"
          ]
        }
      ]
    },
    {
      "cell_type": "code",
      "source": [
        "x = torch.ones((3,))\n",
        "print(x.requires_grad)"
      ],
      "metadata": {
        "colab": {
          "base_uri": "https://localhost:8080/"
        },
        "id": "NJxKPcFKo8x5",
        "outputId": "33706185-50e9-4e90-c142-f851c9ee0189"
      },
      "execution_count": 23,
      "outputs": [
        {
          "output_type": "stream",
          "name": "stdout",
          "text": [
            "False\n"
          ]
        }
      ]
    },
    {
      "cell_type": "code",
      "source": [
        "x.requires_grad_(True)\n",
        "print(x.requires_grad)"
      ],
      "metadata": {
        "colab": {
          "base_uri": "https://localhost:8080/"
        },
        "id": "haBVfZmvo_ya",
        "outputId": "0cecdde9-199f-4b95-b742-cb965b50d95d"
      },
      "execution_count": 24,
      "outputs": [
        {
          "output_type": "stream",
          "name": "stdout",
          "text": [
            "True\n"
          ]
        }
      ]
    },
    {
      "cell_type": "code",
      "source": [
        "x = torch.arange(3, dtype=torch.float32, requires_grad=True) # Only float tensors can have gradients\n",
        "print(\"X\", x)\n"
      ],
      "metadata": {
        "colab": {
          "base_uri": "https://localhost:8080/"
        },
        "id": "y3Q2yP9MqCK-",
        "outputId": "0566b37c-14ed-45f8-d518-e4acbc23211d"
      },
      "execution_count": 25,
      "outputs": [
        {
          "output_type": "stream",
          "name": "stdout",
          "text": [
            "X tensor([0., 1., 2.], requires_grad=True)\n"
          ]
        }
      ]
    },
    {
      "cell_type": "code",
      "source": [
        "a = x + 2\n",
        "b = a ** 2\n",
        "c = b + 3\n",
        "y = c.mean()\n",
        "print(\"Y\", y)"
      ],
      "metadata": {
        "colab": {
          "base_uri": "https://localhost:8080/"
        },
        "id": "BQlT9J-IqG4L",
        "outputId": "f0bb8f3e-1b47-4474-a730-28650e452406"
      },
      "execution_count": 26,
      "outputs": [
        {
          "output_type": "stream",
          "name": "stdout",
          "text": [
            "Y tensor(12.6667, grad_fn=<MeanBackward0>)\n"
          ]
        }
      ]
    },
    {
      "cell_type": "code",
      "source": [
        "y.backward()"
      ],
      "metadata": {
        "id": "VO3K2Nc9qHpJ"
      },
      "execution_count": 27,
      "outputs": []
    },
    {
      "cell_type": "code",
      "source": [
        "print(x.grad)"
      ],
      "metadata": {
        "colab": {
          "base_uri": "https://localhost:8080/"
        },
        "id": "Kkqqa824qhUj",
        "outputId": "b99349c7-6a0c-4831-b600-69189a41b930"
      },
      "execution_count": 28,
      "outputs": [
        {
          "output_type": "stream",
          "name": "stdout",
          "text": [
            "tensor([1.3333, 2.0000, 2.6667])\n"
          ]
        }
      ]
    },
    {
      "cell_type": "code",
      "source": [
        "gpu_avail = torch.cuda.is_available()\n",
        "print(f\"Is the GPU available? {gpu_avail}\")"
      ],
      "metadata": {
        "colab": {
          "base_uri": "https://localhost:8080/"
        },
        "id": "Cm26FOuGqimM",
        "outputId": "1795f108-276f-438c-b0af-5ca404c0693f"
      },
      "execution_count": 29,
      "outputs": [
        {
          "output_type": "stream",
          "name": "stdout",
          "text": [
            "Is the GPU available? True\n"
          ]
        }
      ]
    },
    {
      "cell_type": "code",
      "source": [
        "device = torch.device(\"cuda\") if torch.cuda.is_available() else torch.device(\"cpu\")\n",
        "print(\"Device\", device)"
      ],
      "metadata": {
        "colab": {
          "base_uri": "https://localhost:8080/"
        },
        "id": "mkoL0kzsqkwj",
        "outputId": "a9bbf0e2-8189-4985-d96b-01963a0fa225"
      },
      "execution_count": 30,
      "outputs": [
        {
          "output_type": "stream",
          "name": "stdout",
          "text": [
            "Device cuda\n"
          ]
        }
      ]
    },
    {
      "cell_type": "code",
      "source": [
        "x = torch.zeros(2, 3)\n",
        "x = x.to(device)\n",
        "print(\"X\", x)"
      ],
      "metadata": {
        "colab": {
          "base_uri": "https://localhost:8080/"
        },
        "id": "BAccjd4Nqme7",
        "outputId": "8184c66d-37d8-4dca-f5aa-388ea5406a47"
      },
      "execution_count": 31,
      "outputs": [
        {
          "output_type": "stream",
          "name": "stdout",
          "text": [
            "X tensor([[0., 0., 0.],\n",
            "        [0., 0., 0.]], device='cuda:0')\n"
          ]
        }
      ]
    },
    {
      "cell_type": "code",
      "source": [
        "x = torch.randn(5000, 5000)\n",
        "\n",
        "## CPU version\n",
        "start_time = time.time()\n",
        "_ = torch.matmul(x, x)\n",
        "end_time = time.time()\n",
        "print(f\"CPU time: {(end_time - start_time):6.5f}s\")\n",
        "\n",
        "## GPU version\n",
        "x = x.to(device)\n",
        "_ = torch.matmul(x, x)  # First operation to 'burn in' GPU\n",
        "# CUDA is asynchronous, so we need to use different timing functions\n",
        "start = torch.cuda.Event(enable_timing=True)\n",
        "end = torch.cuda.Event(enable_timing=True)\n",
        "start.record()\n",
        "_ = torch.matmul(x, x)\n",
        "end.record()\n",
        "torch.cuda.synchronize()  # Waits for everything to finish running on the GPU\n",
        "print(f\"GPU time: {0.001 * start.elapsed_time(end):6.5f}s\")  # Milliseconds to seconds"
      ],
      "metadata": {
        "colab": {
          "base_uri": "https://localhost:8080/"
        },
        "id": "Dq6QuxXEq8YQ",
        "outputId": "ec084594-358a-4360-c54d-c308185cb408"
      },
      "execution_count": 55,
      "outputs": [
        {
          "output_type": "stream",
          "name": "stdout",
          "text": [
            "CPU time: 3.57815s\n",
            "GPU time: 0.08762s\n"
          ]
        }
      ]
    },
    {
      "cell_type": "code",
      "source": [
        "import torch.nn as nn"
      ],
      "metadata": {
        "id": "7YpFK3UrrVmV"
      },
      "execution_count": 33,
      "outputs": []
    },
    {
      "cell_type": "code",
      "source": [
        "import torch.nn.functional as F"
      ],
      "metadata": {
        "id": "vMSsNvSysaLl"
      },
      "execution_count": 34,
      "outputs": []
    },
    {
      "cell_type": "code",
      "source": [
        "class MyModule(nn.Module):\n",
        "\n",
        "    def __init__(self):\n",
        "        super().__init__()\n",
        "        # Some init for my module\n",
        "\n",
        "    def forward(self, x):\n",
        "        # Function for performing the calculation of the module.\n",
        "        pass"
      ],
      "metadata": {
        "id": "pPi3egZUsb0u"
      },
      "execution_count": 35,
      "outputs": []
    },
    {
      "cell_type": "code",
      "source": [
        "class SimpleClassifier(nn.Module):\n",
        "\n",
        "    def __init__(self, num_inputs, num_hidden, num_outputs):\n",
        "        super().__init__()\n",
        "        # Initialize the modules we need to build the network\n",
        "        self.linear1 = nn.Linear(num_inputs, num_hidden)\n",
        "        self.act_fn = nn.Tanh()\n",
        "        self.linear2 = nn.Linear(num_hidden, num_outputs)\n",
        "\n",
        "    def forward(self, x):\n",
        "        # Perform the calculation of the model to determine the prediction\n",
        "        x = self.linear1(x)\n",
        "        x = self.act_fn(x)\n",
        "        x = self.linear2(x)\n",
        "        return x"
      ],
      "metadata": {
        "id": "GPXSN95KsdVD"
      },
      "execution_count": 36,
      "outputs": []
    },
    {
      "cell_type": "code",
      "source": [
        "model = SimpleClassifier(num_inputs=2, num_hidden=4, num_outputs=1)\n",
        "# Printing a module shows all its submodules\n",
        "print(model)"
      ],
      "metadata": {
        "colab": {
          "base_uri": "https://localhost:8080/"
        },
        "id": "9xtQBJcss6d_",
        "outputId": "935f065c-cca2-4a83-fc05-588da53c5ec5"
      },
      "execution_count": 37,
      "outputs": [
        {
          "output_type": "stream",
          "name": "stdout",
          "text": [
            "SimpleClassifier(\n",
            "  (linear1): Linear(in_features=2, out_features=4, bias=True)\n",
            "  (act_fn): Tanh()\n",
            "  (linear2): Linear(in_features=4, out_features=1, bias=True)\n",
            ")\n"
          ]
        }
      ]
    },
    {
      "cell_type": "code",
      "source": [
        "for name, param in model.named_parameters():\n",
        "    print(f\"Parameter {name}, shape {param.shape}\")"
      ],
      "metadata": {
        "colab": {
          "base_uri": "https://localhost:8080/"
        },
        "id": "lVbxObwVs8m5",
        "outputId": "b9d365fe-319a-4442-aaf2-ea93d93c1087"
      },
      "execution_count": 38,
      "outputs": [
        {
          "output_type": "stream",
          "name": "stdout",
          "text": [
            "Parameter linear1.weight, shape torch.Size([4, 2])\n",
            "Parameter linear1.bias, shape torch.Size([4])\n",
            "Parameter linear2.weight, shape torch.Size([1, 4])\n",
            "Parameter linear2.bias, shape torch.Size([1])\n"
          ]
        }
      ]
    },
    {
      "cell_type": "code",
      "source": [
        "import torch.utils.data as data"
      ],
      "metadata": {
        "id": "67m0wglftQ3z"
      },
      "execution_count": 39,
      "outputs": []
    },
    {
      "cell_type": "code",
      "source": [
        "class XORDataset(data.Dataset):\n",
        "\n",
        "    def __init__(self, size, std=0.1):\n",
        "        \"\"\"\n",
        "        Inputs:\n",
        "            size - Number of data points we want to generate\n",
        "            std - Standard deviation of the noise (see generate_continuous_xor function)\n",
        "        \"\"\"\n",
        "        super().__init__()\n",
        "        self.size = size\n",
        "        self.std = std\n",
        "        self.generate_continuous_xor()\n",
        "\n",
        "    def generate_continuous_xor(self):\n",
        "        # Each data point in the XOR dataset has two variables, x and y, that can be either 0 or 1\n",
        "        # The label is their XOR combination, i.e. 1 if only x or only y is 1 while the other is 0.\n",
        "        # If x=y, the label is 0.\n",
        "        data = torch.randint(low=0, high=2, size=(self.size, 2), dtype=torch.float32)\n",
        "        label = (data.sum(dim=1) == 1).to(torch.long)\n",
        "        # To make it slightly more challenging, we add a bit of gaussian noise to the data points.\n",
        "        data += self.std * torch.randn(data.shape)\n",
        "\n",
        "        self.data = data\n",
        "        self.label = label\n",
        "\n",
        "    def __len__(self):\n",
        "        # Number of data point we have. Alternatively self.data.shape[0], or self.label.shape[0]\n",
        "        return self.size\n",
        "\n",
        "    def __getitem__(self, idx):\n",
        "        # Return the idx-th data point of the dataset\n",
        "        # If we have multiple things to return (data point and label), we can return them as tuple\n",
        "        data_point = self.data[idx]\n",
        "        data_label = self.label[idx]\n",
        "        return data_point, data_label"
      ],
      "metadata": {
        "id": "GTzTWvsgtS_3"
      },
      "execution_count": 40,
      "outputs": []
    },
    {
      "cell_type": "code",
      "source": [
        "dataset = XORDataset(size=200)\n",
        "print(\"Size of dataset:\", len(dataset))\n",
        "print(\"Data point 0:\", dataset[0])"
      ],
      "metadata": {
        "colab": {
          "base_uri": "https://localhost:8080/"
        },
        "id": "OEVnNT5ctVEx",
        "outputId": "2d5380dd-f29c-4ed1-9fe9-e04e7c50eafc"
      },
      "execution_count": 41,
      "outputs": [
        {
          "output_type": "stream",
          "name": "stdout",
          "text": [
            "Size of dataset: 200\n",
            "Data point 0: (tensor([1.0561, 0.0460]), tensor(1))\n"
          ]
        }
      ]
    },
    {
      "cell_type": "code",
      "source": [
        "def visualize_samples(data, label):\n",
        "    if isinstance(data, torch.Tensor):\n",
        "        data = data.cpu().numpy()\n",
        "    if isinstance(label, torch.Tensor):\n",
        "        label = label.cpu().numpy()\n",
        "    data_0 = data[label == 0]\n",
        "    data_1 = data[label == 1]\n",
        "\n",
        "    plt.figure(figsize=(4,4))\n",
        "    plt.scatter(data_0[:,0], data_0[:,1], edgecolor=\"#333\", label=\"Class 0\")\n",
        "    plt.scatter(data_1[:,0], data_1[:,1], edgecolor=\"#333\", label=\"Class 1\")\n",
        "    plt.title(\"Dataset samples\")\n",
        "    plt.ylabel(r\"$x_2$\")\n",
        "    plt.xlabel(r\"$x_1$\")\n",
        "    plt.legend()"
      ],
      "metadata": {
        "id": "wxO9S9jhtfao"
      },
      "execution_count": 42,
      "outputs": []
    },
    {
      "cell_type": "code",
      "source": [
        "visualize_samples(dataset.data, dataset.label)\n",
        "plt.show()"
      ],
      "metadata": {
        "colab": {
          "base_uri": "https://localhost:8080/",
          "height": 404
        },
        "id": "7frwarEAthO-",
        "outputId": "f5c4abcc-666d-41cb-cdb7-c2fc25fea288"
      },
      "execution_count": 43,
      "outputs": [
        {
          "output_type": "display_data",
          "data": {
            "text/plain": [
              "<Figure size 400x400 with 1 Axes>"
            ],
            "image/svg+xml": "<?xml version=\"1.0\" encoding=\"utf-8\" standalone=\"no\"?>\n<!DOCTYPE svg PUBLIC \"-//W3C//DTD SVG 1.1//EN\"\n  \"http://www.w3.org/Graphics/SVG/1.1/DTD/svg11.dtd\">\n<svg xmlns:xlink=\"http://www.w3.org/1999/xlink\" width=\"289.424844pt\" height=\"287.037813pt\" viewBox=\"0 0 289.424844 287.037813\" xmlns=\"http://www.w3.org/2000/svg\" version=\"1.1\">\n <metadata>\n  <rdf:RDF xmlns:dc=\"http://purl.org/dc/elements/1.1/\" xmlns:cc=\"http://creativecommons.org/ns#\" xmlns:rdf=\"http://www.w3.org/1999/02/22-rdf-syntax-ns#\">\n   <cc:Work>\n    <dc:type rdf:resource=\"http://purl.org/dc/dcmitype/StillImage\"/>\n    <dc:date>2024-05-21T06:00:25.866508</dc:date>\n    <dc:format>image/svg+xml</dc:format>\n    <dc:creator>\n     <cc:Agent>\n      <dc:title>Matplotlib v3.7.1, https://matplotlib.org/</dc:title>\n     </cc:Agent>\n    </dc:creator>\n   </cc:Work>\n  </rdf:RDF>\n </metadata>\n <defs>\n  <style type=\"text/css\">*{stroke-linejoin: round; stroke-linecap: butt}</style>\n </defs>\n <g id=\"figure_1\">\n  <g id=\"patch_1\">\n   <path d=\"M 0 287.037813 \nL 289.424844 287.037813 \nL 289.424844 0 \nL 0 0 \nz\n\" style=\"fill: #ffffff\"/>\n  </g>\n  <g id=\"axes_1\">\n   <g id=\"patch_2\">\n    <path d=\"M 59.024844 244.078125 \nL 282.224844 244.078125 \nL 282.224844 22.318125 \nL 59.024844 22.318125 \nz\n\" style=\"fill: #eaeaf2\"/>\n   </g>\n   <g id=\"matplotlib.axis_1\">\n    <g id=\"xtick_1\">\n     <g id=\"line2d_1\">\n      <path d=\"M 106.854327 244.078125 \nL 106.854327 22.318125 \n\" clip-path=\"url(#pda9456f0fc)\" style=\"fill: none; stroke: #ffffff; stroke-linecap: round\"/>\n     </g>\n     <g id=\"text_1\">\n      <!-- 0.0 -->\n      <g style=\"fill: #262626\" transform=\"translate(98.107609 261.936406) scale(0.11 -0.11)\">\n       <defs>\n        <path id=\"DejaVuSans-30\" d=\"M 2034 4250 \nQ 1547 4250 1301 3770 \nQ 1056 3291 1056 2328 \nQ 1056 1369 1301 889 \nQ 1547 409 2034 409 \nQ 2525 409 2770 889 \nQ 3016 1369 3016 2328 \nQ 3016 3291 2770 3770 \nQ 2525 4250 2034 4250 \nz\nM 2034 4750 \nQ 2819 4750 3233 4129 \nQ 3647 3509 3647 2328 \nQ 3647 1150 3233 529 \nQ 2819 -91 2034 -91 \nQ 1250 -91 836 529 \nQ 422 1150 422 2328 \nQ 422 3509 836 4129 \nQ 1250 4750 2034 4750 \nz\n\" transform=\"scale(0.015625)\"/>\n        <path id=\"DejaVuSans-2e\" d=\"M 684 794 \nL 1344 794 \nL 1344 0 \nL 684 0 \nL 684 794 \nz\n\" transform=\"scale(0.015625)\"/>\n       </defs>\n       <use xlink:href=\"#DejaVuSans-30\"/>\n       <use xlink:href=\"#DejaVuSans-2e\" x=\"63.623047\"/>\n       <use xlink:href=\"#DejaVuSans-30\" x=\"95.410156\"/>\n      </g>\n     </g>\n    </g>\n    <g id=\"xtick_2\">\n     <g id=\"line2d_2\">\n      <path d=\"M 174.122241 244.078125 \nL 174.122241 22.318125 \n\" clip-path=\"url(#pda9456f0fc)\" style=\"fill: none; stroke: #ffffff; stroke-linecap: round\"/>\n     </g>\n     <g id=\"text_2\">\n      <!-- 0.5 -->\n      <g style=\"fill: #262626\" transform=\"translate(165.375522 261.936406) scale(0.11 -0.11)\">\n       <defs>\n        <path id=\"DejaVuSans-35\" d=\"M 691 4666 \nL 3169 4666 \nL 3169 4134 \nL 1269 4134 \nL 1269 2991 \nQ 1406 3038 1543 3061 \nQ 1681 3084 1819 3084 \nQ 2600 3084 3056 2656 \nQ 3513 2228 3513 1497 \nQ 3513 744 3044 326 \nQ 2575 -91 1722 -91 \nQ 1428 -91 1123 -41 \nQ 819 9 494 109 \nL 494 744 \nQ 775 591 1075 516 \nQ 1375 441 1709 441 \nQ 2250 441 2565 725 \nQ 2881 1009 2881 1497 \nQ 2881 1984 2565 2268 \nQ 2250 2553 1709 2553 \nQ 1456 2553 1204 2497 \nQ 953 2441 691 2322 \nL 691 4666 \nz\n\" transform=\"scale(0.015625)\"/>\n       </defs>\n       <use xlink:href=\"#DejaVuSans-30\"/>\n       <use xlink:href=\"#DejaVuSans-2e\" x=\"63.623047\"/>\n       <use xlink:href=\"#DejaVuSans-35\" x=\"95.410156\"/>\n      </g>\n     </g>\n    </g>\n    <g id=\"xtick_3\">\n     <g id=\"line2d_3\">\n      <path d=\"M 241.390155 244.078125 \nL 241.390155 22.318125 \n\" clip-path=\"url(#pda9456f0fc)\" style=\"fill: none; stroke: #ffffff; stroke-linecap: round\"/>\n     </g>\n     <g id=\"text_3\">\n      <!-- 1.0 -->\n      <g style=\"fill: #262626\" transform=\"translate(232.643436 261.936406) scale(0.11 -0.11)\">\n       <defs>\n        <path id=\"DejaVuSans-31\" d=\"M 794 531 \nL 1825 531 \nL 1825 4091 \nL 703 3866 \nL 703 4441 \nL 1819 4666 \nL 2450 4666 \nL 2450 531 \nL 3481 531 \nL 3481 0 \nL 794 0 \nL 794 531 \nz\n\" transform=\"scale(0.015625)\"/>\n       </defs>\n       <use xlink:href=\"#DejaVuSans-31\"/>\n       <use xlink:href=\"#DejaVuSans-2e\" x=\"63.623047\"/>\n       <use xlink:href=\"#DejaVuSans-30\" x=\"95.410156\"/>\n      </g>\n     </g>\n    </g>\n    <g id=\"text_4\">\n     <!-- $x_1$ -->\n     <g style=\"fill: #262626\" transform=\"translate(164.204844 277.342188) scale(0.12 -0.12)\">\n      <defs>\n       <path id=\"DejaVuSans-Oblique-78\" d=\"M 3841 3500 \nL 2234 1784 \nL 3219 0 \nL 2559 0 \nL 1819 1388 \nL 531 0 \nL -166 0 \nL 1556 1844 \nL 641 3500 \nL 1300 3500 \nL 1972 2234 \nL 3144 3500 \nL 3841 3500 \nz\n\" transform=\"scale(0.015625)\"/>\n      </defs>\n      <use xlink:href=\"#DejaVuSans-Oblique-78\" transform=\"translate(0 0.3125)\"/>\n      <use xlink:href=\"#DejaVuSans-31\" transform=\"translate(59.179688 -16.09375) scale(0.7)\"/>\n     </g>\n    </g>\n   </g>\n   <g id=\"matplotlib.axis_2\">\n    <g id=\"ytick_1\">\n     <g id=\"line2d_4\">\n      <path d=\"M 59.024844 232.026019 \nL 282.224844 232.026019 \n\" clip-path=\"url(#pda9456f0fc)\" style=\"fill: none; stroke: #ffffff; stroke-linecap: round\"/>\n     </g>\n     <g id=\"text_5\">\n      <!-- −0.2 -->\n      <g style=\"fill: #262626\" transform=\"translate(22.81375 236.205159) scale(0.11 -0.11)\">\n       <defs>\n        <path id=\"DejaVuSans-2212\" d=\"M 678 2272 \nL 4684 2272 \nL 4684 1741 \nL 678 1741 \nL 678 2272 \nz\n\" transform=\"scale(0.015625)\"/>\n        <path id=\"DejaVuSans-32\" d=\"M 1228 531 \nL 3431 531 \nL 3431 0 \nL 469 0 \nL 469 531 \nQ 828 903 1448 1529 \nQ 2069 2156 2228 2338 \nQ 2531 2678 2651 2914 \nQ 2772 3150 2772 3378 \nQ 2772 3750 2511 3984 \nQ 2250 4219 1831 4219 \nQ 1534 4219 1204 4116 \nQ 875 4013 500 3803 \nL 500 4441 \nQ 881 4594 1212 4672 \nQ 1544 4750 1819 4750 \nQ 2544 4750 2975 4387 \nQ 3406 4025 3406 3419 \nQ 3406 3131 3298 2873 \nQ 3191 2616 2906 2266 \nQ 2828 2175 2409 1742 \nQ 1991 1309 1228 531 \nz\n\" transform=\"scale(0.015625)\"/>\n       </defs>\n       <use xlink:href=\"#DejaVuSans-2212\"/>\n       <use xlink:href=\"#DejaVuSans-30\" x=\"83.789062\"/>\n       <use xlink:href=\"#DejaVuSans-2e\" x=\"147.412109\"/>\n       <use xlink:href=\"#DejaVuSans-32\" x=\"179.199219\"/>\n      </g>\n     </g>\n    </g>\n    <g id=\"ytick_2\">\n     <g id=\"line2d_5\">\n      <path d=\"M 59.024844 204.320301 \nL 282.224844 204.320301 \n\" clip-path=\"url(#pda9456f0fc)\" style=\"fill: none; stroke: #ffffff; stroke-linecap: round\"/>\n     </g>\n     <g id=\"text_6\">\n      <!-- 0.0 -->\n      <g style=\"fill: #262626\" transform=\"translate(32.031406 208.499442) scale(0.11 -0.11)\">\n       <use xlink:href=\"#DejaVuSans-30\"/>\n       <use xlink:href=\"#DejaVuSans-2e\" x=\"63.623047\"/>\n       <use xlink:href=\"#DejaVuSans-30\" x=\"95.410156\"/>\n      </g>\n     </g>\n    </g>\n    <g id=\"ytick_3\">\n     <g id=\"line2d_6\">\n      <path d=\"M 59.024844 176.614584 \nL 282.224844 176.614584 \n\" clip-path=\"url(#pda9456f0fc)\" style=\"fill: none; stroke: #ffffff; stroke-linecap: round\"/>\n     </g>\n     <g id=\"text_7\">\n      <!-- 0.2 -->\n      <g style=\"fill: #262626\" transform=\"translate(32.031406 180.793724) scale(0.11 -0.11)\">\n       <use xlink:href=\"#DejaVuSans-30\"/>\n       <use xlink:href=\"#DejaVuSans-2e\" x=\"63.623047\"/>\n       <use xlink:href=\"#DejaVuSans-32\" x=\"95.410156\"/>\n      </g>\n     </g>\n    </g>\n    <g id=\"ytick_4\">\n     <g id=\"line2d_7\">\n      <path d=\"M 59.024844 148.908866 \nL 282.224844 148.908866 \n\" clip-path=\"url(#pda9456f0fc)\" style=\"fill: none; stroke: #ffffff; stroke-linecap: round\"/>\n     </g>\n     <g id=\"text_8\">\n      <!-- 0.4 -->\n      <g style=\"fill: #262626\" transform=\"translate(32.031406 153.088007) scale(0.11 -0.11)\">\n       <defs>\n        <path id=\"DejaVuSans-34\" d=\"M 2419 4116 \nL 825 1625 \nL 2419 1625 \nL 2419 4116 \nz\nM 2253 4666 \nL 3047 4666 \nL 3047 1625 \nL 3713 1625 \nL 3713 1100 \nL 3047 1100 \nL 3047 0 \nL 2419 0 \nL 2419 1100 \nL 313 1100 \nL 313 1709 \nL 2253 4666 \nz\n\" transform=\"scale(0.015625)\"/>\n       </defs>\n       <use xlink:href=\"#DejaVuSans-30\"/>\n       <use xlink:href=\"#DejaVuSans-2e\" x=\"63.623047\"/>\n       <use xlink:href=\"#DejaVuSans-34\" x=\"95.410156\"/>\n      </g>\n     </g>\n    </g>\n    <g id=\"ytick_5\">\n     <g id=\"line2d_8\">\n      <path d=\"M 59.024844 121.203149 \nL 282.224844 121.203149 \n\" clip-path=\"url(#pda9456f0fc)\" style=\"fill: none; stroke: #ffffff; stroke-linecap: round\"/>\n     </g>\n     <g id=\"text_9\">\n      <!-- 0.6 -->\n      <g style=\"fill: #262626\" transform=\"translate(32.031406 125.382289) scale(0.11 -0.11)\">\n       <defs>\n        <path id=\"DejaVuSans-36\" d=\"M 2113 2584 \nQ 1688 2584 1439 2293 \nQ 1191 2003 1191 1497 \nQ 1191 994 1439 701 \nQ 1688 409 2113 409 \nQ 2538 409 2786 701 \nQ 3034 994 3034 1497 \nQ 3034 2003 2786 2293 \nQ 2538 2584 2113 2584 \nz\nM 3366 4563 \nL 3366 3988 \nQ 3128 4100 2886 4159 \nQ 2644 4219 2406 4219 \nQ 1781 4219 1451 3797 \nQ 1122 3375 1075 2522 \nQ 1259 2794 1537 2939 \nQ 1816 3084 2150 3084 \nQ 2853 3084 3261 2657 \nQ 3669 2231 3669 1497 \nQ 3669 778 3244 343 \nQ 2819 -91 2113 -91 \nQ 1303 -91 875 529 \nQ 447 1150 447 2328 \nQ 447 3434 972 4092 \nQ 1497 4750 2381 4750 \nQ 2619 4750 2861 4703 \nQ 3103 4656 3366 4563 \nz\n\" transform=\"scale(0.015625)\"/>\n       </defs>\n       <use xlink:href=\"#DejaVuSans-30\"/>\n       <use xlink:href=\"#DejaVuSans-2e\" x=\"63.623047\"/>\n       <use xlink:href=\"#DejaVuSans-36\" x=\"95.410156\"/>\n      </g>\n     </g>\n    </g>\n    <g id=\"ytick_6\">\n     <g id=\"line2d_9\">\n      <path d=\"M 59.024844 93.497431 \nL 282.224844 93.497431 \n\" clip-path=\"url(#pda9456f0fc)\" style=\"fill: none; stroke: #ffffff; stroke-linecap: round\"/>\n     </g>\n     <g id=\"text_10\">\n      <!-- 0.8 -->\n      <g style=\"fill: #262626\" transform=\"translate(32.031406 97.676572) scale(0.11 -0.11)\">\n       <defs>\n        <path id=\"DejaVuSans-38\" d=\"M 2034 2216 \nQ 1584 2216 1326 1975 \nQ 1069 1734 1069 1313 \nQ 1069 891 1326 650 \nQ 1584 409 2034 409 \nQ 2484 409 2743 651 \nQ 3003 894 3003 1313 \nQ 3003 1734 2745 1975 \nQ 2488 2216 2034 2216 \nz\nM 1403 2484 \nQ 997 2584 770 2862 \nQ 544 3141 544 3541 \nQ 544 4100 942 4425 \nQ 1341 4750 2034 4750 \nQ 2731 4750 3128 4425 \nQ 3525 4100 3525 3541 \nQ 3525 3141 3298 2862 \nQ 3072 2584 2669 2484 \nQ 3125 2378 3379 2068 \nQ 3634 1759 3634 1313 \nQ 3634 634 3220 271 \nQ 2806 -91 2034 -91 \nQ 1263 -91 848 271 \nQ 434 634 434 1313 \nQ 434 1759 690 2068 \nQ 947 2378 1403 2484 \nz\nM 1172 3481 \nQ 1172 3119 1398 2916 \nQ 1625 2713 2034 2713 \nQ 2441 2713 2670 2916 \nQ 2900 3119 2900 3481 \nQ 2900 3844 2670 4047 \nQ 2441 4250 2034 4250 \nQ 1625 4250 1398 4047 \nQ 1172 3844 1172 3481 \nz\n\" transform=\"scale(0.015625)\"/>\n       </defs>\n       <use xlink:href=\"#DejaVuSans-30\"/>\n       <use xlink:href=\"#DejaVuSans-2e\" x=\"63.623047\"/>\n       <use xlink:href=\"#DejaVuSans-38\" x=\"95.410156\"/>\n      </g>\n     </g>\n    </g>\n    <g id=\"ytick_7\">\n     <g id=\"line2d_10\">\n      <path d=\"M 59.024844 65.791713 \nL 282.224844 65.791713 \n\" clip-path=\"url(#pda9456f0fc)\" style=\"fill: none; stroke: #ffffff; stroke-linecap: round\"/>\n     </g>\n     <g id=\"text_11\">\n      <!-- 1.0 -->\n      <g style=\"fill: #262626\" transform=\"translate(32.031406 69.970854) scale(0.11 -0.11)\">\n       <use xlink:href=\"#DejaVuSans-31\"/>\n       <use xlink:href=\"#DejaVuSans-2e\" x=\"63.623047\"/>\n       <use xlink:href=\"#DejaVuSans-30\" x=\"95.410156\"/>\n      </g>\n     </g>\n    </g>\n    <g id=\"ytick_8\">\n     <g id=\"line2d_11\">\n      <path d=\"M 59.024844 38.085996 \nL 282.224844 38.085996 \n\" clip-path=\"url(#pda9456f0fc)\" style=\"fill: none; stroke: #ffffff; stroke-linecap: round\"/>\n     </g>\n     <g id=\"text_12\">\n      <!-- 1.2 -->\n      <g style=\"fill: #262626\" transform=\"translate(32.031406 42.265136) scale(0.11 -0.11)\">\n       <use xlink:href=\"#DejaVuSans-31\"/>\n       <use xlink:href=\"#DejaVuSans-2e\" x=\"63.623047\"/>\n       <use xlink:href=\"#DejaVuSans-32\" x=\"95.410156\"/>\n      </g>\n     </g>\n    </g>\n    <g id=\"text_13\">\n     <!-- $x_2$ -->\n     <g style=\"fill: #262626\" transform=\"translate(16.318125 139.618125) rotate(-90) scale(0.12 -0.12)\">\n      <use xlink:href=\"#DejaVuSans-Oblique-78\" transform=\"translate(0 0.3125)\"/>\n      <use xlink:href=\"#DejaVuSans-32\" transform=\"translate(59.179688 -16.09375) scale(0.7)\"/>\n     </g>\n    </g>\n   </g>\n   <g id=\"PathCollection_1\">\n    <defs>\n     <path id=\"m4a07295dff\" d=\"M 0 3 \nC 0.795609 3 1.55874 2.683901 2.12132 2.12132 \nC 2.683901 1.55874 3 0.795609 3 0 \nC 3 -0.795609 2.683901 -1.55874 2.12132 -2.12132 \nC 1.55874 -2.683901 0.795609 -3 0 -3 \nC -0.795609 -3 -1.55874 -2.683901 -2.12132 -2.12132 \nC -2.683901 -1.55874 -3 -0.795609 -3 0 \nC -3 0.795609 -2.683901 1.55874 -2.12132 2.12132 \nC -1.55874 2.683901 -0.795609 3 0 3 \nz\n\" style=\"stroke: #333333\"/>\n    </defs>\n    <g clip-path=\"url(#pda9456f0fc)\">\n     <use xlink:href=\"#m4a07295dff\" x=\"99.074825\" y=\"209.352145\" style=\"fill: #4c72b0; stroke: #333333\"/>\n     <use xlink:href=\"#m4a07295dff\" x=\"254.010763\" y=\"65.621521\" style=\"fill: #4c72b0; stroke: #333333\"/>\n     <use xlink:href=\"#m4a07295dff\" x=\"225.535788\" y=\"97.238586\" style=\"fill: #4c72b0; stroke: #333333\"/>\n     <use xlink:href=\"#m4a07295dff\" x=\"257.0563\" y=\"86.095018\" style=\"fill: #4c72b0; stroke: #333333\"/>\n     <use xlink:href=\"#m4a07295dff\" x=\"254.13209\" y=\"46.025622\" style=\"fill: #4c72b0; stroke: #333333\"/>\n     <use xlink:href=\"#m4a07295dff\" x=\"255.284543\" y=\"78.218609\" style=\"fill: #4c72b0; stroke: #333333\"/>\n     <use xlink:href=\"#m4a07295dff\" x=\"69.170298\" y=\"207.661803\" style=\"fill: #4c72b0; stroke: #333333\"/>\n     <use xlink:href=\"#m4a07295dff\" x=\"260.180343\" y=\"50.825798\" style=\"fill: #4c72b0; stroke: #333333\"/>\n     <use xlink:href=\"#m4a07295dff\" x=\"231.114571\" y=\"32.697737\" style=\"fill: #4c72b0; stroke: #333333\"/>\n     <use xlink:href=\"#m4a07295dff\" x=\"112.093047\" y=\"223.521425\" style=\"fill: #4c72b0; stroke: #333333\"/>\n     <use xlink:href=\"#m4a07295dff\" x=\"98.474653\" y=\"194.158336\" style=\"fill: #4c72b0; stroke: #333333\"/>\n     <use xlink:href=\"#m4a07295dff\" x=\"134.376616\" y=\"212.0466\" style=\"fill: #4c72b0; stroke: #333333\"/>\n     <use xlink:href=\"#m4a07295dff\" x=\"246.957543\" y=\"61.726967\" style=\"fill: #4c72b0; stroke: #333333\"/>\n     <use xlink:href=\"#m4a07295dff\" x=\"248.734753\" y=\"73.944053\" style=\"fill: #4c72b0; stroke: #333333\"/>\n     <use xlink:href=\"#m4a07295dff\" x=\"108.060072\" y=\"188.475125\" style=\"fill: #4c72b0; stroke: #333333\"/>\n     <use xlink:href=\"#m4a07295dff\" x=\"252.527592\" y=\"53.44543\" style=\"fill: #4c72b0; stroke: #333333\"/>\n     <use xlink:href=\"#m4a07295dff\" x=\"115.749366\" y=\"196.932577\" style=\"fill: #4c72b0; stroke: #333333\"/>\n     <use xlink:href=\"#m4a07295dff\" x=\"242.408258\" y=\"57.934551\" style=\"fill: #4c72b0; stroke: #333333\"/>\n     <use xlink:href=\"#m4a07295dff\" x=\"245.032816\" y=\"56.851041\" style=\"fill: #4c72b0; stroke: #333333\"/>\n     <use xlink:href=\"#m4a07295dff\" x=\"258.556295\" y=\"59.324971\" style=\"fill: #4c72b0; stroke: #333333\"/>\n     <use xlink:href=\"#m4a07295dff\" x=\"111.123675\" y=\"206.641139\" style=\"fill: #4c72b0; stroke: #333333\"/>\n     <use xlink:href=\"#m4a07295dff\" x=\"90.969059\" y=\"211.255039\" style=\"fill: #4c72b0; stroke: #333333\"/>\n     <use xlink:href=\"#m4a07295dff\" x=\"235.855036\" y=\"56.579124\" style=\"fill: #4c72b0; stroke: #333333\"/>\n     <use xlink:href=\"#m4a07295dff\" x=\"244.519987\" y=\"53.836793\" style=\"fill: #4c72b0; stroke: #333333\"/>\n     <use xlink:href=\"#m4a07295dff\" x=\"231.969937\" y=\"84.440268\" style=\"fill: #4c72b0; stroke: #333333\"/>\n     <use xlink:href=\"#m4a07295dff\" x=\"110.719012\" y=\"224.989826\" style=\"fill: #4c72b0; stroke: #333333\"/>\n     <use xlink:href=\"#m4a07295dff\" x=\"229.768444\" y=\"70.908494\" style=\"fill: #4c72b0; stroke: #333333\"/>\n     <use xlink:href=\"#m4a07295dff\" x=\"267.767626\" y=\"74.322106\" style=\"fill: #4c72b0; stroke: #333333\"/>\n     <use xlink:href=\"#m4a07295dff\" x=\"103.719928\" y=\"213.642217\" style=\"fill: #4c72b0; stroke: #333333\"/>\n     <use xlink:href=\"#m4a07295dff\" x=\"247.891302\" y=\"71.289007\" style=\"fill: #4c72b0; stroke: #333333\"/>\n     <use xlink:href=\"#m4a07295dff\" x=\"105.837665\" y=\"206.464168\" style=\"fill: #4c72b0; stroke: #333333\"/>\n     <use xlink:href=\"#m4a07295dff\" x=\"223.471002\" y=\"65.125956\" style=\"fill: #4c72b0; stroke: #333333\"/>\n     <use xlink:href=\"#m4a07295dff\" x=\"124.570506\" y=\"212.956919\" style=\"fill: #4c72b0; stroke: #333333\"/>\n     <use xlink:href=\"#m4a07295dff\" x=\"231.959184\" y=\"75.345034\" style=\"fill: #4c72b0; stroke: #333333\"/>\n     <use xlink:href=\"#m4a07295dff\" x=\"247.000252\" y=\"75.977021\" style=\"fill: #4c72b0; stroke: #333333\"/>\n     <use xlink:href=\"#m4a07295dff\" x=\"246.57329\" y=\"75.33681\" style=\"fill: #4c72b0; stroke: #333333\"/>\n     <use xlink:href=\"#m4a07295dff\" x=\"112.624729\" y=\"181.237815\" style=\"fill: #4c72b0; stroke: #333333\"/>\n     <use xlink:href=\"#m4a07295dff\" x=\"106.203653\" y=\"198.038191\" style=\"fill: #4c72b0; stroke: #333333\"/>\n     <use xlink:href=\"#m4a07295dff\" x=\"130.518864\" y=\"215.28771\" style=\"fill: #4c72b0; stroke: #333333\"/>\n     <use xlink:href=\"#m4a07295dff\" x=\"120.120348\" y=\"233.136106\" style=\"fill: #4c72b0; stroke: #333333\"/>\n     <use xlink:href=\"#m4a07295dff\" x=\"112.690881\" y=\"218.526445\" style=\"fill: #4c72b0; stroke: #333333\"/>\n     <use xlink:href=\"#m4a07295dff\" x=\"121.15269\" y=\"204.381955\" style=\"fill: #4c72b0; stroke: #333333\"/>\n     <use xlink:href=\"#m4a07295dff\" x=\"104.868515\" y=\"202.89425\" style=\"fill: #4c72b0; stroke: #333333\"/>\n     <use xlink:href=\"#m4a07295dff\" x=\"235.309329\" y=\"76.10502\" style=\"fill: #4c72b0; stroke: #333333\"/>\n     <use xlink:href=\"#m4a07295dff\" x=\"237.538841\" y=\"64.11187\" style=\"fill: #4c72b0; stroke: #333333\"/>\n     <use xlink:href=\"#m4a07295dff\" x=\"247.500891\" y=\"55.440424\" style=\"fill: #4c72b0; stroke: #333333\"/>\n     <use xlink:href=\"#m4a07295dff\" x=\"113.403758\" y=\"223.649134\" style=\"fill: #4c72b0; stroke: #333333\"/>\n     <use xlink:href=\"#m4a07295dff\" x=\"241.446496\" y=\"54.865179\" style=\"fill: #4c72b0; stroke: #333333\"/>\n     <use xlink:href=\"#m4a07295dff\" x=\"241.323742\" y=\"70.376491\" style=\"fill: #4c72b0; stroke: #333333\"/>\n     <use xlink:href=\"#m4a07295dff\" x=\"120.2015\" y=\"223.719014\" style=\"fill: #4c72b0; stroke: #333333\"/>\n     <use xlink:href=\"#m4a07295dff\" x=\"77.343854\" y=\"228.20407\" style=\"fill: #4c72b0; stroke: #333333\"/>\n     <use xlink:href=\"#m4a07295dff\" x=\"99.467426\" y=\"219.387189\" style=\"fill: #4c72b0; stroke: #333333\"/>\n     <use xlink:href=\"#m4a07295dff\" x=\"233.063235\" y=\"52.502305\" style=\"fill: #4c72b0; stroke: #333333\"/>\n     <use xlink:href=\"#m4a07295dff\" x=\"247.14416\" y=\"60.46623\" style=\"fill: #4c72b0; stroke: #333333\"/>\n     <use xlink:href=\"#m4a07295dff\" x=\"75.94629\" y=\"217.305803\" style=\"fill: #4c72b0; stroke: #333333\"/>\n     <use xlink:href=\"#m4a07295dff\" x=\"229.327859\" y=\"77.503574\" style=\"fill: #4c72b0; stroke: #333333\"/>\n     <use xlink:href=\"#m4a07295dff\" x=\"128.74594\" y=\"218.76803\" style=\"fill: #4c72b0; stroke: #333333\"/>\n     <use xlink:href=\"#m4a07295dff\" x=\"243.887708\" y=\"74.534004\" style=\"fill: #4c72b0; stroke: #333333\"/>\n     <use xlink:href=\"#m4a07295dff\" x=\"136.483214\" y=\"211.71983\" style=\"fill: #4c72b0; stroke: #333333\"/>\n     <use xlink:href=\"#m4a07295dff\" x=\"255.445371\" y=\"89.04672\" style=\"fill: #4c72b0; stroke: #333333\"/>\n     <use xlink:href=\"#m4a07295dff\" x=\"252.088121\" y=\"53.904087\" style=\"fill: #4c72b0; stroke: #333333\"/>\n     <use xlink:href=\"#m4a07295dff\" x=\"91.263435\" y=\"183.428165\" style=\"fill: #4c72b0; stroke: #333333\"/>\n     <use xlink:href=\"#m4a07295dff\" x=\"259.630435\" y=\"67.220314\" style=\"fill: #4c72b0; stroke: #333333\"/>\n     <use xlink:href=\"#m4a07295dff\" x=\"228.610731\" y=\"39.986871\" style=\"fill: #4c72b0; stroke: #333333\"/>\n     <use xlink:href=\"#m4a07295dff\" x=\"113.441572\" y=\"213.103329\" style=\"fill: #4c72b0; stroke: #333333\"/>\n     <use xlink:href=\"#m4a07295dff\" x=\"90.366175\" y=\"208.161499\" style=\"fill: #4c72b0; stroke: #333333\"/>\n     <use xlink:href=\"#m4a07295dff\" x=\"101.193997\" y=\"189.031536\" style=\"fill: #4c72b0; stroke: #333333\"/>\n     <use xlink:href=\"#m4a07295dff\" x=\"87.512623\" y=\"196.889057\" style=\"fill: #4c72b0; stroke: #333333\"/>\n     <use xlink:href=\"#m4a07295dff\" x=\"248.879864\" y=\"70.678984\" style=\"fill: #4c72b0; stroke: #333333\"/>\n     <use xlink:href=\"#m4a07295dff\" x=\"260.608475\" y=\"62.214176\" style=\"fill: #4c72b0; stroke: #333333\"/>\n     <use xlink:href=\"#m4a07295dff\" x=\"233.790626\" y=\"86.10941\" style=\"fill: #4c72b0; stroke: #333333\"/>\n     <use xlink:href=\"#m4a07295dff\" x=\"95.433639\" y=\"221.749877\" style=\"fill: #4c72b0; stroke: #333333\"/>\n     <use xlink:href=\"#m4a07295dff\" x=\"235.78604\" y=\"66.413445\" style=\"fill: #4c72b0; stroke: #333333\"/>\n     <use xlink:href=\"#m4a07295dff\" x=\"232.076622\" y=\"66.851699\" style=\"fill: #4c72b0; stroke: #333333\"/>\n     <use xlink:href=\"#m4a07295dff\" x=\"92.5796\" y=\"229.890698\" style=\"fill: #4c72b0; stroke: #333333\"/>\n     <use xlink:href=\"#m4a07295dff\" x=\"120.258146\" y=\"200.875486\" style=\"fill: #4c72b0; stroke: #333333\"/>\n     <use xlink:href=\"#m4a07295dff\" x=\"83.927729\" y=\"212.135922\" style=\"fill: #4c72b0; stroke: #333333\"/>\n     <use xlink:href=\"#m4a07295dff\" x=\"110.056697\" y=\"187.077013\" style=\"fill: #4c72b0; stroke: #333333\"/>\n     <use xlink:href=\"#m4a07295dff\" x=\"238.315878\" y=\"60.324161\" style=\"fill: #4c72b0; stroke: #333333\"/>\n     <use xlink:href=\"#m4a07295dff\" x=\"256.671695\" y=\"72.082789\" style=\"fill: #4c72b0; stroke: #333333\"/>\n     <use xlink:href=\"#m4a07295dff\" x=\"118.091783\" y=\"203.819415\" style=\"fill: #4c72b0; stroke: #333333\"/>\n     <use xlink:href=\"#m4a07295dff\" x=\"137.556707\" y=\"215.277491\" style=\"fill: #4c72b0; stroke: #333333\"/>\n     <use xlink:href=\"#m4a07295dff\" x=\"110.409229\" y=\"208.735125\" style=\"fill: #4c72b0; stroke: #333333\"/>\n     <use xlink:href=\"#m4a07295dff\" x=\"245.937114\" y=\"72.433916\" style=\"fill: #4c72b0; stroke: #333333\"/>\n     <use xlink:href=\"#m4a07295dff\" x=\"245.070569\" y=\"73.216319\" style=\"fill: #4c72b0; stroke: #333333\"/>\n     <use xlink:href=\"#m4a07295dff\" x=\"103.169853\" y=\"213.909998\" style=\"fill: #4c72b0; stroke: #333333\"/>\n     <use xlink:href=\"#m4a07295dff\" x=\"233.419453\" y=\"69.037296\" style=\"fill: #4c72b0; stroke: #333333\"/>\n     <use xlink:href=\"#m4a07295dff\" x=\"211.818924\" y=\"84.313136\" style=\"fill: #4c72b0; stroke: #333333\"/>\n     <use xlink:href=\"#m4a07295dff\" x=\"242.760467\" y=\"67.840939\" style=\"fill: #4c72b0; stroke: #333333\"/>\n     <use xlink:href=\"#m4a07295dff\" x=\"130.054707\" y=\"206.286491\" style=\"fill: #4c72b0; stroke: #333333\"/>\n     <use xlink:href=\"#m4a07295dff\" x=\"247.863605\" y=\"58.48121\" style=\"fill: #4c72b0; stroke: #333333\"/>\n     <use xlink:href=\"#m4a07295dff\" x=\"112.947373\" y=\"198.663459\" style=\"fill: #4c72b0; stroke: #333333\"/>\n     <use xlink:href=\"#m4a07295dff\" x=\"115.851402\" y=\"222.94147\" style=\"fill: #4c72b0; stroke: #333333\"/>\n     <use xlink:href=\"#m4a07295dff\" x=\"128.177432\" y=\"209.68994\" style=\"fill: #4c72b0; stroke: #333333\"/>\n     <use xlink:href=\"#m4a07295dff\" x=\"227.326158\" y=\"42.253551\" style=\"fill: #4c72b0; stroke: #333333\"/>\n     <use xlink:href=\"#m4a07295dff\" x=\"248.533942\" y=\"49.816271\" style=\"fill: #4c72b0; stroke: #333333\"/>\n     <use xlink:href=\"#m4a07295dff\" x=\"238.467468\" y=\"66.437126\" style=\"fill: #4c72b0; stroke: #333333\"/>\n     <use xlink:href=\"#m4a07295dff\" x=\"119.723839\" y=\"208.148481\" style=\"fill: #4c72b0; stroke: #333333\"/>\n     <use xlink:href=\"#m4a07295dff\" x=\"95.378704\" y=\"211.446275\" style=\"fill: #4c72b0; stroke: #333333\"/>\n     <use xlink:href=\"#m4a07295dff\" x=\"120.480983\" y=\"200.774353\" style=\"fill: #4c72b0; stroke: #333333\"/>\n     <use xlink:href=\"#m4a07295dff\" x=\"223.875816\" y=\"72.13759\" style=\"fill: #4c72b0; stroke: #333333\"/>\n    </g>\n   </g>\n   <g id=\"PathCollection_2\">\n    <defs>\n     <path id=\"m9cb3a936c1\" d=\"M 0 3 \nC 0.795609 3 1.55874 2.683901 2.12132 2.12132 \nC 2.683901 1.55874 3 0.795609 3 0 \nC 3 -0.795609 2.683901 -1.55874 2.12132 -2.12132 \nC 1.55874 -2.683901 0.795609 -3 0 -3 \nC -0.795609 -3 -1.55874 -2.683901 -2.12132 -2.12132 \nC -2.683901 -1.55874 -3 -0.795609 -3 0 \nC -3 0.795609 -2.683901 1.55874 -2.12132 2.12132 \nC -1.55874 2.683901 -0.795609 3 0 3 \nz\n\" style=\"stroke: #333333\"/>\n    </defs>\n    <g clip-path=\"url(#pda9456f0fc)\">\n     <use xlink:href=\"#m9cb3a936c1\" x=\"248.93481\" y=\"197.9469\" style=\"fill: #dd8452; stroke: #333333\"/>\n     <use xlink:href=\"#m9cb3a936c1\" x=\"241.824478\" y=\"195.200631\" style=\"fill: #dd8452; stroke: #333333\"/>\n     <use xlink:href=\"#m9cb3a936c1\" x=\"235.240615\" y=\"224.417983\" style=\"fill: #dd8452; stroke: #333333\"/>\n     <use xlink:href=\"#m9cb3a936c1\" x=\"100.596968\" y=\"65.314577\" style=\"fill: #dd8452; stroke: #333333\"/>\n     <use xlink:href=\"#m9cb3a936c1\" x=\"96.564884\" y=\"55.377226\" style=\"fill: #dd8452; stroke: #333333\"/>\n     <use xlink:href=\"#m9cb3a936c1\" x=\"248.252893\" y=\"215.774389\" style=\"fill: #dd8452; stroke: #333333\"/>\n     <use xlink:href=\"#m9cb3a936c1\" x=\"244.68598\" y=\"204.685172\" style=\"fill: #dd8452; stroke: #333333\"/>\n     <use xlink:href=\"#m9cb3a936c1\" x=\"263.119276\" y=\"199.833788\" style=\"fill: #dd8452; stroke: #333333\"/>\n     <use xlink:href=\"#m9cb3a936c1\" x=\"248.135127\" y=\"197.215528\" style=\"fill: #dd8452; stroke: #333333\"/>\n     <use xlink:href=\"#m9cb3a936c1\" x=\"128.31443\" y=\"56.674921\" style=\"fill: #dd8452; stroke: #333333\"/>\n     <use xlink:href=\"#m9cb3a936c1\" x=\"246.404074\" y=\"198.244168\" style=\"fill: #dd8452; stroke: #333333\"/>\n     <use xlink:href=\"#m9cb3a936c1\" x=\"96.599018\" y=\"79.555681\" style=\"fill: #dd8452; stroke: #333333\"/>\n     <use xlink:href=\"#m9cb3a936c1\" x=\"238.528356\" y=\"205.322954\" style=\"fill: #dd8452; stroke: #333333\"/>\n     <use xlink:href=\"#m9cb3a936c1\" x=\"105.760424\" y=\"52.191002\" style=\"fill: #dd8452; stroke: #333333\"/>\n     <use xlink:href=\"#m9cb3a936c1\" x=\"251.538277\" y=\"233.998125\" style=\"fill: #dd8452; stroke: #333333\"/>\n     <use xlink:href=\"#m9cb3a936c1\" x=\"240.611378\" y=\"210.634482\" style=\"fill: #dd8452; stroke: #333333\"/>\n     <use xlink:href=\"#m9cb3a936c1\" x=\"229.006226\" y=\"219.585508\" style=\"fill: #dd8452; stroke: #333333\"/>\n     <use xlink:href=\"#m9cb3a936c1\" x=\"93.488227\" y=\"59.115575\" style=\"fill: #dd8452; stroke: #333333\"/>\n     <use xlink:href=\"#m9cb3a936c1\" x=\"115.627979\" y=\"64.039622\" style=\"fill: #dd8452; stroke: #333333\"/>\n     <use xlink:href=\"#m9cb3a936c1\" x=\"108.050331\" y=\"88.283869\" style=\"fill: #dd8452; stroke: #333333\"/>\n     <use xlink:href=\"#m9cb3a936c1\" x=\"92.448715\" y=\"69.683989\" style=\"fill: #dd8452; stroke: #333333\"/>\n     <use xlink:href=\"#m9cb3a936c1\" x=\"99.688863\" y=\"71.160067\" style=\"fill: #dd8452; stroke: #333333\"/>\n     <use xlink:href=\"#m9cb3a936c1\" x=\"257.91481\" y=\"193.084595\" style=\"fill: #dd8452; stroke: #333333\"/>\n     <use xlink:href=\"#m9cb3a936c1\" x=\"248.703719\" y=\"205.773909\" style=\"fill: #dd8452; stroke: #333333\"/>\n     <use xlink:href=\"#m9cb3a936c1\" x=\"220.418433\" y=\"192.596132\" style=\"fill: #dd8452; stroke: #333333\"/>\n     <use xlink:href=\"#m9cb3a936c1\" x=\"96.607032\" y=\"63.364782\" style=\"fill: #dd8452; stroke: #333333\"/>\n     <use xlink:href=\"#m9cb3a936c1\" x=\"239.006022\" y=\"221.720593\" style=\"fill: #dd8452; stroke: #333333\"/>\n     <use xlink:href=\"#m9cb3a936c1\" x=\"235.942731\" y=\"218.050918\" style=\"fill: #dd8452; stroke: #333333\"/>\n     <use xlink:href=\"#m9cb3a936c1\" x=\"235.039138\" y=\"187.221826\" style=\"fill: #dd8452; stroke: #333333\"/>\n     <use xlink:href=\"#m9cb3a936c1\" x=\"228.75237\" y=\"196.677624\" style=\"fill: #dd8452; stroke: #333333\"/>\n     <use xlink:href=\"#m9cb3a936c1\" x=\"228.313187\" y=\"225.086051\" style=\"fill: #dd8452; stroke: #333333\"/>\n     <use xlink:href=\"#m9cb3a936c1\" x=\"123.981621\" y=\"45.324492\" style=\"fill: #dd8452; stroke: #333333\"/>\n     <use xlink:href=\"#m9cb3a936c1\" x=\"240.631409\" y=\"200.380874\" style=\"fill: #dd8452; stroke: #333333\"/>\n     <use xlink:href=\"#m9cb3a936c1\" x=\"98.508064\" y=\"61.803459\" style=\"fill: #dd8452; stroke: #333333\"/>\n     <use xlink:href=\"#m9cb3a936c1\" x=\"257.023054\" y=\"214.262833\" style=\"fill: #dd8452; stroke: #333333\"/>\n     <use xlink:href=\"#m9cb3a936c1\" x=\"81.938297\" y=\"67.878855\" style=\"fill: #dd8452; stroke: #333333\"/>\n     <use xlink:href=\"#m9cb3a936c1\" x=\"134.332303\" y=\"61.404748\" style=\"fill: #dd8452; stroke: #333333\"/>\n     <use xlink:href=\"#m9cb3a936c1\" x=\"241.469944\" y=\"208.859145\" style=\"fill: #dd8452; stroke: #333333\"/>\n     <use xlink:href=\"#m9cb3a936c1\" x=\"238.663765\" y=\"204.579422\" style=\"fill: #dd8452; stroke: #333333\"/>\n     <use xlink:href=\"#m9cb3a936c1\" x=\"113.372849\" y=\"61.852076\" style=\"fill: #dd8452; stroke: #333333\"/>\n     <use xlink:href=\"#m9cb3a936c1\" x=\"231.794988\" y=\"196.889433\" style=\"fill: #dd8452; stroke: #333333\"/>\n     <use xlink:href=\"#m9cb3a936c1\" x=\"120.962856\" y=\"84.02354\" style=\"fill: #dd8452; stroke: #333333\"/>\n     <use xlink:href=\"#m9cb3a936c1\" x=\"105.530214\" y=\"94.530076\" style=\"fill: #dd8452; stroke: #333333\"/>\n     <use xlink:href=\"#m9cb3a936c1\" x=\"233.385645\" y=\"189.094809\" style=\"fill: #dd8452; stroke: #333333\"/>\n     <use xlink:href=\"#m9cb3a936c1\" x=\"259.503206\" y=\"204.643501\" style=\"fill: #dd8452; stroke: #333333\"/>\n     <use xlink:href=\"#m9cb3a936c1\" x=\"114.936929\" y=\"50.444971\" style=\"fill: #dd8452; stroke: #333333\"/>\n     <use xlink:href=\"#m9cb3a936c1\" x=\"100.572391\" y=\"66.957305\" style=\"fill: #dd8452; stroke: #333333\"/>\n     <use xlink:href=\"#m9cb3a936c1\" x=\"79.715939\" y=\"69.266204\" style=\"fill: #dd8452; stroke: #333333\"/>\n     <use xlink:href=\"#m9cb3a936c1\" x=\"246.054143\" y=\"186.357265\" style=\"fill: #dd8452; stroke: #333333\"/>\n     <use xlink:href=\"#m9cb3a936c1\" x=\"118.75302\" y=\"65.674845\" style=\"fill: #dd8452; stroke: #333333\"/>\n     <use xlink:href=\"#m9cb3a936c1\" x=\"265.938277\" y=\"211.010945\" style=\"fill: #dd8452; stroke: #333333\"/>\n     <use xlink:href=\"#m9cb3a936c1\" x=\"115.032493\" y=\"77.220922\" style=\"fill: #dd8452; stroke: #333333\"/>\n     <use xlink:href=\"#m9cb3a936c1\" x=\"123.649289\" y=\"89.776155\" style=\"fill: #dd8452; stroke: #333333\"/>\n     <use xlink:href=\"#m9cb3a936c1\" x=\"132.323423\" y=\"52.646918\" style=\"fill: #dd8452; stroke: #333333\"/>\n     <use xlink:href=\"#m9cb3a936c1\" x=\"229.404985\" y=\"233.266219\" style=\"fill: #dd8452; stroke: #333333\"/>\n     <use xlink:href=\"#m9cb3a936c1\" x=\"123.741702\" y=\"59.385396\" style=\"fill: #dd8452; stroke: #333333\"/>\n     <use xlink:href=\"#m9cb3a936c1\" x=\"111.992603\" y=\"68.757906\" style=\"fill: #dd8452; stroke: #333333\"/>\n     <use xlink:href=\"#m9cb3a936c1\" x=\"223.07756\" y=\"207.889503\" style=\"fill: #dd8452; stroke: #333333\"/>\n     <use xlink:href=\"#m9cb3a936c1\" x=\"237.242067\" y=\"203.322067\" style=\"fill: #dd8452; stroke: #333333\"/>\n     <use xlink:href=\"#m9cb3a936c1\" x=\"110.81395\" y=\"70.766871\" style=\"fill: #dd8452; stroke: #333333\"/>\n     <use xlink:href=\"#m9cb3a936c1\" x=\"108.354127\" y=\"38.902684\" style=\"fill: #dd8452; stroke: #333333\"/>\n     <use xlink:href=\"#m9cb3a936c1\" x=\"239.136145\" y=\"197.920194\" style=\"fill: #dd8452; stroke: #333333\"/>\n     <use xlink:href=\"#m9cb3a936c1\" x=\"234.247667\" y=\"209.044625\" style=\"fill: #dd8452; stroke: #333333\"/>\n     <use xlink:href=\"#m9cb3a936c1\" x=\"109.621565\" y=\"56.557606\" style=\"fill: #dd8452; stroke: #333333\"/>\n     <use xlink:href=\"#m9cb3a936c1\" x=\"100.867544\" y=\"43.334501\" style=\"fill: #dd8452; stroke: #333333\"/>\n     <use xlink:href=\"#m9cb3a936c1\" x=\"91.688221\" y=\"88.331074\" style=\"fill: #dd8452; stroke: #333333\"/>\n     <use xlink:href=\"#m9cb3a936c1\" x=\"113.629358\" y=\"68.191496\" style=\"fill: #dd8452; stroke: #333333\"/>\n     <use xlink:href=\"#m9cb3a936c1\" x=\"107.785727\" y=\"43.125105\" style=\"fill: #dd8452; stroke: #333333\"/>\n     <use xlink:href=\"#m9cb3a936c1\" x=\"106.836061\" y=\"60.533821\" style=\"fill: #dd8452; stroke: #333333\"/>\n     <use xlink:href=\"#m9cb3a936c1\" x=\"101.623369\" y=\"54.395161\" style=\"fill: #dd8452; stroke: #333333\"/>\n     <use xlink:href=\"#m9cb3a936c1\" x=\"224.998326\" y=\"217.394532\" style=\"fill: #dd8452; stroke: #333333\"/>\n     <use xlink:href=\"#m9cb3a936c1\" x=\"84.903025\" y=\"90.806366\" style=\"fill: #dd8452; stroke: #333333\"/>\n     <use xlink:href=\"#m9cb3a936c1\" x=\"238.271333\" y=\"198.828498\" style=\"fill: #dd8452; stroke: #333333\"/>\n     <use xlink:href=\"#m9cb3a936c1\" x=\"236.912063\" y=\"201.688711\" style=\"fill: #dd8452; stroke: #333333\"/>\n     <use xlink:href=\"#m9cb3a936c1\" x=\"258.25228\" y=\"175.139777\" style=\"fill: #dd8452; stroke: #333333\"/>\n     <use xlink:href=\"#m9cb3a936c1\" x=\"234.600606\" y=\"206.500672\" style=\"fill: #dd8452; stroke: #333333\"/>\n     <use xlink:href=\"#m9cb3a936c1\" x=\"108.654954\" y=\"76.906109\" style=\"fill: #dd8452; stroke: #333333\"/>\n     <use xlink:href=\"#m9cb3a936c1\" x=\"219.039709\" y=\"197.778485\" style=\"fill: #dd8452; stroke: #333333\"/>\n     <use xlink:href=\"#m9cb3a936c1\" x=\"230.481578\" y=\"194.70144\" style=\"fill: #dd8452; stroke: #333333\"/>\n     <use xlink:href=\"#m9cb3a936c1\" x=\"111.059699\" y=\"68.843787\" style=\"fill: #dd8452; stroke: #333333\"/>\n     <use xlink:href=\"#m9cb3a936c1\" x=\"129.25008\" y=\"56.413803\" style=\"fill: #dd8452; stroke: #333333\"/>\n     <use xlink:href=\"#m9cb3a936c1\" x=\"272.079389\" y=\"191.197604\" style=\"fill: #dd8452; stroke: #333333\"/>\n     <use xlink:href=\"#m9cb3a936c1\" x=\"110.979954\" y=\"62.834223\" style=\"fill: #dd8452; stroke: #333333\"/>\n     <use xlink:href=\"#m9cb3a936c1\" x=\"111.708655\" y=\"32.398125\" style=\"fill: #dd8452; stroke: #333333\"/>\n     <use xlink:href=\"#m9cb3a936c1\" x=\"116.655298\" y=\"90.119942\" style=\"fill: #dd8452; stroke: #333333\"/>\n     <use xlink:href=\"#m9cb3a936c1\" x=\"244.440471\" y=\"214.260159\" style=\"fill: #dd8452; stroke: #333333\"/>\n     <use xlink:href=\"#m9cb3a936c1\" x=\"229.523946\" y=\"196.949641\" style=\"fill: #dd8452; stroke: #333333\"/>\n     <use xlink:href=\"#m9cb3a936c1\" x=\"231.014695\" y=\"212.275816\" style=\"fill: #dd8452; stroke: #333333\"/>\n     <use xlink:href=\"#m9cb3a936c1\" x=\"106.275492\" y=\"60.877162\" style=\"fill: #dd8452; stroke: #333333\"/>\n     <use xlink:href=\"#m9cb3a936c1\" x=\"251.034222\" y=\"230.831549\" style=\"fill: #dd8452; stroke: #333333\"/>\n     <use xlink:href=\"#m9cb3a936c1\" x=\"232.587053\" y=\"218.174148\" style=\"fill: #dd8452; stroke: #333333\"/>\n     <use xlink:href=\"#m9cb3a936c1\" x=\"246.622382\" y=\"189.779295\" style=\"fill: #dd8452; stroke: #333333\"/>\n     <use xlink:href=\"#m9cb3a936c1\" x=\"132.131122\" y=\"52.676907\" style=\"fill: #dd8452; stroke: #333333\"/>\n     <use xlink:href=\"#m9cb3a936c1\" x=\"88.993944\" y=\"70.279191\" style=\"fill: #dd8452; stroke: #333333\"/>\n     <use xlink:href=\"#m9cb3a936c1\" x=\"232.381639\" y=\"205.574887\" style=\"fill: #dd8452; stroke: #333333\"/>\n     <use xlink:href=\"#m9cb3a936c1\" x=\"119.990722\" y=\"90.761333\" style=\"fill: #dd8452; stroke: #333333\"/>\n     <use xlink:href=\"#m9cb3a936c1\" x=\"125.189277\" y=\"49.895273\" style=\"fill: #dd8452; stroke: #333333\"/>\n     <use xlink:href=\"#m9cb3a936c1\" x=\"114.827863\" y=\"64.768133\" style=\"fill: #dd8452; stroke: #333333\"/>\n     <use xlink:href=\"#m9cb3a936c1\" x=\"118.341816\" y=\"59.568749\" style=\"fill: #dd8452; stroke: #333333\"/>\n    </g>\n   </g>\n   <g id=\"patch_3\">\n    <path d=\"M 59.024844 244.078125 \nL 59.024844 22.318125 \n\" style=\"fill: none; stroke: #ffffff; stroke-width: 1.25; stroke-linejoin: miter; stroke-linecap: square\"/>\n   </g>\n   <g id=\"patch_4\">\n    <path d=\"M 282.224844 244.078125 \nL 282.224844 22.318125 \n\" style=\"fill: none; stroke: #ffffff; stroke-width: 1.25; stroke-linejoin: miter; stroke-linecap: square\"/>\n   </g>\n   <g id=\"patch_5\">\n    <path d=\"M 59.024844 244.078125 \nL 282.224844 244.078125 \n\" style=\"fill: none; stroke: #ffffff; stroke-width: 1.25; stroke-linejoin: miter; stroke-linecap: square\"/>\n   </g>\n   <g id=\"patch_6\">\n    <path d=\"M 59.024844 22.318125 \nL 282.224844 22.318125 \n\" style=\"fill: none; stroke: #ffffff; stroke-width: 1.25; stroke-linejoin: miter; stroke-linecap: square\"/>\n   </g>\n   <g id=\"text_14\">\n    <!-- Dataset samples -->\n    <g style=\"fill: #262626\" transform=\"translate(120.282031 16.318125) scale(0.12 -0.12)\">\n     <defs>\n      <path id=\"DejaVuSans-44\" d=\"M 1259 4147 \nL 1259 519 \nL 2022 519 \nQ 2988 519 3436 956 \nQ 3884 1394 3884 2338 \nQ 3884 3275 3436 3711 \nQ 2988 4147 2022 4147 \nL 1259 4147 \nz\nM 628 4666 \nL 1925 4666 \nQ 3281 4666 3915 4102 \nQ 4550 3538 4550 2338 \nQ 4550 1131 3912 565 \nQ 3275 0 1925 0 \nL 628 0 \nL 628 4666 \nz\n\" transform=\"scale(0.015625)\"/>\n      <path id=\"DejaVuSans-61\" d=\"M 2194 1759 \nQ 1497 1759 1228 1600 \nQ 959 1441 959 1056 \nQ 959 750 1161 570 \nQ 1363 391 1709 391 \nQ 2188 391 2477 730 \nQ 2766 1069 2766 1631 \nL 2766 1759 \nL 2194 1759 \nz\nM 3341 1997 \nL 3341 0 \nL 2766 0 \nL 2766 531 \nQ 2569 213 2275 61 \nQ 1981 -91 1556 -91 \nQ 1019 -91 701 211 \nQ 384 513 384 1019 \nQ 384 1609 779 1909 \nQ 1175 2209 1959 2209 \nL 2766 2209 \nL 2766 2266 \nQ 2766 2663 2505 2880 \nQ 2244 3097 1772 3097 \nQ 1472 3097 1187 3025 \nQ 903 2953 641 2809 \nL 641 3341 \nQ 956 3463 1253 3523 \nQ 1550 3584 1831 3584 \nQ 2591 3584 2966 3190 \nQ 3341 2797 3341 1997 \nz\n\" transform=\"scale(0.015625)\"/>\n      <path id=\"DejaVuSans-74\" d=\"M 1172 4494 \nL 1172 3500 \nL 2356 3500 \nL 2356 3053 \nL 1172 3053 \nL 1172 1153 \nQ 1172 725 1289 603 \nQ 1406 481 1766 481 \nL 2356 481 \nL 2356 0 \nL 1766 0 \nQ 1100 0 847 248 \nQ 594 497 594 1153 \nL 594 3053 \nL 172 3053 \nL 172 3500 \nL 594 3500 \nL 594 4494 \nL 1172 4494 \nz\n\" transform=\"scale(0.015625)\"/>\n      <path id=\"DejaVuSans-73\" d=\"M 2834 3397 \nL 2834 2853 \nQ 2591 2978 2328 3040 \nQ 2066 3103 1784 3103 \nQ 1356 3103 1142 2972 \nQ 928 2841 928 2578 \nQ 928 2378 1081 2264 \nQ 1234 2150 1697 2047 \nL 1894 2003 \nQ 2506 1872 2764 1633 \nQ 3022 1394 3022 966 \nQ 3022 478 2636 193 \nQ 2250 -91 1575 -91 \nQ 1294 -91 989 -36 \nQ 684 19 347 128 \nL 347 722 \nQ 666 556 975 473 \nQ 1284 391 1588 391 \nQ 1994 391 2212 530 \nQ 2431 669 2431 922 \nQ 2431 1156 2273 1281 \nQ 2116 1406 1581 1522 \nL 1381 1569 \nQ 847 1681 609 1914 \nQ 372 2147 372 2553 \nQ 372 3047 722 3315 \nQ 1072 3584 1716 3584 \nQ 2034 3584 2315 3537 \nQ 2597 3491 2834 3397 \nz\n\" transform=\"scale(0.015625)\"/>\n      <path id=\"DejaVuSans-65\" d=\"M 3597 1894 \nL 3597 1613 \nL 953 1613 \nQ 991 1019 1311 708 \nQ 1631 397 2203 397 \nQ 2534 397 2845 478 \nQ 3156 559 3463 722 \nL 3463 178 \nQ 3153 47 2828 -22 \nQ 2503 -91 2169 -91 \nQ 1331 -91 842 396 \nQ 353 884 353 1716 \nQ 353 2575 817 3079 \nQ 1281 3584 2069 3584 \nQ 2775 3584 3186 3129 \nQ 3597 2675 3597 1894 \nz\nM 3022 2063 \nQ 3016 2534 2758 2815 \nQ 2500 3097 2075 3097 \nQ 1594 3097 1305 2825 \nQ 1016 2553 972 2059 \nL 3022 2063 \nz\n\" transform=\"scale(0.015625)\"/>\n      <path id=\"DejaVuSans-20\" transform=\"scale(0.015625)\"/>\n      <path id=\"DejaVuSans-6d\" d=\"M 3328 2828 \nQ 3544 3216 3844 3400 \nQ 4144 3584 4550 3584 \nQ 5097 3584 5394 3201 \nQ 5691 2819 5691 2113 \nL 5691 0 \nL 5113 0 \nL 5113 2094 \nQ 5113 2597 4934 2840 \nQ 4756 3084 4391 3084 \nQ 3944 3084 3684 2787 \nQ 3425 2491 3425 1978 \nL 3425 0 \nL 2847 0 \nL 2847 2094 \nQ 2847 2600 2669 2842 \nQ 2491 3084 2119 3084 \nQ 1678 3084 1418 2786 \nQ 1159 2488 1159 1978 \nL 1159 0 \nL 581 0 \nL 581 3500 \nL 1159 3500 \nL 1159 2956 \nQ 1356 3278 1631 3431 \nQ 1906 3584 2284 3584 \nQ 2666 3584 2933 3390 \nQ 3200 3197 3328 2828 \nz\n\" transform=\"scale(0.015625)\"/>\n      <path id=\"DejaVuSans-70\" d=\"M 1159 525 \nL 1159 -1331 \nL 581 -1331 \nL 581 3500 \nL 1159 3500 \nL 1159 2969 \nQ 1341 3281 1617 3432 \nQ 1894 3584 2278 3584 \nQ 2916 3584 3314 3078 \nQ 3713 2572 3713 1747 \nQ 3713 922 3314 415 \nQ 2916 -91 2278 -91 \nQ 1894 -91 1617 61 \nQ 1341 213 1159 525 \nz\nM 3116 1747 \nQ 3116 2381 2855 2742 \nQ 2594 3103 2138 3103 \nQ 1681 3103 1420 2742 \nQ 1159 2381 1159 1747 \nQ 1159 1113 1420 752 \nQ 1681 391 2138 391 \nQ 2594 391 2855 752 \nQ 3116 1113 3116 1747 \nz\n\" transform=\"scale(0.015625)\"/>\n      <path id=\"DejaVuSans-6c\" d=\"M 603 4863 \nL 1178 4863 \nL 1178 0 \nL 603 0 \nL 603 4863 \nz\n\" transform=\"scale(0.015625)\"/>\n     </defs>\n     <use xlink:href=\"#DejaVuSans-44\"/>\n     <use xlink:href=\"#DejaVuSans-61\" x=\"77.001953\"/>\n     <use xlink:href=\"#DejaVuSans-74\" x=\"138.28125\"/>\n     <use xlink:href=\"#DejaVuSans-61\" x=\"177.490234\"/>\n     <use xlink:href=\"#DejaVuSans-73\" x=\"238.769531\"/>\n     <use xlink:href=\"#DejaVuSans-65\" x=\"290.869141\"/>\n     <use xlink:href=\"#DejaVuSans-74\" x=\"352.392578\"/>\n     <use xlink:href=\"#DejaVuSans-20\" x=\"391.601562\"/>\n     <use xlink:href=\"#DejaVuSans-73\" x=\"423.388672\"/>\n     <use xlink:href=\"#DejaVuSans-61\" x=\"475.488281\"/>\n     <use xlink:href=\"#DejaVuSans-6d\" x=\"536.767578\"/>\n     <use xlink:href=\"#DejaVuSans-70\" x=\"634.179688\"/>\n     <use xlink:href=\"#DejaVuSans-6c\" x=\"697.65625\"/>\n     <use xlink:href=\"#DejaVuSans-65\" x=\"725.439453\"/>\n     <use xlink:href=\"#DejaVuSans-73\" x=\"786.962891\"/>\n    </g>\n   </g>\n   <g id=\"legend_1\">\n    <g id=\"patch_7\">\n     <path d=\"M 199.891562 150.994063 \nL 274.524844 150.994063 \nQ 276.724844 150.994063 276.724844 148.794063 \nL 276.724844 117.602188 \nQ 276.724844 115.402188 274.524844 115.402188 \nL 199.891562 115.402188 \nQ 197.691562 115.402188 197.691562 117.602188 \nL 197.691562 148.794063 \nQ 197.691562 150.994063 199.891562 150.994063 \nz\n\" style=\"fill: #eaeaf2; opacity: 0.8; stroke: #cccccc; stroke-linejoin: miter\"/>\n    </g>\n    <g id=\"PathCollection_3\">\n     <g>\n      <use xlink:href=\"#m4a07295dff\" x=\"213.091562\" y=\"125.272969\" style=\"fill: #4c72b0; stroke: #333333\"/>\n     </g>\n    </g>\n    <g id=\"text_15\">\n     <!-- Class 0 -->\n     <g style=\"fill: #262626\" transform=\"translate(232.891562 128.160469) scale(0.11 -0.11)\">\n      <defs>\n       <path id=\"DejaVuSans-43\" d=\"M 4122 4306 \nL 4122 3641 \nQ 3803 3938 3442 4084 \nQ 3081 4231 2675 4231 \nQ 1875 4231 1450 3742 \nQ 1025 3253 1025 2328 \nQ 1025 1406 1450 917 \nQ 1875 428 2675 428 \nQ 3081 428 3442 575 \nQ 3803 722 4122 1019 \nL 4122 359 \nQ 3791 134 3420 21 \nQ 3050 -91 2638 -91 \nQ 1578 -91 968 557 \nQ 359 1206 359 2328 \nQ 359 3453 968 4101 \nQ 1578 4750 2638 4750 \nQ 3056 4750 3426 4639 \nQ 3797 4528 4122 4306 \nz\n\" transform=\"scale(0.015625)\"/>\n      </defs>\n      <use xlink:href=\"#DejaVuSans-43\"/>\n      <use xlink:href=\"#DejaVuSans-6c\" x=\"69.824219\"/>\n      <use xlink:href=\"#DejaVuSans-61\" x=\"97.607422\"/>\n      <use xlink:href=\"#DejaVuSans-73\" x=\"158.886719\"/>\n      <use xlink:href=\"#DejaVuSans-73\" x=\"210.986328\"/>\n      <use xlink:href=\"#DejaVuSans-20\" x=\"263.085938\"/>\n      <use xlink:href=\"#DejaVuSans-30\" x=\"294.873047\"/>\n     </g>\n    </g>\n    <g id=\"PathCollection_4\">\n     <g>\n      <use xlink:href=\"#m9cb3a936c1\" x=\"213.091562\" y=\"141.418906\" style=\"fill: #dd8452; stroke: #333333\"/>\n     </g>\n    </g>\n    <g id=\"text_16\">\n     <!-- Class 1 -->\n     <g style=\"fill: #262626\" transform=\"translate(232.891562 144.306406) scale(0.11 -0.11)\">\n      <use xlink:href=\"#DejaVuSans-43\"/>\n      <use xlink:href=\"#DejaVuSans-6c\" x=\"69.824219\"/>\n      <use xlink:href=\"#DejaVuSans-61\" x=\"97.607422\"/>\n      <use xlink:href=\"#DejaVuSans-73\" x=\"158.886719\"/>\n      <use xlink:href=\"#DejaVuSans-73\" x=\"210.986328\"/>\n      <use xlink:href=\"#DejaVuSans-20\" x=\"263.085938\"/>\n      <use xlink:href=\"#DejaVuSans-31\" x=\"294.873047\"/>\n     </g>\n    </g>\n   </g>\n  </g>\n </g>\n <defs>\n  <clipPath id=\"pda9456f0fc\">\n   <rect x=\"59.024844\" y=\"22.318125\" width=\"223.2\" height=\"221.76\"/>\n  </clipPath>\n </defs>\n</svg>\n",
            "application/pdf": "[encoded data removed]"
          },
          "metadata": {}
        }
      ]
    },
    {
      "cell_type": "code",
      "source": [
        "data_loader = data.DataLoader(dataset, batch_size=8, shuffle=True)"
      ],
      "metadata": {
        "id": "NdWZO9M5tjAE"
      },
      "execution_count": 44,
      "outputs": []
    },
    {
      "cell_type": "code",
      "source": [
        "# next(iter(...)) catches the first batch of the data loader\n",
        "# If shuffle is True, this will return a different batch every time we run this cell\n",
        "# For iterating over the whole dataset, we can simple use \"for batch in data_loader: ...\"\n",
        "data_inputs, data_labels = next(iter(data_loader))\n",
        "\n",
        "# The shape of the outputs are [batch_size, d_1,...,d_N] where d_1,...,d_N are the\n",
        "# dimensions of the data point returned from the dataset class\n",
        "print(\"Data inputs\", data_inputs.shape, \"\\n\", data_inputs)\n",
        "print(\"Data labels\", data_labels.shape, \"\\n\", data_labels)"
      ],
      "metadata": {
        "colab": {
          "base_uri": "https://localhost:8080/"
        },
        "id": "yA7_DaWotlDS",
        "outputId": "b1a682ef-82d3-4959-a44c-c583ace0f8a8"
      },
      "execution_count": 45,
      "outputs": [
        {
          "output_type": "stream",
          "name": "stdout",
          "text": [
            "Data inputs torch.Size([8, 2]) \n",
            " tensor([[ 0.0957, -0.0276],\n",
            "        [ 0.1724, -0.0142],\n",
            "        [-0.0043,  1.0355],\n",
            "        [-0.0762,  1.0175],\n",
            "        [ 1.0245, -0.0026],\n",
            "        [ 0.9823, -0.1256],\n",
            "        [ 0.9771,  1.0395],\n",
            "        [ 1.0373,  0.0439]])\n",
            "Data labels torch.Size([8]) \n",
            " tensor([0, 0, 1, 1, 1, 1, 0, 1])\n"
          ]
        }
      ]
    },
    {
      "cell_type": "code",
      "source": [
        "# Input to the optimizer are the parameters of the model: model.parameters()\n",
        "optimizer = torch.optim.SGD(model.parameters(), lr=0.1)"
      ],
      "metadata": {
        "id": "UIZjxxKmttbx"
      },
      "execution_count": 46,
      "outputs": []
    },
    {
      "cell_type": "code",
      "source": [
        "loss_module = nn.BCEWithLogitsLoss()"
      ],
      "metadata": {
        "id": "iSkXgXhAuAmU"
      },
      "execution_count": 47,
      "outputs": []
    },
    {
      "cell_type": "code",
      "source": [
        "train_dataset = XORDataset(size=2500)\n",
        "train_data_loader = data.DataLoader(train_dataset, batch_size=128, shuffle=True)"
      ],
      "metadata": {
        "id": "JMWh7f-vuDUL"
      },
      "execution_count": 48,
      "outputs": []
    },
    {
      "cell_type": "code",
      "source": [
        "# Push model to device. Has to be only done once\n",
        "model.to(device)"
      ],
      "metadata": {
        "colab": {
          "base_uri": "https://localhost:8080/"
        },
        "id": "e_uzlC0uuJHh",
        "outputId": "3998162d-0f61-4039-e53b-f64b9f74d903"
      },
      "execution_count": 49,
      "outputs": [
        {
          "output_type": "execute_result",
          "data": {
            "text/plain": [
              "SimpleClassifier(\n",
              "  (linear1): Linear(in_features=2, out_features=4, bias=True)\n",
              "  (act_fn): Tanh()\n",
              "  (linear2): Linear(in_features=4, out_features=1, bias=True)\n",
              ")"
            ]
          },
          "metadata": {},
          "execution_count": 49
        }
      ]
    },
    {
      "cell_type": "code",
      "source": [
        "def train_model(model, optimizer, data_loader, loss_module, num_epochs=100):\n",
        "    # Set model to train mode\n",
        "    model.train()\n",
        "\n",
        "    # Training loop\n",
        "    for epoch in tqdm(range(num_epochs)):\n",
        "        for data_inputs, data_labels in data_loader:\n",
        "\n",
        "            ## Step 1: Move input data to device (only strictly necessary if we use GPU)\n",
        "            data_inputs = data_inputs.to(device)\n",
        "            data_labels = data_labels.to(device)\n",
        "\n",
        "            ## Step 2: Run the model on the input data\n",
        "            preds = model(data_inputs)\n",
        "            preds = preds.squeeze(dim=1) # Output is [Batch size, 1], but we want [Batch size]\n",
        "\n",
        "            ## Step 3: Calculate the loss\n",
        "            loss = loss_module(preds, data_labels.float())\n",
        "\n",
        "            ## Step 4: Perform backpropagation\n",
        "            # Before calculating the gradients, we need to ensure that they are all zero.\n",
        "            # The gradients would not be overwritten, but actually added to the existing ones.\n",
        "            optimizer.zero_grad()\n",
        "            # Perform backpropagation\n",
        "            loss.backward()\n",
        "\n",
        "            ## Step 5: Update the parameters\n",
        "            optimizer.step()"
      ],
      "metadata": {
        "id": "nOJ7TTYWuKgV"
      },
      "execution_count": 50,
      "outputs": []
    },
    {
      "cell_type": "code",
      "source": [
        "train_model(model, optimizer, train_data_loader, loss_module)\n"
      ],
      "metadata": {
        "colab": {
          "base_uri": "https://localhost:8080/",
          "height": 49,
          "referenced_widgets": [
            "be2efb030f174060894a2718eadbc4b8",
            "2c824341c3164979adc54736c99216e2",
            "24ce3c8715a24050b4eab76772471968",
            "e19a6760f85e4924946e1ba7d200c94e",
            "673e3a376df44ebc91ec2dd708502ca8",
            "5b340661145e4a8d872c20a9ac3ddf08",
            "641c91a3dce344c5b8a89c28ec847d10",
            "314f0a59ed8c48659523c89123158553",
            "9f05183fa2d9415c8296464f75432f7a",
            "6bad98185fdb4a6c8f7b3e06bce94f41",
            "9b708b9357cb4f7bbdf5da9e08fd7e7a"
          ]
        },
        "id": "AcQBy2j4uMfi",
        "outputId": "c104d7c7-776c-4a3d-cd53-7f9330c59250"
      },
      "execution_count": 51,
      "outputs": [
        {
          "output_type": "display_data",
          "data": {
            "text/plain": [
              "  0%|          | 0/100 [00:00<?, ?it/s]"
            ],
            "application/vnd.jupyter.widget-view+json": {
              "version_major": 2,
              "version_minor": 0,
              "model_id": "be2efb030f174060894a2718eadbc4b8"
            }
          },
          "metadata": {}
        }
      ]
    },
    {
      "cell_type": "code",
      "source": [
        "state_dict = model.state_dict()\n",
        "print(state_dict)"
      ],
      "metadata": {
        "colab": {
          "base_uri": "https://localhost:8080/"
        },
        "id": "l9RFzgAvuOym",
        "outputId": "5c7d3c93-27af-481a-df9f-b325bf69d974"
      },
      "execution_count": 52,
      "outputs": [
        {
          "output_type": "stream",
          "name": "stdout",
          "text": [
            "OrderedDict([('linear1.weight', tensor([[ 2.5669, -3.4642],\n",
            "        [-2.5321, -2.6009],\n",
            "        [-0.3606, -0.2321],\n",
            "        [ 3.1429, -1.7148]], device='cuda:0')), ('linear1.bias', tensor([-1.0330,  0.6332,  0.3167,  0.3105], device='cuda:0')), ('linear2.weight', tensor([[ 4.3211, -3.9002,  0.4955, -4.2718]], device='cuda:0')), ('linear2.bias', tensor([0.7149], device='cuda:0'))])\n"
          ]
        }
      ]
    },
    {
      "cell_type": "code",
      "source": [
        "# torch.save(object, filename). For the filename, any extension can be used\n",
        "torch.save(state_dict, \"our_model.tar\")"
      ],
      "metadata": {
        "id": "p440sxlyuQ2w"
      },
      "execution_count": 53,
      "outputs": []
    },
    {
      "cell_type": "code",
      "source": [
        "# Load state dict from the disk (make sure it is the same name as above)\n",
        "state_dict = torch.load(\"our_model.tar\")\n",
        "\n",
        "# Create a new model and load the state\n",
        "new_model = SimpleClassifier(num_inputs=2, num_hidden=4, num_outputs=1)\n",
        "new_model.load_state_dict(state_dict)\n",
        "\n",
        "# Verify that the parameters are the same\n",
        "print(\"Original model\\n\", model.state_dict())\n",
        "print(\"\\nLoaded model\\n\", new_model.state_dict())"
      ],
      "metadata": {
        "colab": {
          "base_uri": "https://localhost:8080/"
        },
        "id": "dz7nKq47uTrU",
        "outputId": "2c7d4383-4b3d-42df-a4b8-194e3ce03086"
      },
      "execution_count": 58,
      "outputs": [
        {
          "output_type": "stream",
          "name": "stdout",
          "text": [
            "Original model\n",
            " OrderedDict([('linear1.weight', tensor([[ 2.5669, -3.4642],\n",
            "        [-2.5321, -2.6009],\n",
            "        [-0.3606, -0.2321],\n",
            "        [ 3.1429, -1.7148]], device='cuda:0')), ('linear1.bias', tensor([-1.0330,  0.6332,  0.3167,  0.3105], device='cuda:0')), ('linear2.weight', tensor([[ 4.3211, -3.9002,  0.4955, -4.2718]], device='cuda:0')), ('linear2.bias', tensor([0.7149], device='cuda:0'))])\n",
            "\n",
            "Loaded model\n",
            " OrderedDict([('linear1.weight', tensor([[ 2.5669, -3.4642],\n",
            "        [-2.5321, -2.6009],\n",
            "        [-0.3606, -0.2321],\n",
            "        [ 3.1429, -1.7148]])), ('linear1.bias', tensor([-1.0330,  0.6332,  0.3167,  0.3105])), ('linear2.weight', tensor([[ 4.3211, -3.9002,  0.4955, -4.2718]])), ('linear2.bias', tensor([0.7149]))])\n"
          ]
        }
      ]
    },
    {
      "cell_type": "code",
      "source": [],
      "metadata": {
        "id": "V4RuRZlyuVei"
      },
      "execution_count": 54,
      "outputs": []
    }
  ]
}